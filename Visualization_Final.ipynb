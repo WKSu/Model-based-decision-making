{
 "cells": [
  {
   "cell_type": "code",
   "execution_count": null,
   "metadata": {},
   "outputs": [],
   "source": [
    "!jupyter nbconvert --to script Visualization_Final.ipynb"
   ]
  },
  {
   "cell_type": "code",
   "execution_count": 1,
   "metadata": {},
   "outputs": [],
   "source": [
    "import numpy as np\n",
    "import scipy as sp\n",
    "import pandas as pd\n",
    "import matplotlib.pyplot as plt\n",
    "import seaborn as sns\n",
    "import time"
   ]
  },
  {
   "cell_type": "code",
   "execution_count": 2,
   "metadata": {},
   "outputs": [
    {
     "data": {
      "text/plain": [
       "<Logger EMA (DEBUG)>"
      ]
     },
     "execution_count": 2,
     "metadata": {},
     "output_type": "execute_result"
    }
   ],
   "source": [
    "from ema_workbench import (Model, CategoricalParameter,\n",
    "                           ScalarOutcome, IntegerParameter, RealParameter)\n",
    "\n",
    "from ema_workbench import (Model, MultiprocessingEvaluator, Policy, Scenario, SequentialEvaluator)\n",
    "\n",
    "from ema_workbench.em_framework.evaluators import perform_experiments, optimize\n",
    "from ema_workbench.em_framework.samplers import sample_uncertainties\n",
    "from ema_workbench.util import ema_logging, utilities\n",
    "\n",
    "ema_logging.log_to_stderr(ema_logging.INFO)"
   ]
  },
  {
   "cell_type": "markdown",
   "metadata": {},
   "source": [
    "# 1. Data Visualization"
   ]
  },
  {
   "cell_type": "markdown",
   "metadata": {},
   "source": [
    "## 1.1 Single Policy Analysis"
   ]
  },
  {
   "cell_type": "code",
   "execution_count": 3,
   "metadata": {},
   "outputs": [
    {
     "name": "stderr",
     "output_type": "stream",
     "text": [
      "[MainProcess/INFO] results loaded succesfully from C:\\Users\\newbi\\project-local\\Model-based-decision-making\\outcomes\\1000ScenariosBaseCase.csv\n"
     ]
    },
    {
     "data": {
      "text/html": [
       "<div>\n",
       "<style scoped>\n",
       "    .dataframe tbody tr th:only-of-type {\n",
       "        vertical-align: middle;\n",
       "    }\n",
       "\n",
       "    .dataframe tbody tr th {\n",
       "        vertical-align: top;\n",
       "    }\n",
       "\n",
       "    .dataframe thead th {\n",
       "        text-align: right;\n",
       "    }\n",
       "</style>\n",
       "<table border=\"1\" class=\"dataframe\">\n",
       "  <thead>\n",
       "    <tr style=\"text-align: right;\">\n",
       "      <th></th>\n",
       "      <th>A.0_ID flood wave shape</th>\n",
       "      <th>A.1_Bmax</th>\n",
       "      <th>A.1_Brate</th>\n",
       "      <th>A.1_pfail</th>\n",
       "      <th>A.2_Bmax</th>\n",
       "      <th>A.2_Brate</th>\n",
       "      <th>A.2_pfail</th>\n",
       "      <th>A.3_Bmax</th>\n",
       "      <th>A.3_Brate</th>\n",
       "      <th>A.3_pfail</th>\n",
       "      <th>...</th>\n",
       "      <th>A.3_Dike Investment Costs 2</th>\n",
       "      <th>A.3_Expected Number of Deaths 2</th>\n",
       "      <th>A.4_Expected Annual Damage 2</th>\n",
       "      <th>A.4_Dike Investment Costs 2</th>\n",
       "      <th>A.4_Expected Number of Deaths 2</th>\n",
       "      <th>A.5_Expected Annual Damage 2</th>\n",
       "      <th>A.5_Dike Investment Costs 2</th>\n",
       "      <th>A.5_Expected Number of Deaths 2</th>\n",
       "      <th>RfR Total Costs 2</th>\n",
       "      <th>Expected Evacuation Costs 2</th>\n",
       "    </tr>\n",
       "  </thead>\n",
       "  <tbody>\n",
       "    <tr>\n",
       "      <th>0</th>\n",
       "      <td>64.0</td>\n",
       "      <td>341.707998</td>\n",
       "      <td>10.0</td>\n",
       "      <td>0.008967</td>\n",
       "      <td>329.059434</td>\n",
       "      <td>1.0</td>\n",
       "      <td>0.671443</td>\n",
       "      <td>46.836038</td>\n",
       "      <td>1.0</td>\n",
       "      <td>0.541864</td>\n",
       "      <td>...</td>\n",
       "      <td>0</td>\n",
       "      <td>0.000000</td>\n",
       "      <td>0.0</td>\n",
       "      <td>0</td>\n",
       "      <td>0.0</td>\n",
       "      <td>0.0</td>\n",
       "      <td>0</td>\n",
       "      <td>0.0</td>\n",
       "      <td>0.0</td>\n",
       "      <td>0.0</td>\n",
       "    </tr>\n",
       "    <tr>\n",
       "      <th>1</th>\n",
       "      <td>49.0</td>\n",
       "      <td>270.516534</td>\n",
       "      <td>1.0</td>\n",
       "      <td>0.389864</td>\n",
       "      <td>64.116779</td>\n",
       "      <td>1.0</td>\n",
       "      <td>0.458602</td>\n",
       "      <td>211.600292</td>\n",
       "      <td>1.5</td>\n",
       "      <td>0.030226</td>\n",
       "      <td>...</td>\n",
       "      <td>0</td>\n",
       "      <td>1.053592</td>\n",
       "      <td>0.0</td>\n",
       "      <td>0</td>\n",
       "      <td>0.0</td>\n",
       "      <td>0.0</td>\n",
       "      <td>0</td>\n",
       "      <td>0.0</td>\n",
       "      <td>0.0</td>\n",
       "      <td>0.0</td>\n",
       "    </tr>\n",
       "    <tr>\n",
       "      <th>2</th>\n",
       "      <td>109.0</td>\n",
       "      <td>217.092157</td>\n",
       "      <td>1.0</td>\n",
       "      <td>0.720433</td>\n",
       "      <td>119.844801</td>\n",
       "      <td>1.5</td>\n",
       "      <td>0.445405</td>\n",
       "      <td>332.843340</td>\n",
       "      <td>10.0</td>\n",
       "      <td>0.123183</td>\n",
       "      <td>...</td>\n",
       "      <td>0</td>\n",
       "      <td>1.091069</td>\n",
       "      <td>0.0</td>\n",
       "      <td>0</td>\n",
       "      <td>0.0</td>\n",
       "      <td>0.0</td>\n",
       "      <td>0</td>\n",
       "      <td>0.0</td>\n",
       "      <td>0.0</td>\n",
       "      <td>0.0</td>\n",
       "    </tr>\n",
       "    <tr>\n",
       "      <th>3</th>\n",
       "      <td>106.0</td>\n",
       "      <td>314.195207</td>\n",
       "      <td>1.0</td>\n",
       "      <td>0.000931</td>\n",
       "      <td>149.934556</td>\n",
       "      <td>10.0</td>\n",
       "      <td>0.203409</td>\n",
       "      <td>177.126583</td>\n",
       "      <td>1.5</td>\n",
       "      <td>0.900999</td>\n",
       "      <td>...</td>\n",
       "      <td>0</td>\n",
       "      <td>0.000000</td>\n",
       "      <td>0.0</td>\n",
       "      <td>0</td>\n",
       "      <td>0.0</td>\n",
       "      <td>0.0</td>\n",
       "      <td>0</td>\n",
       "      <td>0.0</td>\n",
       "      <td>0.0</td>\n",
       "      <td>0.0</td>\n",
       "    </tr>\n",
       "    <tr>\n",
       "      <th>4</th>\n",
       "      <td>123.0</td>\n",
       "      <td>331.097660</td>\n",
       "      <td>1.5</td>\n",
       "      <td>0.138750</td>\n",
       "      <td>275.055604</td>\n",
       "      <td>1.0</td>\n",
       "      <td>0.296295</td>\n",
       "      <td>172.209395</td>\n",
       "      <td>1.5</td>\n",
       "      <td>0.888339</td>\n",
       "      <td>...</td>\n",
       "      <td>0</td>\n",
       "      <td>0.000000</td>\n",
       "      <td>0.0</td>\n",
       "      <td>0</td>\n",
       "      <td>0.0</td>\n",
       "      <td>0.0</td>\n",
       "      <td>0</td>\n",
       "      <td>0.0</td>\n",
       "      <td>0.0</td>\n",
       "      <td>0.0</td>\n",
       "    </tr>\n",
       "  </tbody>\n",
       "</table>\n",
       "<p>5 rows × 103 columns</p>\n",
       "</div>"
      ],
      "text/plain": [
       "   A.0_ID flood wave shape    A.1_Bmax A.1_Brate  A.1_pfail    A.2_Bmax  \\\n",
       "0                     64.0  341.707998      10.0   0.008967  329.059434   \n",
       "1                     49.0  270.516534       1.0   0.389864   64.116779   \n",
       "2                    109.0  217.092157       1.0   0.720433  119.844801   \n",
       "3                    106.0  314.195207       1.0   0.000931  149.934556   \n",
       "4                    123.0  331.097660       1.5   0.138750  275.055604   \n",
       "\n",
       "  A.2_Brate  A.2_pfail    A.3_Bmax A.3_Brate  A.3_pfail  ...  \\\n",
       "0       1.0   0.671443   46.836038       1.0   0.541864  ...   \n",
       "1       1.0   0.458602  211.600292       1.5   0.030226  ...   \n",
       "2       1.5   0.445405  332.843340      10.0   0.123183  ...   \n",
       "3      10.0   0.203409  177.126583       1.5   0.900999  ...   \n",
       "4       1.0   0.296295  172.209395       1.5   0.888339  ...   \n",
       "\n",
       "   A.3_Dike Investment Costs 2 A.3_Expected Number of Deaths 2  \\\n",
       "0                            0                        0.000000   \n",
       "1                            0                        1.053592   \n",
       "2                            0                        1.091069   \n",
       "3                            0                        0.000000   \n",
       "4                            0                        0.000000   \n",
       "\n",
       "   A.4_Expected Annual Damage 2  A.4_Dike Investment Costs 2  \\\n",
       "0                           0.0                            0   \n",
       "1                           0.0                            0   \n",
       "2                           0.0                            0   \n",
       "3                           0.0                            0   \n",
       "4                           0.0                            0   \n",
       "\n",
       "  A.4_Expected Number of Deaths 2  A.5_Expected Annual Damage 2  \\\n",
       "0                             0.0                           0.0   \n",
       "1                             0.0                           0.0   \n",
       "2                             0.0                           0.0   \n",
       "3                             0.0                           0.0   \n",
       "4                             0.0                           0.0   \n",
       "\n",
       "  A.5_Dike Investment Costs 2 A.5_Expected Number of Deaths 2  \\\n",
       "0                           0                             0.0   \n",
       "1                           0                             0.0   \n",
       "2                           0                             0.0   \n",
       "3                           0                             0.0   \n",
       "4                           0                             0.0   \n",
       "\n",
       "  RfR Total Costs 2  Expected Evacuation Costs 2  \n",
       "0               0.0                          0.0  \n",
       "1               0.0                          0.0  \n",
       "2               0.0                          0.0  \n",
       "3               0.0                          0.0  \n",
       "4               0.0                          0.0  \n",
       "\n",
       "[5 rows x 103 columns]"
      ]
     },
     "execution_count": 3,
     "metadata": {},
     "output_type": "execute_result"
    }
   ],
   "source": [
    "# Load in the file you want to analyze\n",
    "# Single Policy experiments:\n",
    "# 200ScenariosRWSPolicies\n",
    "# 1000ScenariosBaseCase\n",
    "\n",
    "# Multiple policy experiments\n",
    "# 1000ScenariosBaseRfRDikePolicies\n",
    "# 200Scenarios50Policies\n",
    "# 400Scenarios75Policies\n",
    "\n",
    "results = utilities.load_results('outcomes/1000ScenariosBaseCase.csv')\n",
    "\n",
    "experiments, outcomes = results\n",
    "outcomes = pd.DataFrame(outcomes)\n",
    "experiments = pd.DataFrame(experiments)\n",
    "results = experiments.join(outcomes)\n",
    "results = results.drop(columns=\"model\")\n",
    "# results = results.apply(pd.to_numeric)\n",
    "results.head()"
   ]
  },
  {
   "cell_type": "code",
   "execution_count": 4,
   "metadata": {},
   "outputs": [
    {
     "data": {
      "text/plain": [
       "[base case]\n",
       "Categories (1, object): [base case]"
      ]
     },
     "execution_count": 4,
     "metadata": {},
     "output_type": "execute_result"
    }
   ],
   "source": [
    "results[\"policy\"].unique()"
   ]
  },
  {
   "cell_type": "code",
   "execution_count": null,
   "metadata": {},
   "outputs": [],
   "source": [
    "# Select the policy name for multiple policy experiments otherwise ignore\n",
    "# Replace the df (results) as parameter of the functions with policy_df\n",
    "# policy_df = results[results[\"policy\"] == \"RfR only\"]"
   ]
  },
  {
   "cell_type": "markdown",
   "metadata": {},
   "source": [
    "### 1.1.1 Histograms of the outcomes per location and timestep"
   ]
  },
  {
   "cell_type": "code",
   "execution_count": null,
   "metadata": {},
   "outputs": [],
   "source": [
    "def histogram_maker(results, outcome, n = 3):\n",
    "    locations = [\"A.1\", \"A.2\", \"A.3\", \"A.4\", \"A.5\"]\n",
    "    colors = ['tab:red', 'tab:blue', 'tab:green', 'tab:pink', 'tab:olive']\n",
    "\n",
    "\n",
    "    print(\"Plot \" + str(outcome) + \"(Histogram)\")\n",
    "    for step in range(0, n):\n",
    "        print(\"This is timestep \" + str(step))\n",
    "        fig, axes = plt.subplots(1, 5, figsize=(10, 3))\n",
    "\n",
    "        for i, (ax, place) in enumerate(zip(axes.flatten(), locations)):\n",
    "            # ax.hist(results[str(place) + \"_Expected Annual Damage \" + str(step)], color=colors[i])\n",
    "            ax.hist(results[str(place) + \"_\" + str(outcome) + \" \" + str(step)], color=colors[i])\n",
    "            ax.set_xlim(left = 0)\n",
    "            ax.set_title(place)\n",
    "\n",
    "        plt.tight_layout()\n",
    "        plt.show()"
   ]
  },
  {
   "cell_type": "code",
   "execution_count": null,
   "metadata": {},
   "outputs": [],
   "source": [
    "histogram_maker(results, \"Expected Annual Damage\")\n",
    "histogram_maker(results, \"Expected Number of Deaths\")"
   ]
  },
  {
   "cell_type": "markdown",
   "metadata": {},
   "source": [
    "### 1.1.2 Mean of the outcomes per location and timestep"
   ]
  },
  {
   "cell_type": "code",
   "execution_count": null,
   "metadata": {},
   "outputs": [],
   "source": [
    "mean_outcomes_df = results.iloc[:, 52:].apply(np.mean, axis = 0)"
   ]
  },
  {
   "cell_type": "code",
   "execution_count": 5,
   "metadata": {},
   "outputs": [],
   "source": [
    "# https://stackoverflow.com/a/56253636\n",
    "def legend_without_duplicate_labels(ax):\n",
    "    handles, labels = ax.get_legend_handles_labels()\n",
    "    unique = [(h, l) for i, (h, l) in enumerate(zip(handles, labels)) if l not in labels[:i]]\n",
    "    ax.legend(*zip(*unique))\n",
    "    \n",
    "def mean_outcomes(results):\n",
    "    # Get the mean for all the results across the scenarios to have a quick look at significant locations\n",
    "    mean_outcomes_df = results.iloc[:, 52:].apply(np.mean, axis = 0)\n",
    "    \n",
    "    locations = [\"A.1\", \"A.2\", \"A.3\", \"A.4\", \"A.5\"]\n",
    "    outcomes = [\"Expected Annual Damage\", \"Expected Number of Deaths\", \"Dike Investment Costs\", \"RfR Total Costs\"]\n",
    "    x = [0, 1, 2]\n",
    "\n",
    "    fig, axes = plt.subplots(ncols=2, nrows=2, figsize=(8,8), sharex=True)\n",
    "    axes = [axes[0,0],axes[0,1],axes[1,0],axes[1,1]]\n",
    "\n",
    "    for ax, criteria in zip(axes, outcomes):\n",
    "        for step in x:\n",
    "            for place in locations:\n",
    "                if criteria == \"RfR Total Costs\":\n",
    "                    ax.plot(step, mean_outcomes_df[[str(criteria) + \" \" + str(step)]].values[0], 'ro', c ='y')\n",
    "                else:\n",
    "                    if place == \"A.1\":\n",
    "                        ax.plot(step, mean_outcomes_df[[str(place) + \"_\" + str(criteria) + \" \" + str(step)]].values[0], \n",
    "                                'ro', c=\"b\", label = \"A.1\")\n",
    "                    elif place == \"A.2\":\n",
    "                        ax.plot(step, mean_outcomes_df[[str(place) + \"_\" + str(criteria) + \" \" + str(step)]].values[0], \n",
    "                                'ro', c=\"r\", label = \"A.2\")\n",
    "                    elif place == \"A.3\":\n",
    "                        ax.plot(step, mean_outcomes_df[[str(place) + \"_\" + str(criteria) + \" \" + str(step)]].values[0], \n",
    "                                'ro', c=\"g\", label = \"A.3\")\n",
    "                    elif place == \"A.4\":\n",
    "                        ax.plot(step, mean_outcomes_df[[str(place) + \"_\" + str(criteria) + \" \" + str(step)]].values[0], \n",
    "                                'ro', c=\"m\", label = \"A.4\")\n",
    "                    elif place == \"A.5\":\n",
    "                        ax.plot(step, mean_outcomes_df[[str(place) + \"_\" + str(criteria) + \" \" + str(step)]].values[0], \n",
    "                                'ro', c=\"c\", label = \"A.5\")\n",
    "\n",
    "        ax.set_xlabel(\"Time Steps\")\n",
    "        ax.set_ylabel(criteria)\n",
    "        ax.set_title(str(criteria) + \" over the locations\", y = 1.1)\n",
    "        legend_without_duplicate_labels(ax)\n",
    "\n",
    "\n",
    "    plt.tight_layout()\n",
    "    plt.show()"
   ]
  },
  {
   "cell_type": "code",
   "execution_count": 6,
   "metadata": {},
   "outputs": [
    {
     "name": "stderr",
     "output_type": "stream",
     "text": [
      "No handles with labels found to put in legend.\n"
     ]
    },
    {
     "data": {
      "image/png": "[encoded data removed]",
      "text/plain": [
       "<Figure size 576x576 with 4 Axes>"
      ]
     },
     "metadata": {},
     "output_type": "display_data"
    }
   ],
   "source": [
    "mean_outcomes(results)"
   ]
  },
  {
   "cell_type": "markdown",
   "metadata": {},
   "source": [
    "## 1.2 Multiple Policies Analysis"
   ]
  },
  {
   "cell_type": "code",
   "execution_count": null,
   "metadata": {},
   "outputs": [],
   "source": [
    "results = utilities.load_results('outcomes/400Scenarios75Policies.csv')\n",
    "\n",
    "experiments, outcomes = results\n",
    "outcomes = pd.DataFrame(outcomes)\n",
    "experiments = pd.DataFrame(experiments)\n",
    "results = experiments.join(outcomes)\n",
    "results[\"policy\"] = results[\"policy\"].astype(str)\n",
    "results.head()"
   ]
  },
  {
   "cell_type": "code",
   "execution_count": null,
   "metadata": {},
   "outputs": [],
   "source": [
    "outcomes"
   ]
  },
  {
   "cell_type": "code",
   "execution_count": null,
   "metadata": {},
   "outputs": [],
   "source": [
    "def aggregate_outcomes(results, outcome):\n",
    "    list_outcomes_columns = []\n",
    "    \n",
    "    for i in results.columns:\n",
    "        if outcome in i:\n",
    "            list_outcomes_columns.append(i)\n",
    "            \n",
    "    results[\"Total \" + str(outcome)] = results[list_outcomes_columns].sum(axis = 1)"
   ]
  },
  {
   "cell_type": "code",
   "execution_count": null,
   "metadata": {},
   "outputs": [],
   "source": [
    "aggregate_outcomes(results, \"Expected Number of Deaths\")\n",
    "aggregate_outcomes(results, \"Expected Annual Damage\")\n",
    "aggregate_outcomes(results, \"Dike Investment Costs\")\n",
    "aggregate_outcomes(results, \"RfR Total Costs\")\n",
    "aggregate_outcomes(results, \"Expected Evacuation Costs\")"
   ]
  },
  {
   "cell_type": "code",
   "execution_count": null,
   "metadata": {},
   "outputs": [],
   "source": [
    "results.head()"
   ]
  },
  {
   "cell_type": "code",
   "execution_count": null,
   "metadata": {},
   "outputs": [],
   "source": [
    "y = results.iloc[:, -5:]"
   ]
  },
  {
   "cell_type": "code",
   "execution_count": null,
   "metadata": {},
   "outputs": [],
   "source": [
    "fs = feature_scoring.get_feature_scores_all(x, y)"
   ]
  },
  {
   "cell_type": "code",
   "execution_count": null,
   "metadata": {},
   "outputs": [],
   "source": [
    "fig = plt.subplots(figsize=(10,10))\n",
    "sns.heatmap(fs, cmap='viridis', annot=True, )\n",
    "plt.show()"
   ]
  },
  {
   "cell_type": "markdown",
   "metadata": {},
   "source": [
    "### 1.2.1 Scatterplot over locations, time steps, and policies"
   ]
  },
  {
   "cell_type": "code",
   "execution_count": null,
   "metadata": {},
   "outputs": [],
   "source": [
    "def scatter_maker(results, outcome, n = 3):\n",
    "    locations = [\"A.1\", \"A.2\", \"A.3\", \"A.4\", \"A.5\"]\n",
    "    \n",
    "    print(\"Plot \" + str(outcome) + \"(Scatterplot)\")\n",
    "    for step in range(0, n):\n",
    "        print(\"This is timestep \" + str(step))\n",
    "        fig, axes = plt.subplots(1, 5, figsize=(15, 4))\n",
    "\n",
    "        for i, (ax, place) in enumerate(zip(axes.flatten(), locations)):\n",
    "            plt.sca(ax)\n",
    "            \n",
    "            if i != 4:\n",
    "                ax = sns.scatterplot(x=\"scenario\", y=(str(place) + \"_\" + str(outcome) + \" \" + str(step)), hue=\"policy\",\n",
    "                          data=results, legend = False)\n",
    "            else:\n",
    "                ax = sns.scatterplot(x=\"scenario\", y=(str(place) + \"_\" + str(outcome) + \" \" + str(step)), hue=\"policy\",\n",
    "                          data=results)\n",
    "                ax.legend(loc = 'upper right', bbox_to_anchor=(2, 1), fontsize = 8)\n",
    "\n",
    "            ax.set_xlim(left = 0)\n",
    "            ax.set_title(place)\n",
    "\n",
    "#         plt.tight_layout()\n",
    "        plt.show()\n",
    "#         plt.legend()"
   ]
  },
  {
   "cell_type": "code",
   "execution_count": null,
   "metadata": {},
   "outputs": [],
   "source": [
    "scatter_maker(results, \"Expected Annual Damage\")\n",
    "scatter_maker(results, \"Expected Number of Deaths\")"
   ]
  },
  {
   "cell_type": "markdown",
   "metadata": {},
   "source": [
    "### 1.2.2 Pairplot"
   ]
  },
  {
   "cell_type": "code",
   "execution_count": null,
   "metadata": {},
   "outputs": [],
   "source": [
    "def pairplot_maker(results, location, n = 3):\n",
    "    list_loc = []\n",
    "\n",
    "    for i in results.columns:\n",
    "        if location in i:\n",
    "            list_loc.append(i)\n",
    "            \n",
    "    # TO-DO:        \n",
    "    # Add other uncertentainties which do not have A.1 in name, like discount rate and flow.. \n",
    "    list_loc.append(\"policy\")\n",
    "    \n",
    "    sns.pairplot(results[list_loc], hue='policy',  vars=results[list_loc].iloc[:, 6:-1].keys(), )\n",
    "    plt.tight_layout()\n",
    "    plt.show()"
   ]
  },
  {
   "cell_type": "code",
   "execution_count": null,
   "metadata": {},
   "outputs": [],
   "source": [
    "pairplot_maker(results, \"A.1\")\n",
    "# pairplot_maker(results, \"A.2\")\n",
    "# pairplot_maker(results, \"A.3\")\n",
    "# pairplot_maker(results, \"A.4\")\n",
    "# pairplot_maker(results, \"A.5\")"
   ]
  }
 ],
 "metadata": {
  "kernelspec": {
   "display_name": "Python 3",
   "language": "python",
   "name": "python3"
  },
  "language_info": {
   "codemirror_mode": {
    "name": "ipython",
    "version": 3
   },
   "file_extension": ".py",
   "mimetype": "text/x-python",
   "name": "python",
   "nbconvert_exporter": "python",
   "pygments_lexer": "ipython3",
   "version": "3.6.5"
  }
 },
 "nbformat": 4,
 "nbformat_minor": 2
}
