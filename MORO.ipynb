{
 "cells": [
  {
   "cell_type": "code",
   "execution_count": 2,
   "metadata": {
    "scrolled": true
   },
   "outputs": [
    {
     "name": "stderr",
     "output_type": "stream",
     "text": [
      "C:\\Users\\newbi\\Anaconda3\\lib\\importlib\\_bootstrap.py:219: ImportWarning: can't resolve package from __spec__ or __package__, falling back on __name__ and __path__\n",
      "  return f(*args, **kwds)\n"
     ]
    }
   ],
   "source": [
    "# Load dependencies\n",
    "\n",
    "import numpy as np\n",
    "import scipy as sp\n",
    "import pandas as pd\n",
    "import matplotlib.pyplot as plt\n",
    "import seaborn as sns\n",
    "import time\n",
    "import pickle\n",
    "\n",
    "from ema_workbench import (Model, CategoricalParameter,\n",
    "                           ScalarOutcome, IntegerParameter, RealParameter, Constraint)\n",
    "\n",
    "from ema_workbench import (Model, MultiprocessingEvaluator, Policy, Scenario, SequentialEvaluator)\n",
    "\n",
    "from ema_workbench.em_framework.evaluators import perform_experiments, optimize\n",
    "from ema_workbench.em_framework.samplers import sample_uncertainties\n",
    "from ema_workbench.util import ema_logging, utilities\n",
    "\n",
    "ema_logging.log_to_stderr(ema_logging.INFO)\n",
    "\n",
    "# Set up MORO\n",
    "\n",
    "# Initialize model parameters\n",
    "from model.dike_model_function import DikeNetwork  # @UnresolvedImport\n",
    "from model.problem_formulation import get_model_for_problem_formulation\n",
    "\n",
    "dike_model, planning_steps = get_model_for_problem_formulation(5)\n",
    "\n",
    "# Define robustness functions\n",
    "\n",
    "# Rebustness score\n",
    "def robustness(data):\n",
    "    ''' \n",
    "    Returns a robustness score for a value you want to minimize.\n",
    "    s\n",
    "    We want a function that returns 0 for the outcome to be in the range that we want and higher otherwise.\n",
    "    \n",
    "    Takes in an array and returns a score for each value of the same array.\n",
    "    '''\n",
    "    \n",
    "    # Normalize\n",
    "    mean = np.mean(data)\n",
    "    iqr = np.quantile(data,0.75,axis=0) - np.quantile(data,0.25,axis=0) + mean * 0.005 # Add a small number so the mean is still considered in the score rather than 0\n",
    "    score = mean * iqr\n",
    "    \n",
    "    return score\n",
    "\n",
    "def sumover_robustness(*data):\n",
    "    '''\n",
    "    Used to aggregate each outcome's varying location and time into one robustness score.\n",
    "    \n",
    "    Input: multiple n-length (but same) arrays and sums up element-wise into a [1,n] array\n",
    "    \n",
    "    Returns: asks the robustness function to calculate a score for the [1,n] array.\n",
    "    '''\n",
    "    return robustness(np.sum(data, axis=1))\n",
    "\n",
    "# Initialize some vars to make `robustness_functions` a bit more read-able\n",
    "var_list_damage = ['A.1_Expected Annual Damage 0','A.1_Expected Annual Damage 1','A.1_Expected Annual Damage 2',\n",
    "                   'A.2_Expected Annual Damage 0','A.2_Expected Annual Damage 1','A.2_Expected Annual Damage 2',\n",
    "                   'A.3_Expected Annual Damage 0','A.3_Expected Annual Damage 1','A.3_Expected Annual Damage 2',\n",
    "                   'A.4_Expected Annual Damage 0','A.4_Expected Annual Damage 1','A.4_Expected Annual Damage 2',\n",
    "                   'A.5_Expected Annual Damage 0','A.5_Expected Annual Damage 1','A.5_Expected Annual Damage 2']\n",
    "var_list_deaths = ['A.1_Expected Number of Deaths 0','A.1_Expected Number of Deaths 1','A.1_Expected Number of Deaths 2',\n",
    "                   'A.2_Expected Number of Deaths 0','A.2_Expected Number of Deaths 1','A.2_Expected Number of Deaths 2',\n",
    "                   'A.3_Expected Number of Deaths 0','A.3_Expected Number of Deaths 1','A.3_Expected Number of Deaths 2',\n",
    "                   'A.4_Expected Number of Deaths 0','A.4_Expected Number of Deaths 1','A.4_Expected Number of Deaths 2',\n",
    "                   'A.5_Expected Number of Deaths 0','A.5_Expected Number of Deaths 1','A.5_Expected Number of Deaths 2']\n",
    "var_list_dike = ['A.1_Dike Investment Costs 0','A.1_Dike Investment Costs 1','A.1_Dike Investment Costs 2',\n",
    "                 'A.2_Dike Investment Costs 0','A.2_Dike Investment Costs 1','A.2_Dike Investment Costs 2',\n",
    "                 'A.3_Dike Investment Costs 0','A.3_Dike Investment Costs 1','A.3_Dike Investment Costs 2',\n",
    "                 'A.4_Dike Investment Costs 0','A.4_Dike Investment Costs 1','A.4_Dike Investment Costs 2',\n",
    "                 'A.5_Dike Investment Costs 0','A.5_Dike Investment Costs 1','A.5_Dike Investment Costs 2']\n",
    "var_list_rfr = ['RfR Total Costs 0', 'RfR Total Costs 1', 'RfR Total Costs 2']\n",
    "var_list_evac = ['Expected Evacuation Costs 0', 'Expected Evacuation Costs 1', 'Expected Evacuation Costs 2']\n",
    "\n",
    "def aggregate_outcomes(results, outcome):\n",
    "    list_outcomes_columns = []\n",
    "    \n",
    "    for i in results.columns:\n",
    "        if outcome in i:\n",
    "            list_outcomes_columns.append(i)\n",
    "            \n",
    "    results[\"Total \" + str(outcome)] = results[list_outcomes_columns].sum(axis = 1)"
   ]
  },
  {
   "cell_type": "markdown",
   "metadata": {},
   "source": [
    "### Find the ranges for epsilon and hypervolume convergence\n",
    "\n",
    "To set $\\epsilon$ values, we must minimize noise by first running a robust optimize quickly to see a Pareto front develop as stated in section 3.4 of doi: 10.1016/j.envsoft.2011.04.003 (we don't only look at Monte Carlo policies in hope that this will save time)."
   ]
  },
  {
   "cell_type": "code",
   "execution_count": 2,
   "metadata": {},
   "outputs": [
    {
     "name": "stderr",
     "output_type": "stream",
     "text": [
      "[MainProcess/INFO] results loaded succesfully from /Users/jrwang/Documents/Coding/Model-based-decision-making/Outcomes/400Scenarios75Policies.csv\n"
     ]
    }
   ],
   "source": [
    "results = utilities.load_results('Outcomes/400Scenarios75Policies.csv')\n",
    "\n",
    "experiments, outcomes = results"
   ]
  },
  {
   "cell_type": "code",
   "execution_count": 3,
   "metadata": {},
   "outputs": [
    {
     "data": {
      "text/plain": [
       "Total Expected Annual Damage       2.424605e+14\n",
       "Total Dike Investment Costs        8.016821e+18\n",
       "Total Expected Number of Deaths    7.593013e-06\n",
       "Total RfR Total Costs              8.500209e+15\n",
       "Total Expected Evacuation Costs    1.333967e+05\n",
       "Name: 0.75, dtype: float64"
      ]
     },
     "execution_count": 3,
     "metadata": {},
     "output_type": "execute_result"
    }
   ],
   "source": [
    "outcomes = pd.DataFrame(outcomes)\n",
    "experiments = pd.DataFrame(experiments)\n",
    "results = experiments.join(outcomes)\n",
    "results = results.drop(columns=\"model\")\n",
    "\n",
    "# Aggregate\n",
    "aggregate_outcomes(outcomes,\"Expected Annual Damage\")\n",
    "aggregate_outcomes(outcomes,\"Dike Investment Costs\")\n",
    "aggregate_outcomes(outcomes,\"Expected Number of Deaths\")\n",
    "aggregate_outcomes(outcomes,\"RfR Total Costs\")\n",
    "aggregate_outcomes(outcomes,\"Expected Evacuation Costs\")\n",
    "\n",
    "everything = pd.DataFrame(experiments[\"policy\"]).join(outcomes)\n",
    "\n",
    "# Run robustness, find the 75th quantile (or 0,max)\n",
    "robust_values = everything.groupby(by = [\"policy\"]).apply(robustness).iloc[:, -5:]\n",
    "hyp_ranges_min = robust_values.apply(np.min)\n",
    "hyp_ranges_max = robust_values.apply(np.max)\n",
    "robust_values.quantile(0.75)"
   ]
  },
  {
   "cell_type": "code",
   "execution_count": 4,
   "metadata": {},
   "outputs": [
    {
     "data": {
      "text/plain": [
       "Total Expected Annual Damage       0.000000e+00\n",
       "Total Dike Investment Costs        4.380159e+17\n",
       "Total Expected Number of Deaths    0.000000e+00\n",
       "Total RfR Total Costs              1.146726e+15\n",
       "Total Expected Evacuation Costs    0.000000e+00\n",
       "dtype: float64"
      ]
     },
     "execution_count": 4,
     "metadata": {},
     "output_type": "execute_result"
    }
   ],
   "source": [
    "hyp_ranges_min"
   ]
  },
  {
   "cell_type": "code",
   "execution_count": 5,
   "metadata": {},
   "outputs": [
    {
     "data": {
      "text/plain": [
       "Total Expected Annual Damage       1.824331e+16\n",
       "Total Dike Investment Costs        5.209281e+19\n",
       "Total Expected Number of Deaths    3.718098e-03\n",
       "Total RfR Total Costs              1.616582e+16\n",
       "Total Expected Evacuation Costs    2.238656e+07\n",
       "dtype: float64"
      ]
     },
     "execution_count": 5,
     "metadata": {},
     "output_type": "execute_result"
    }
   ],
   "source": [
    "hyp_ranges_max"
   ]
  },
  {
   "cell_type": "code",
   "execution_count": 3,
   "metadata": {},
   "outputs": [],
   "source": [
    "# Define model parameters so we can run robust_optimize and find valid epsilon values.\n",
    "MINIMIZE = ScalarOutcome.MINIMIZE\n",
    "\n",
    "# These functions need to only return one value...\n",
    "\n",
    "robustness_functions = [\n",
    "    ScalarOutcome('Damage Score', variable_name = var_list_damage,\n",
    "                  function = sumover_robustness, kind = MINIMIZE),    \n",
    "    ScalarOutcome('Deaths Score', variable_name = var_list_deaths,\n",
    "                  function = sumover_robustness, kind = MINIMIZE),\n",
    "    ScalarOutcome('Dike Invest Score', variable_name = var_list_dike,\n",
    "                  function = sumover_robustness, kind = MINIMIZE),\n",
    "    ScalarOutcome('RfR Invest Score', variable_name = var_list_rfr,\n",
    "                  function = sumover_robustness, kind = MINIMIZE),\n",
    "    ScalarOutcome('Evac Score', variable_name = var_list_evac,\n",
    "                  function = sumover_robustness, kind = MINIMIZE),\n",
    "]\n",
    "\n",
    "constraints = [Constraint(\"discount_for_rfr_0\", outcome_names=\"RfR Total Costs 0\",\n",
    "                          function=lambda x:max(0, x-426.24)),\n",
    "               Constraint(\"discount_for_rfr_1\", outcome_names=\"RfR Total Costs 1\",\n",
    "                          function=lambda x:max(0, x-284.16)),\n",
    "               Constraint(\"discount_for_rfr_2\", outcome_names=\"RfR Total Costs 2\",\n",
    "                          function=lambda x:max(0, x-142.08))]"
   ]
  },
  {
   "cell_type": "code",
   "execution_count": 7,
   "metadata": {
    "scrolled": true
   },
   "outputs": [],
   "source": [
    "# from ema_workbench import ema_logging\n",
    "# from ema_workbench.em_framework.optimization import (HyperVolume, \n",
    "#                                                      EpsilonProgress)\n",
    "# from ema_workbench.em_framework.evaluators import BaseEvaluator\n",
    "\n",
    "# BaseEvaluator.reporting_frequency = 0.1\n",
    "# ema_logging.log_to_stderr(ema_logging.INFO)\n",
    "\n",
    "# epsilons = [0.05,]*len(robustness_functions)\n",
    "\n",
    "# start = time.time()\n",
    "\n",
    "# with MultiprocessingEvaluator(dike_model) as evaluator:\n",
    "#     results, convergence = evaluator.robust_optimize(robustness_functions,\n",
    "#                                                      scenarios=10,\n",
    "#                                                      nfe=200,\n",
    "#                                                      epsilons=epsilons,\n",
    "#                                                      convergence=[EpsilonProgress()],\n",
    "#                                                      convergence_freq=1,\n",
    "#                                                      constraint=constraints\n",
    "#                                                     )\n",
    "\n",
    "# end = time.time()\n",
    "# print(\"Time taken: {:0.5f} minutes\".format((end - start)/60))"
   ]
  },
  {
   "cell_type": "code",
   "execution_count": 8,
   "metadata": {},
   "outputs": [],
   "source": [
    "# with open('Outcomes/initial_Pareto_policies.pkl', 'wb') as file_pi:\n",
    "#     pickle.dump(results, file_pi)"
   ]
  },
  {
   "cell_type": "code",
   "execution_count": 9,
   "metadata": {},
   "outputs": [],
   "source": [
    "with open('Outcomes/initial_Pareto_policies.pkl', 'rb') as file_pi:\n",
    "    results = pickle.load(file_pi)"
   ]
  },
  {
   "cell_type": "markdown",
   "metadata": {},
   "source": [
    "Now that we can some policies somewhere on a Pareto front, we can run them under more scenarios and see the variance of their values across those scenarios."
   ]
  },
  {
   "cell_type": "code",
   "execution_count": 10,
   "metadata": {},
   "outputs": [],
   "source": [
    "# policies = []\n",
    "# for row in range(results.shape[0]):\n",
    "#     policies.append(\n",
    "#         Policy(name = row, **results.iloc[row,:-5].to_dict())  # Do not include the damage scores\n",
    "#     )\n",
    "    \n",
    "# with MultiprocessingEvaluator(dike_model) as evaluator:\n",
    "#     results = evaluator.perform_experiments(scenarios=50,policies=policies)"
   ]
  },
  {
   "cell_type": "code",
   "execution_count": 11,
   "metadata": {},
   "outputs": [],
   "source": [
    "# with open('Outcomes/epsilon_results.pkl', 'wb') as file_pi:\n",
    "#     pickle.dump(results, file_pi)"
   ]
  },
  {
   "cell_type": "code",
   "execution_count": 12,
   "metadata": {
    "scrolled": false
   },
   "outputs": [],
   "source": [
    "with open('Outcomes/epsilon_results.pkl', 'rb') as file_pi:\n",
    "    results = pickle.load(file_pi)"
   ]
  },
  {
   "cell_type": "code",
   "execution_count": 13,
   "metadata": {},
   "outputs": [],
   "source": [
    "experiments, outcomes = results\n",
    "\n",
    "outcomes = pd.DataFrame(outcomes)\n",
    "experiments = pd.DataFrame(experiments)\n",
    "results = experiments.join(outcomes)\n",
    "results = results.drop(columns=\"model\")\n",
    "\n",
    "aggregate_outcomes(outcomes,\"Expected Annual Damage\")\n",
    "aggregate_outcomes(outcomes,\"Dike Investment Costs\")\n",
    "aggregate_outcomes(outcomes,\"Expected Number of Deaths\")\n",
    "aggregate_outcomes(outcomes,\"RfR Total Costs\")\n",
    "aggregate_outcomes(outcomes,\"Expected Evacuation Costs\")\n",
    "\n",
    "everything = pd.DataFrame(experiments[\"policy\"]).join(outcomes)\n",
    "\n",
    "robust_values = everything.groupby(by = [\"policy\"]).apply(robustness).iloc[:, -5:]\n",
    "\n",
    "# Finally, find the IQR ranges that are our 'noise-adjusted epsilon values'\n",
    "ranges = robust_values.apply(sp.stats.iqr)"
   ]
  },
  {
   "cell_type": "markdown",
   "metadata": {},
   "source": [
    "### Subset the worst case conditions"
   ]
  },
  {
   "cell_type": "code",
   "execution_count": 19,
   "metadata": {},
   "outputs": [],
   "source": [
    "# From CART Analysis for deaths and damages (see BaseCase.ipynb)\n",
    "\n",
    "dike_model.uncertainties['A.1_pfail'] = RealParameter('A.1_pfail', 0, 0.367)\n",
    "dike_model.uncertainties['A.3_pfail'] = RealParameter('A.3_pfail', 0, 0.226)"
   ]
  },
  {
   "cell_type": "markdown",
   "metadata": {},
   "source": [
    "## Run MORO!"
   ]
  },
  {
   "cell_type": "code",
   "execution_count": 14,
   "metadata": {
    "scrolled": true
   },
   "outputs": [
    {
     "name": "stderr",
     "output_type": "stream",
     "text": [
      "[MainProcess/INFO] pool started\n",
      "[MainProcess/INFO] generation 0: 0/6 nfe\n",
      "[MainProcess/INFO] optimization completed, found 5 solutions\n",
      "[MainProcess/INFO] terminating pool\n"
     ]
    },
    {
     "name": "stdout",
     "output_type": "stream",
     "text": [
      "Time taken: 0.73733 minutes\n"
     ]
    }
   ],
   "source": [
    "from ema_workbench import ema_logging\n",
    "from ema_workbench.em_framework.optimization import (HyperVolume, \n",
    "                                                     EpsilonProgress)\n",
    "from ema_workbench.em_framework.evaluators import BaseEvaluator\n",
    "\n",
    "BaseEvaluator.reporting_frequency = 0.1\n",
    "ema_logging.log_to_stderr(ema_logging.INFO)\n",
    "\n",
    "from ema_workbench.em_framework import sample_uncertainties\n",
    "\n",
    "n_scenarios = 1 #50\n",
    "scenarios = sample_uncertainties(dike_model, n_scenarios)\n",
    "nfe = int(6)\n",
    "\n",
    "# The expected ranges are set to minimize noise as discussed in section 3.4 of doi: 10.1016/j.envsoft.2011.04.003\n",
    "epsilons = ranges.values\n",
    "convergence = [HyperVolume(hyp_ranges_min,hyp_ranges_max),\n",
    "              EpsilonProgress()]\n",
    "\n",
    "# Time the output\n",
    "start = time.time()\n",
    "\n",
    "with MultiprocessingEvaluator(dike_model) as evaluator:\n",
    "    results, convergence = evaluator.robust_optimize(robustness_functions,\n",
    "                                                     scenarios = scenarios,\n",
    "                                                     nfe=nfe,\n",
    "                                                     epsilons=epsilons,\n",
    "                                                     convergence=convergence,\n",
    "                                                     convergence_freq=20,\n",
    "                                                     logging_freq=10,\n",
    "                                                     constraint=constraints\n",
    "                                                    )\n",
    "\n",
    "end = time.time()\n",
    "print(\"Time taken: {:0.5f} minutes\".format((end - start)/60))"
   ]
  },
  {
   "cell_type": "code",
   "execution_count": 18,
   "metadata": {},
   "outputs": [],
   "source": [
    "import pickle\n",
    "\n",
    "filename = 'Outcomes/MORO_s' + str(n_scenarios) + '_nfe' + str(nfe) + '.pkl'\n",
    "with open(filename, 'wb') as file_pi:\n",
    "    pickle.dump((results, convergence), file_pi)"
   ]
  },
  {
   "cell_type": "markdown",
   "metadata": {},
   "source": [
    "## Quickly check for convergence"
   ]
  },
  {
   "cell_type": "code",
   "execution_count": 17,
   "metadata": {},
   "outputs": [
    {
     "data": {
      "image/png": "[encoded data removed]",
      "text/plain": [
       "<Figure size 576x288 with 2 Axes>"
      ]
     },
     "metadata": {
      "needs_background": "light"
     },
     "output_type": "display_data"
    }
   ],
   "source": [
    "fig, (ax1, ax2) = plt.subplots(ncols=2, sharex=True, figsize=(8,4))\n",
    "ax1.plot(convergence.nfe, convergence.epsilon_progress)\n",
    "ax1.set_ylabel('$\\epsilon$-progress')\n",
    "ax2.plot(convergence.nfe, convergence.hypervolume)\n",
    "ax2.set_ylabel('hypervolume')\n",
    "\n",
    "ax1.set_xlabel('number of function evaluations')\n",
    "ax2.set_xlabel('number of function evaluations')\n",
    "plt.show()"
   ]
  },
  {
   "cell_type": "code",
   "execution_count": 1,
   "metadata": {},
   "outputs": [],
   "source": [
    "import pickle\n",
    "\n",
    "results_MORO, convergence = pickle.load(open('Outcomes/MORO_s50_nfe20000.pkl', 'rb'))"
   ]
  },
  {
   "cell_type": "code",
   "execution_count": 7,
   "metadata": {},
   "outputs": [
    {
     "data": {
      "text/html": [
       "<div>\n",
       "<style scoped>\n",
       "    .dataframe tbody tr th:only-of-type {\n",
       "        vertical-align: middle;\n",
       "    }\n",
       "\n",
       "    .dataframe tbody tr th {\n",
       "        vertical-align: top;\n",
       "    }\n",
       "\n",
       "    .dataframe thead th {\n",
       "        text-align: right;\n",
       "    }\n",
       "</style>\n",
       "<table border=\"1\" class=\"dataframe\">\n",
       "  <thead>\n",
       "    <tr style=\"text-align: right;\">\n",
       "      <th></th>\n",
       "      <th>Damage Score</th>\n",
       "      <th>Deaths Score</th>\n",
       "      <th>Dike Invest Score</th>\n",
       "      <th>RfR Invest Score</th>\n",
       "      <th>Evac Score</th>\n",
       "    </tr>\n",
       "  </thead>\n",
       "  <tbody>\n",
       "    <tr>\n",
       "      <th>0</th>\n",
       "      <td>1.964370e+14</td>\n",
       "      <td>1.861056e-06</td>\n",
       "      <td>1.196531e+18</td>\n",
       "      <td>1.178112e+16</td>\n",
       "      <td>3.252648e+08</td>\n",
       "    </tr>\n",
       "    <tr>\n",
       "      <th>1</th>\n",
       "      <td>1.133849e+11</td>\n",
       "      <td>1.143893e-07</td>\n",
       "      <td>1.196531e+18</td>\n",
       "      <td>9.305655e+18</td>\n",
       "      <td>0.000000e+00</td>\n",
       "    </tr>\n",
       "    <tr>\n",
       "      <th>2</th>\n",
       "      <td>7.853715e+11</td>\n",
       "      <td>9.160793e-08</td>\n",
       "      <td>1.196531e+18</td>\n",
       "      <td>6.272040e+18</td>\n",
       "      <td>1.574746e+06</td>\n",
       "    </tr>\n",
       "    <tr>\n",
       "      <th>3</th>\n",
       "      <td>1.964370e+14</td>\n",
       "      <td>1.292400e-04</td>\n",
       "      <td>1.196531e+18</td>\n",
       "      <td>1.178112e+16</td>\n",
       "      <td>0.000000e+00</td>\n",
       "    </tr>\n",
       "    <tr>\n",
       "      <th>4</th>\n",
       "      <td>1.980599e+14</td>\n",
       "      <td>1.307336e-04</td>\n",
       "      <td>1.196531e+18</td>\n",
       "      <td>7.906444e+17</td>\n",
       "      <td>0.000000e+00</td>\n",
       "    </tr>\n",
       "    <tr>\n",
       "      <th>5</th>\n",
       "      <td>4.577942e+14</td>\n",
       "      <td>3.845736e-04</td>\n",
       "      <td>1.501146e+18</td>\n",
       "      <td>0.000000e+00</td>\n",
       "      <td>0.000000e+00</td>\n",
       "    </tr>\n",
       "    <tr>\n",
       "      <th>6</th>\n",
       "      <td>4.577942e+14</td>\n",
       "      <td>8.652907e-06</td>\n",
       "      <td>1.501146e+18</td>\n",
       "      <td>0.000000e+00</td>\n",
       "      <td>2.928564e+08</td>\n",
       "    </tr>\n",
       "    <tr>\n",
       "      <th>7</th>\n",
       "      <td>4.577942e+14</td>\n",
       "      <td>5.537860e-06</td>\n",
       "      <td>1.501146e+18</td>\n",
       "      <td>0.000000e+00</td>\n",
       "      <td>4.520066e+08</td>\n",
       "    </tr>\n",
       "    <tr>\n",
       "      <th>8</th>\n",
       "      <td>1.161485e+15</td>\n",
       "      <td>7.686822e-04</td>\n",
       "      <td>1.196531e+18</td>\n",
       "      <td>0.000000e+00</td>\n",
       "      <td>0.000000e+00</td>\n",
       "    </tr>\n",
       "  </tbody>\n",
       "</table>\n",
       "</div>"
      ],
      "text/plain": [
       "   Damage Score  Deaths Score  Dike Invest Score  RfR Invest Score  \\\n",
       "0  1.964370e+14  1.861056e-06       1.196531e+18      1.178112e+16   \n",
       "1  1.133849e+11  1.143893e-07       1.196531e+18      9.305655e+18   \n",
       "2  7.853715e+11  9.160793e-08       1.196531e+18      6.272040e+18   \n",
       "3  1.964370e+14  1.292400e-04       1.196531e+18      1.178112e+16   \n",
       "4  1.980599e+14  1.307336e-04       1.196531e+18      7.906444e+17   \n",
       "5  4.577942e+14  3.845736e-04       1.501146e+18      0.000000e+00   \n",
       "6  4.577942e+14  8.652907e-06       1.501146e+18      0.000000e+00   \n",
       "7  4.577942e+14  5.537860e-06       1.501146e+18      0.000000e+00   \n",
       "8  1.161485e+15  7.686822e-04       1.196531e+18      0.000000e+00   \n",
       "\n",
       "     Evac Score  \n",
       "0  3.252648e+08  \n",
       "1  0.000000e+00  \n",
       "2  1.574746e+06  \n",
       "3  0.000000e+00  \n",
       "4  0.000000e+00  \n",
       "5  0.000000e+00  \n",
       "6  2.928564e+08  \n",
       "7  4.520066e+08  \n",
       "8  0.000000e+00  "
      ]
     },
     "execution_count": 7,
     "metadata": {},
     "output_type": "execute_result"
    }
   ],
   "source": [
    "results_MORO.iloc[:, -5:]"
   ]
  },
  {
   "cell_type": "code",
   "execution_count": 44,
   "metadata": {},
   "outputs": [],
   "source": []
  },
  {
   "cell_type": "code",
   "execution_count": 47,
   "metadata": {},
   "outputs": [
    {
     "data": {
      "image/png": "[encoded data removed]",
      "text/plain": [
       "<Figure size 432x288 with 5 Axes>"
      ]
     },
     "metadata": {},
     "output_type": "display_data"
    },
    {
     "data": {
      "text/html": [
       "<div>\n",
       "<style scoped>\n",
       "    .dataframe tbody tr th:only-of-type {\n",
       "        vertical-align: middle;\n",
       "    }\n",
       "\n",
       "    .dataframe tbody tr th {\n",
       "        vertical-align: top;\n",
       "    }\n",
       "\n",
       "    .dataframe thead th {\n",
       "        text-align: right;\n",
       "    }\n",
       "</style>\n",
       "<table border=\"1\" class=\"dataframe\">\n",
       "  <thead>\n",
       "    <tr style=\"text-align: right;\">\n",
       "      <th></th>\n",
       "      <th>Damage Score</th>\n",
       "      <th>Deaths Score</th>\n",
       "      <th>Dike Invest Score</th>\n",
       "      <th>RfR Invest Score</th>\n",
       "      <th>Evac Score</th>\n",
       "      <th>policy</th>\n",
       "    </tr>\n",
       "  </thead>\n",
       "  <tbody>\n",
       "    <tr>\n",
       "      <th>0</th>\n",
       "      <td>0.169045</td>\n",
       "      <td>0.002302</td>\n",
       "      <td>0.000000e+00</td>\n",
       "      <td>0.001266</td>\n",
       "      <td>0.719602</td>\n",
       "      <td>0</td>\n",
       "    </tr>\n",
       "    <tr>\n",
       "      <th>1</th>\n",
       "      <td>0.000000</td>\n",
       "      <td>0.000030</td>\n",
       "      <td>0.000000e+00</td>\n",
       "      <td>1.000000</td>\n",
       "      <td>0.000000</td>\n",
       "      <td>1</td>\n",
       "    </tr>\n",
       "    <tr>\n",
       "      <th>2</th>\n",
       "      <td>0.000579</td>\n",
       "      <td>0.000000</td>\n",
       "      <td>0.000000e+00</td>\n",
       "      <td>0.674003</td>\n",
       "      <td>0.003484</td>\n",
       "      <td>2</td>\n",
       "    </tr>\n",
       "    <tr>\n",
       "      <th>3</th>\n",
       "      <td>0.169045</td>\n",
       "      <td>0.168033</td>\n",
       "      <td>2.167261e-07</td>\n",
       "      <td>0.001266</td>\n",
       "      <td>0.000000</td>\n",
       "      <td>3</td>\n",
       "    </tr>\n",
       "    <tr>\n",
       "      <th>4</th>\n",
       "      <td>0.170442</td>\n",
       "      <td>0.169976</td>\n",
       "      <td>1.118503e-07</td>\n",
       "      <td>0.084964</td>\n",
       "      <td>0.000000</td>\n",
       "      <td>4</td>\n",
       "    </tr>\n",
       "    <tr>\n",
       "      <th>5</th>\n",
       "      <td>0.394087</td>\n",
       "      <td>0.500243</td>\n",
       "      <td>1.000000e+00</td>\n",
       "      <td>0.000000</td>\n",
       "      <td>0.000000</td>\n",
       "      <td>5</td>\n",
       "    </tr>\n",
       "    <tr>\n",
       "      <th>6</th>\n",
       "      <td>0.394087</td>\n",
       "      <td>0.011139</td>\n",
       "      <td>1.000000e+00</td>\n",
       "      <td>0.000000</td>\n",
       "      <td>0.647903</td>\n",
       "      <td>6</td>\n",
       "    </tr>\n",
       "    <tr>\n",
       "      <th>7</th>\n",
       "      <td>0.394087</td>\n",
       "      <td>0.007086</td>\n",
       "      <td>1.000000e+00</td>\n",
       "      <td>0.000000</td>\n",
       "      <td>1.000000</td>\n",
       "      <td>7</td>\n",
       "    </tr>\n",
       "    <tr>\n",
       "      <th>8</th>\n",
       "      <td>1.000000</td>\n",
       "      <td>1.000000</td>\n",
       "      <td>2.114056e-07</td>\n",
       "      <td>0.000000</td>\n",
       "      <td>0.000000</td>\n",
       "      <td>8</td>\n",
       "    </tr>\n",
       "  </tbody>\n",
       "</table>\n",
       "</div>"
      ],
      "text/plain": [
       "   Damage Score  Deaths Score  Dike Invest Score  RfR Invest Score  \\\n",
       "0      0.169045      0.002302       0.000000e+00          0.001266   \n",
       "1      0.000000      0.000030       0.000000e+00          1.000000   \n",
       "2      0.000579      0.000000       0.000000e+00          0.674003   \n",
       "3      0.169045      0.168033       2.167261e-07          0.001266   \n",
       "4      0.170442      0.169976       1.118503e-07          0.084964   \n",
       "5      0.394087      0.500243       1.000000e+00          0.000000   \n",
       "6      0.394087      0.011139       1.000000e+00          0.000000   \n",
       "7      0.394087      0.007086       1.000000e+00          0.000000   \n",
       "8      1.000000      1.000000       2.114056e-07          0.000000   \n",
       "\n",
       "   Evac Score  policy  \n",
       "0    0.719602       0  \n",
       "1    0.000000       1  \n",
       "2    0.003484       2  \n",
       "3    0.000000       3  \n",
       "4    0.000000       4  \n",
       "5    0.000000       5  \n",
       "6    0.647903       6  \n",
       "7    1.000000       7  \n",
       "8    0.000000       8  "
      ]
     },
     "execution_count": 47,
     "metadata": {},
     "output_type": "execute_result"
    }
   ],
   "source": [
    "from ema_workbench.analysis import parcoords\n",
    "\n",
    "data = results_MORO.loc[:, [o.name for o in robustness_functions]]\n",
    "data_norm = (data - data.min()) / (data.max() - data.min())\n",
    "data_norm[\"policy\"] = data.index # Adding a Policy column to easier identify which line belongs to which policy\n",
    "limits = parcoords.get_limits(data_norm)\n",
    "\n",
    "paraxes = parcoords.ParallelAxes(limits)\n",
    "paraxes.plot(data_norm)\n",
    "plt.show()\n",
    "data_norm"
   ]
  },
  {
   "cell_type": "code",
   "execution_count": null,
   "metadata": {},
   "outputs": [],
   "source": []
  }
 ],
 "metadata": {
  "kernelspec": {
   "display_name": "Python 3",
   "language": "python",
   "name": "python3"
  },
  "language_info": {
   "codemirror_mode": {
    "name": "ipython",
    "version": 3
   },
   "file_extension": ".py",
   "mimetype": "text/x-python",
   "name": "python",
   "nbconvert_exporter": "python",
   "pygments_lexer": "ipython3",
   "version": "3.6.5"
  }
 },
 "nbformat": 4,
 "nbformat_minor": 2
}
