{
 "cells": [
  {
   "cell_type": "markdown",
   "metadata": {},
   "source": [
    "# Open Exploration for 400 Scenarios and 75 Policies"
   ]
  },
  {
   "cell_type": "markdown",
   "metadata": {},
   "source": [
    "## 1. Introduction\n",
    "\n",
    "This notebook is the open exploration for a sampled case with 400 scenarios and 75 policies. These are randomly sampled across the uncertainties and levers using [Latin Hypercube Sampling](https://www.wikiwand.com/en/Latin_hypercube_sampling). \n",
    "\n",
    "The notebook gives a better indication of the policy space. To derive the worst scenarions in 1-Open-Exploration-Base-Case.ipynb to work, it is assumed that the base case is the worst case. This assumption will be tested here. "
   ]
  },
  {
   "cell_type": "code",
   "execution_count": null,
   "metadata": {},
   "outputs": [],
   "source": [
    "# Load dependencies\n",
    "\n",
    "import numpy as np\n",
    "import scipy as sp\n",
    "import pandas as pd\n",
    "import matplotlib.pyplot as plt\n",
    "import seaborn as sns\n",
    "import time\n",
    "\n",
    "from __future__ import print_function\n",
    "from ipywidgets import interact, interactive, fixed, interact_manual\n",
    "import ipywidgets as widgets"
   ]
  },
  {
   "cell_type": "code",
   "execution_count": null,
   "metadata": {},
   "outputs": [],
   "source": [
    "# Specific ema_workbench functions\n",
    "from ema_workbench.analysis import prim, dimensional_stacking, cart\n",
    "from ema_workbench.util import ema_logging, utilities\n",
    "\n",
    "ema_logging.log_to_stderr(ema_logging.INFO)"
   ]
  },
  {
   "cell_type": "code",
   "execution_count": null,
   "metadata": {},
   "outputs": [],
   "source": [
    "# Load in self-created visualization functions\n",
    "from visualization_functions import histogram_maker, mean_outcomes, aggregate_outcomes, scatter_maker, pairplot_maker, boxplot_histogram_maker, boxplot_maker"
   ]
  },
  {
   "cell_type": "code",
   "execution_count": null,
   "metadata": {},
   "outputs": [],
   "source": [
    "results = utilities.load_results('Outcomes/400Scenarios75Policies.csv')\n",
    "\n",
    "experiments, outcomes = results\n",
    "outcomes = pd.DataFrame(outcomes)\n",
    "experiments = pd.DataFrame(experiments)\n",
    "results = experiments.join(outcomes)\n",
    "results = results.drop(columns=\"model\")\n",
    "results.head()"
   ]
  },
  {
   "cell_type": "code",
   "execution_count": null,
   "metadata": {},
   "outputs": [],
   "source": [
    "aggregate_outcomes(results, \"Expected Annual Damage\")\n",
    "aggregate_outcomes(results, \"Expected Number of Deaths\")"
   ]
  },
  {
   "cell_type": "markdown",
   "metadata": {},
   "source": [
    "## 2. Data visualization"
   ]
  },
  {
   "cell_type": "markdown",
   "metadata": {},
   "source": [
    "Visual examination on the data to have a better understanding of what is happening in the model."
   ]
  },
  {
   "cell_type": "markdown",
   "metadata": {
    "toc-hr-collapsed": false
   },
   "source": [
    "### 2.1 Histogram plots"
   ]
  },
  {
   "cell_type": "markdown",
   "metadata": {},
   "source": [
    "A distribution of the outcomes over location and timesteps are given. These histograms only showcase the expected annual damages and the expected number of deaths."
   ]
  },
  {
   "cell_type": "markdown",
   "metadata": {},
   "source": [
    "#### 2.1.1 Expected Number of Deaths"
   ]
  },
  {
   "cell_type": "code",
   "execution_count": null,
   "metadata": {},
   "outputs": [],
   "source": [
    "histogram_maker(results, \"Expected Number of Deaths\")"
   ]
  },
  {
   "cell_type": "markdown",
   "metadata": {},
   "source": [
    "#### 2.1.2 Expected Annual Damage"
   ]
  },
  {
   "cell_type": "code",
   "execution_count": null,
   "metadata": {},
   "outputs": [],
   "source": [
    "histogram_maker(results, \"Expected Annual Damage\")"
   ]
  },
  {
   "cell_type": "markdown",
   "metadata": {},
   "source": [
    "### 2.2 Mean outcomes"
   ]
  },
  {
   "cell_type": "markdown",
   "metadata": {},
   "source": [
    "To visualize which location is most heavily impacted across all scenarios the mean is shown over the disaggregated locations and time step. Compared to the base case, this also includes the costs associated with the policies."
   ]
  },
  {
   "cell_type": "code",
   "execution_count": null,
   "metadata": {},
   "outputs": [],
   "source": [
    "# Select the outcomes you want the mean, for base case the costs are not very interesting.\n",
    "outcome_names = [\"Expected Annual Damage\", \"Expected Number of Deaths\", \"Expected Evacuation Costs\", \"RfR Total Costs\",\n",
    "                \"Dike Investment Costs\"]\n",
    "\n",
    "mean_outcomes(results, outcome_names)"
   ]
  },
  {
   "cell_type": "markdown",
   "metadata": {},
   "source": [
    "### 2.3 Pairplot"
   ]
  },
  {
   "cell_type": "markdown",
   "metadata": {},
   "source": [
    "A pairplot is a good way to visualize any apparent trade-offs between outcomes. The pairplot is location and time based to keep the interpretability manageable."
   ]
  },
  {
   "cell_type": "code",
   "execution_count": null,
   "metadata": {},
   "outputs": [],
   "source": [
    "# Takes more time to load than other visualizations\n",
    "interact(pairplot_maker, results=fixed(results), n=[1, 2, 3], location=[\"A.1\", \"A.2\", \"A.3\", \"A.4\", \"A.5\"]);"
   ]
  },
  {
   "cell_type": "markdown",
   "metadata": {
    "toc-hr-collapsed": false
   },
   "source": [
    "### 2.4 Boxplots across policies"
   ]
  },
  {
   "cell_type": "markdown",
   "metadata": {},
   "source": [
    "The policies are then reviewed through a boxplot over the total aggregate score of damages and deaths. "
   ]
  },
  {
   "cell_type": "code",
   "execution_count": null,
   "metadata": {},
   "outputs": [],
   "source": [
    "aggregate_outcomes(results, \"Dike Investment Costs\")\n",
    "aggregate_outcomes(results, \"RfR Total Costs\")\n",
    "aggregate_outcomes(results, \"Expected Evacuation Costs\")\n",
    "results[\"Total Investment Costs\"] = results.iloc[:, -3:].sum(axis =1)"
   ]
  },
  {
   "cell_type": "code",
   "execution_count": null,
   "metadata": {},
   "outputs": [],
   "source": [
    "total_outcomes = [\"Total Expected Annual Damage\", \"Total Expected Number of Deaths\", \"Total Investment Costs\"]\n",
    "\n",
    "boxplot_maker(results, total_outcomes)"
   ]
  },
  {
   "cell_type": "markdown",
   "metadata": {},
   "source": [
    "In summary, visual comparisons between the base case show that the assumption holds, seeing that there are no policies which are worse than the base case."
   ]
  },
  {
   "cell_type": "code",
   "execution_count": null,
   "metadata": {},
   "outputs": [],
   "source": [
    "# boxplot_histogram_maker(results)"
   ]
  },
  {
   "cell_type": "markdown",
   "metadata": {},
   "source": [
    "### 2.5 Feature Scoring"
   ]
  },
  {
   "cell_type": "markdown",
   "metadata": {},
   "source": [
    "Maybe! "
   ]
  },
  {
   "cell_type": "code",
   "execution_count": null,
   "metadata": {},
   "outputs": [],
   "source": [
    "# experiments = experiments.iloc[:, 20:].drop('model', axis = 1)\n",
    "# y = outcomes\n",
    "\n",
    "# fs = feature_scoring.get_feature_scores_all(x, y)\n",
    "# fig = plt.subplots(figsize=(20,10))\n",
    "# sns.heatmap(fs, cmap='viridis', linewidths=1)\n",
    "# plt.show()"
   ]
  }
 ],
 "metadata": {
  "kernelspec": {
   "display_name": "Python 3",
   "language": "python",
   "name": "python3"
  },
  "language_info": {
   "codemirror_mode": {
    "name": "ipython",
    "version": 3
   },
   "file_extension": ".py",
   "mimetype": "text/x-python",
   "name": "python",
   "nbconvert_exporter": "python",
   "pygments_lexer": "ipython3",
   "version": "3.6.5"
  }
 },
 "nbformat": 4,
 "nbformat_minor": 2
}
