{
 "cells": [
  {
   "cell_type": "code",
   "execution_count": 2,
   "metadata": {},
   "outputs": [],
   "source": [
    "# Import every package we need\n",
    "\n",
    "import numpy as np\n",
    "import scipy as sp\n",
    "import pandas as pd\n",
    "import matplotlib.pyplot as plt\n",
    "import seaborn as sns\n",
    "import time"
   ]
  },
  {
   "cell_type": "code",
   "execution_count": 2,
   "metadata": {},
   "outputs": [
    {
     "name": "stderr",
     "output_type": "stream",
     "text": [
      "C:\\Users\\newbi\\Anaconda3\\lib\\site-packages\\sklearn\\externals\\six.py:31: DeprecationWarning: The module is deprecated in version 0.21 and will be removed in version 0.23 since we've dropped support for Python 2.7. Please rely on the official version of six (https://pypi.org/project/six/).\n",
      "  \"(https://pypi.org/project/six/).\", DeprecationWarning)\n",
      "C:\\Users\\newbi\\Anaconda3\\lib\\importlib\\_bootstrap.py:219: ImportWarning: can't resolve package from __spec__ or __package__, falling back on __name__ and __path__\n",
      "  return f(*args, **kwds)\n"
     ]
    },
    {
     "data": {
      "text/plain": [
       "<Logger EMA (DEBUG)>"
      ]
     },
     "execution_count": 2,
     "metadata": {},
     "output_type": "execute_result"
    }
   ],
   "source": [
    "from ema_workbench import (Model, CategoricalParameter,\n",
    "                           ScalarOutcome, IntegerParameter, RealParameter)\n",
    "\n",
    "from ema_workbench import (Model, MultiprocessingEvaluator, Policy, Scenario, SequentialEvaluator)\n",
    "\n",
    "from ema_workbench.em_framework.evaluators import perform_experiments, optimize\n",
    "from ema_workbench.em_framework.samplers import sample_uncertainties\n",
    "from ema_workbench.analysis import prim, dimensional_stacking, cart\n",
    "from ema_workbench.util import ema_logging, utilities\n",
    "\n",
    "ema_logging.log_to_stderr(ema_logging.INFO)"
   ]
  },
  {
   "cell_type": "code",
   "execution_count": 3,
   "metadata": {},
   "outputs": [],
   "source": [
    "# Load in self-created visualization functions\n",
    "from visualization_functions import histogram_maker, mean_outcomes, aggregate_outcomes, scatter_maker, pairplot_maker, boxplot_histogram_maker, boxplot_maker"
   ]
  },
  {
   "cell_type": "code",
   "execution_count": null,
   "metadata": {},
   "outputs": [],
   "source": [
    "import pickle\n",
    "\n",
    "results_MORO, convergence = pickle.load(open('Outcomes/MORO_s50_nfe20000.pkl', 'rb'))"
   ]
  },
  {
   "cell_type": "code",
   "execution_count": null,
   "metadata": {},
   "outputs": [],
   "source": [
    "# Initialize model parameters\n",
    "from model.dike_model_function import DikeNetwork  # @UnresolvedImport\n",
    "from model.problem_formulation import get_model_for_problem_formulation\n",
    "\n",
    "dike_model, planning_steps = get_model_for_problem_formulation(5)"
   ]
  },
  {
   "cell_type": "code",
   "execution_count": null,
   "metadata": {},
   "outputs": [],
   "source": [
    "results_MORO"
   ]
  },
  {
   "cell_type": "code",
   "execution_count": null,
   "metadata": {},
   "outputs": [],
   "source": [
    "policies = []\n",
    "for row in range(results_MORO.shape[0]):\n",
    "    policies.append(\n",
    "        Policy(name = row, **results_MORO.iloc[row,:-5].to_dict())  # Do not include the damage scores\n",
    "    )"
   ]
  },
  {
   "cell_type": "code",
   "execution_count": 19,
   "metadata": {},
   "outputs": [
    {
     "name": "stderr",
     "output_type": "stream",
     "text": [
      "[MainProcess/INFO] pool started\n",
      "[MainProcess/INFO] performing 400 scenarios * 9 policies * 1 model(s) = 3600 experiments\n",
      "[MainProcess/INFO] 360 cases completed\n",
      "[MainProcess/INFO] 720 cases completed\n",
      "[MainProcess/INFO] 1080 cases completed\n",
      "[MainProcess/INFO] 1440 cases completed\n",
      "[MainProcess/INFO] 1800 cases completed\n",
      "[MainProcess/INFO] 2160 cases completed\n",
      "[MainProcess/INFO] 2520 cases completed\n",
      "[MainProcess/INFO] 2880 cases completed\n",
      "[MainProcess/INFO] 3240 cases completed\n",
      "[MainProcess/INFO] 3600 cases completed\n",
      "[MainProcess/INFO] experiments finished\n",
      "[MainProcess/INFO] terminating pool\n"
     ]
    }
   ],
   "source": [
    "with MultiprocessingEvaluator(dike_model) as evaluator:\n",
    "    results = evaluator.perform_experiments(scenarios=400,policies=policies)"
   ]
  },
  {
   "cell_type": "code",
   "execution_count": 20,
   "metadata": {},
   "outputs": [
    {
     "name": "stderr",
     "output_type": "stream",
     "text": [
      "[MainProcess/INFO] results saved successfully to /Users/jrwang/Documents/Coding/Model-based-decision-making/Outcomes/MOROpolicies400Scenarios.csv\n"
     ]
    }
   ],
   "source": [
    "from ema_workbench.util.utilities import (save_results, load_results)\n",
    "\n",
    "save_results(results, \"Outcomes/MOROpolicies400Scenarios.csv\" )"
   ]
  },
  {
   "cell_type": "code",
   "execution_count": 4,
   "metadata": {},
   "outputs": [
    {
     "name": "stderr",
     "output_type": "stream",
     "text": [
      "[MainProcess/INFO] results loaded succesfully from /Users/jrwang/Documents/Coding/Model-based-decision-making/Outcomes/MOROpolicies400Scenarios.csv\n"
     ]
    },
    {
     "data": {
      "text/html": [
       "<div>\n",
       "<style scoped>\n",
       "    .dataframe tbody tr th:only-of-type {\n",
       "        vertical-align: middle;\n",
       "    }\n",
       "\n",
       "    .dataframe tbody tr th {\n",
       "        vertical-align: top;\n",
       "    }\n",
       "\n",
       "    .dataframe thead th {\n",
       "        text-align: right;\n",
       "    }\n",
       "</style>\n",
       "<table border=\"1\" class=\"dataframe\">\n",
       "  <thead>\n",
       "    <tr style=\"text-align: right;\">\n",
       "      <th></th>\n",
       "      <th>A.0_ID flood wave shape</th>\n",
       "      <th>A.1_Bmax</th>\n",
       "      <th>A.1_Brate</th>\n",
       "      <th>A.1_pfail</th>\n",
       "      <th>A.2_Bmax</th>\n",
       "      <th>A.2_Brate</th>\n",
       "      <th>A.2_pfail</th>\n",
       "      <th>A.3_Bmax</th>\n",
       "      <th>A.3_Brate</th>\n",
       "      <th>A.3_pfail</th>\n",
       "      <th>...</th>\n",
       "      <th>A.3_Dike Investment Costs 2</th>\n",
       "      <th>A.3_Expected Number of Deaths 2</th>\n",
       "      <th>A.4_Expected Annual Damage 2</th>\n",
       "      <th>A.4_Dike Investment Costs 2</th>\n",
       "      <th>A.4_Expected Number of Deaths 2</th>\n",
       "      <th>A.5_Expected Annual Damage 2</th>\n",
       "      <th>A.5_Dike Investment Costs 2</th>\n",
       "      <th>A.5_Expected Number of Deaths 2</th>\n",
       "      <th>RfR Total Costs 2</th>\n",
       "      <th>Expected Evacuation Costs 2</th>\n",
       "    </tr>\n",
       "  </thead>\n",
       "  <tbody>\n",
       "    <tr>\n",
       "      <th>0</th>\n",
       "      <td>16.0</td>\n",
       "      <td>95.366886</td>\n",
       "      <td>1.0</td>\n",
       "      <td>0.334887</td>\n",
       "      <td>278.890461</td>\n",
       "      <td>10.0</td>\n",
       "      <td>0.602767</td>\n",
       "      <td>173.139661</td>\n",
       "      <td>1.5</td>\n",
       "      <td>0.364909</td>\n",
       "      <td>...</td>\n",
       "      <td>5.639157e+07</td>\n",
       "      <td>0.0</td>\n",
       "      <td>0.0</td>\n",
       "      <td>5.585544e+07</td>\n",
       "      <td>0.0</td>\n",
       "      <td>0.0</td>\n",
       "      <td>6.071198e+07</td>\n",
       "      <td>0.0</td>\n",
       "      <td>30700000.0</td>\n",
       "      <td>0.0</td>\n",
       "    </tr>\n",
       "    <tr>\n",
       "      <th>1</th>\n",
       "      <td>20.0</td>\n",
       "      <td>311.236496</td>\n",
       "      <td>1.5</td>\n",
       "      <td>0.648404</td>\n",
       "      <td>102.259704</td>\n",
       "      <td>1.0</td>\n",
       "      <td>0.888705</td>\n",
       "      <td>84.422554</td>\n",
       "      <td>1.5</td>\n",
       "      <td>0.359334</td>\n",
       "      <td>...</td>\n",
       "      <td>5.639157e+07</td>\n",
       "      <td>0.0</td>\n",
       "      <td>0.0</td>\n",
       "      <td>5.585544e+07</td>\n",
       "      <td>0.0</td>\n",
       "      <td>0.0</td>\n",
       "      <td>6.071198e+07</td>\n",
       "      <td>0.0</td>\n",
       "      <td>30700000.0</td>\n",
       "      <td>0.0</td>\n",
       "    </tr>\n",
       "    <tr>\n",
       "      <th>2</th>\n",
       "      <td>102.0</td>\n",
       "      <td>300.059210</td>\n",
       "      <td>1.0</td>\n",
       "      <td>0.449451</td>\n",
       "      <td>111.094021</td>\n",
       "      <td>1.5</td>\n",
       "      <td>0.935721</td>\n",
       "      <td>208.285945</td>\n",
       "      <td>10.0</td>\n",
       "      <td>0.006956</td>\n",
       "      <td>...</td>\n",
       "      <td>5.639157e+07</td>\n",
       "      <td>0.0</td>\n",
       "      <td>0.0</td>\n",
       "      <td>5.585544e+07</td>\n",
       "      <td>0.0</td>\n",
       "      <td>0.0</td>\n",
       "      <td>6.071198e+07</td>\n",
       "      <td>0.0</td>\n",
       "      <td>30700000.0</td>\n",
       "      <td>0.0</td>\n",
       "    </tr>\n",
       "    <tr>\n",
       "      <th>3</th>\n",
       "      <td>69.0</td>\n",
       "      <td>128.702886</td>\n",
       "      <td>10.0</td>\n",
       "      <td>0.595469</td>\n",
       "      <td>119.355882</td>\n",
       "      <td>1.0</td>\n",
       "      <td>0.872678</td>\n",
       "      <td>146.418145</td>\n",
       "      <td>1.0</td>\n",
       "      <td>0.685500</td>\n",
       "      <td>...</td>\n",
       "      <td>5.639157e+07</td>\n",
       "      <td>0.0</td>\n",
       "      <td>0.0</td>\n",
       "      <td>5.585544e+07</td>\n",
       "      <td>0.0</td>\n",
       "      <td>0.0</td>\n",
       "      <td>6.071198e+07</td>\n",
       "      <td>0.0</td>\n",
       "      <td>30700000.0</td>\n",
       "      <td>0.0</td>\n",
       "    </tr>\n",
       "    <tr>\n",
       "      <th>4</th>\n",
       "      <td>44.0</td>\n",
       "      <td>278.386091</td>\n",
       "      <td>10.0</td>\n",
       "      <td>0.190867</td>\n",
       "      <td>149.400545</td>\n",
       "      <td>1.0</td>\n",
       "      <td>0.153690</td>\n",
       "      <td>335.927277</td>\n",
       "      <td>1.5</td>\n",
       "      <td>0.905726</td>\n",
       "      <td>...</td>\n",
       "      <td>5.639157e+07</td>\n",
       "      <td>0.0</td>\n",
       "      <td>0.0</td>\n",
       "      <td>5.585544e+07</td>\n",
       "      <td>0.0</td>\n",
       "      <td>0.0</td>\n",
       "      <td>6.071198e+07</td>\n",
       "      <td>0.0</td>\n",
       "      <td>30700000.0</td>\n",
       "      <td>0.0</td>\n",
       "    </tr>\n",
       "  </tbody>\n",
       "</table>\n",
       "<p>5 rows × 103 columns</p>\n",
       "</div>"
      ],
      "text/plain": [
       "   A.0_ID flood wave shape    A.1_Bmax A.1_Brate  A.1_pfail    A.2_Bmax  \\\n",
       "0                     16.0   95.366886       1.0   0.334887  278.890461   \n",
       "1                     20.0  311.236496       1.5   0.648404  102.259704   \n",
       "2                    102.0  300.059210       1.0   0.449451  111.094021   \n",
       "3                     69.0  128.702886      10.0   0.595469  119.355882   \n",
       "4                     44.0  278.386091      10.0   0.190867  149.400545   \n",
       "\n",
       "  A.2_Brate  A.2_pfail    A.3_Bmax A.3_Brate  A.3_pfail  ...  \\\n",
       "0      10.0   0.602767  173.139661       1.5   0.364909  ...   \n",
       "1       1.0   0.888705   84.422554       1.5   0.359334  ...   \n",
       "2       1.5   0.935721  208.285945      10.0   0.006956  ...   \n",
       "3       1.0   0.872678  146.418145       1.0   0.685500  ...   \n",
       "4       1.0   0.153690  335.927277       1.5   0.905726  ...   \n",
       "\n",
       "   A.3_Dike Investment Costs 2 A.3_Expected Number of Deaths 2  \\\n",
       "0                 5.639157e+07                             0.0   \n",
       "1                 5.639157e+07                             0.0   \n",
       "2                 5.639157e+07                             0.0   \n",
       "3                 5.639157e+07                             0.0   \n",
       "4                 5.639157e+07                             0.0   \n",
       "\n",
       "   A.4_Expected Annual Damage 2  A.4_Dike Investment Costs 2  \\\n",
       "0                           0.0                 5.585544e+07   \n",
       "1                           0.0                 5.585544e+07   \n",
       "2                           0.0                 5.585544e+07   \n",
       "3                           0.0                 5.585544e+07   \n",
       "4                           0.0                 5.585544e+07   \n",
       "\n",
       "  A.4_Expected Number of Deaths 2  A.5_Expected Annual Damage 2  \\\n",
       "0                             0.0                           0.0   \n",
       "1                             0.0                           0.0   \n",
       "2                             0.0                           0.0   \n",
       "3                             0.0                           0.0   \n",
       "4                             0.0                           0.0   \n",
       "\n",
       "  A.5_Dike Investment Costs 2 A.5_Expected Number of Deaths 2  \\\n",
       "0                6.071198e+07                             0.0   \n",
       "1                6.071198e+07                             0.0   \n",
       "2                6.071198e+07                             0.0   \n",
       "3                6.071198e+07                             0.0   \n",
       "4                6.071198e+07                             0.0   \n",
       "\n",
       "  RfR Total Costs 2  Expected Evacuation Costs 2  \n",
       "0        30700000.0                          0.0  \n",
       "1        30700000.0                          0.0  \n",
       "2        30700000.0                          0.0  \n",
       "3        30700000.0                          0.0  \n",
       "4        30700000.0                          0.0  \n",
       "\n",
       "[5 rows x 103 columns]"
      ]
     },
     "execution_count": 4,
     "metadata": {},
     "output_type": "execute_result"
    }
   ],
   "source": [
    "from ema_workbench.util.utilities import (save_results, load_results)\n",
    "\n",
    "results = load_results('Outcomes/MOROpolicies400Scenarios.csv')\n",
    "\n",
    "experiments, outcomes = results\n",
    "outcomes = pd.DataFrame(outcomes)\n",
    "experiments = pd.DataFrame(experiments)\n",
    "results = experiments.join(outcomes)\n",
    "results = results.drop(columns=\"model\")\n",
    "# results = results.apply(pd.to_numeric)\n",
    "results.head()"
   ]
  },
  {
   "cell_type": "code",
   "execution_count": 5,
   "metadata": {},
   "outputs": [],
   "source": [
    "aggregate_outcomes(results, \"Expected Annual Damage\")\n",
    "aggregate_outcomes(results, \"Expected Number of Deaths\")"
   ]
  },
  {
   "cell_type": "code",
   "execution_count": 6,
   "metadata": {},
   "outputs": [
    {
     "data": {
      "image/png": "[encoded data removed]",
      "text/plain": [
       "<Figure size 720x216 with 2 Axes>"
      ]
     },
     "metadata": {},
     "output_type": "display_data"
    }
   ],
   "source": [
    "total_outcomes = [\"Total Expected Annual Damage\", \"Total Expected Number of Deaths\"]\n",
    "\n",
    "boxplot_maker(results, total_outcomes)"
   ]
  },
  {
   "cell_type": "code",
   "execution_count": null,
   "metadata": {},
   "outputs": [],
   "source": [
    "histogram_maker(results, \"Expected Annual Damage\")\n",
    "histogram_maker(results, \"Expected Number of Deaths\")"
   ]
  },
  {
   "cell_type": "code",
   "execution_count": null,
   "metadata": {},
   "outputs": [],
   "source": [
    "mean_outcomes(results)"
   ]
  },
  {
   "cell_type": "markdown",
   "metadata": {},
   "source": [
    "Caution when looking at the plots, because the legend is not fixed! "
   ]
  },
  {
   "cell_type": "code",
   "execution_count": null,
   "metadata": {},
   "outputs": [],
   "source": [
    "scatter_maker(results, \"Expected Annual Damage\")\n",
    "scatter_maker(results, \"Expected Number of Deaths\")"
   ]
  },
  {
   "cell_type": "code",
   "execution_count": null,
   "metadata": {},
   "outputs": [],
   "source": [
    "pairplot_maker(results, \"A.2\")"
   ]
  },
  {
   "cell_type": "markdown",
   "metadata": {},
   "source": [
    "## Scenario Discovery"
   ]
  },
  {
   "cell_type": "code",
   "execution_count": null,
   "metadata": {},
   "outputs": [],
   "source": [
    "aggregate_outcomes(results, \"Expected Number of Deaths\")\n",
    "aggregate_outcomes(results, \"Expected Annual Damage\")"
   ]
  },
  {
   "cell_type": "code",
   "execution_count": null,
   "metadata": {},
   "outputs": [],
   "source": [
    "boxplot_histogram_maker(results)"
   ]
  },
  {
   "cell_type": "code",
   "execution_count": null,
   "metadata": {},
   "outputs": [],
   "source": [
    "x = results.iloc[:, :19] # Only take the uncertentainties \n",
    "\n",
    "y_deaths = results['Total Expected Number of Deaths'].values\n",
    "y_deaths = y_deaths > np.percentile(y_deaths, 95)"
   ]
  },
  {
   "cell_type": "code",
   "execution_count": null,
   "metadata": {},
   "outputs": [],
   "source": [
    "prim_alg = prim.Prim(x, y_deaths, threshold=0.55, peel_alpha=0.005)\n",
    "box1 = prim_alg.find_box()\n",
    "\n",
    "box1.show_tradeoff()\n",
    "plt.show()"
   ]
  },
  {
   "cell_type": "code",
   "execution_count": null,
   "metadata": {},
   "outputs": [],
   "source": [
    "box1.inspect()\n",
    "box1.inspect(style='graph')\n",
    "plt.show()"
   ]
  },
  {
   "cell_type": "code",
   "execution_count": null,
   "metadata": {},
   "outputs": [],
   "source": [
    "box1.select(-1)\n",
    "box1.show_pairs_scatter()\n",
    "fig = plt.gcf()\n",
    "fig.set_size_inches(12,12)\n",
    "plt.show()"
   ]
  },
  {
   "cell_type": "markdown",
   "metadata": {},
   "source": [
    "## Further investigation on specific locations\n",
    "\n",
    "Check A.1 as well..\n",
    "\n",
    "Further discovery of location A2 and time step 1 as the scatter plots and histograms showed that the policies are not robust yet. "
   ]
  },
  {
   "cell_type": "code",
   "execution_count": null,
   "metadata": {},
   "outputs": [],
   "source": [
    "y_deaths_A1 = results[\"A.1_Expected Number of Deaths 0\"]\n",
    "y_deaths_A1 = y_deaths_A1 > np.percentile(y_deaths_A1, 90)"
   ]
  },
  {
   "cell_type": "code",
   "execution_count": null,
   "metadata": {},
   "outputs": [],
   "source": [
    "prim_alg = prim.Prim(x, y_deaths_A1, threshold=0.40, peel_alpha=0.0001)\n",
    "box1 = prim_alg.find_box()\n",
    "\n",
    "box1.show_tradeoff()\n",
    "plt.show()"
   ]
  },
  {
   "cell_type": "code",
   "execution_count": null,
   "metadata": {},
   "outputs": [],
   "source": [
    "box1.select(-1)\n",
    "box1.show_pairs_scatter()\n",
    "fig = plt.gcf()\n",
    "fig.set_size_inches(12,12)\n",
    "plt.show()"
   ]
  },
  {
   "cell_type": "code",
   "execution_count": null,
   "metadata": {},
   "outputs": [],
   "source": [
    "cart_alg = cart.CART(x, y_deaths_A1, 0.05)\n",
    "cart_alg.build_tree()\n",
    "\n",
    "print(cart_alg.stats_to_dataframe())\n",
    "print(cart_alg.boxes_to_dataframe())\n",
    "\n",
    "cart_alg.show_tree()\n",
    "fig = plt.gcf()\n",
    "fig.figure(figsize = 12, 12)\n",
    "plt.show()"
   ]
  },
  {
   "cell_type": "code",
   "execution_count": null,
   "metadata": {},
   "outputs": [],
   "source": [
    "y_damages_A1 = results[\"A.1_Expected Annual Damage 0\"]\n",
    "y_damages_A1 = y_damages_A1 > np.percentile(y_damages_A1, 90)"
   ]
  },
  {
   "cell_type": "code",
   "execution_count": null,
   "metadata": {},
   "outputs": [],
   "source": [
    "prim_alg = prim.Prim(x, y_deaths_A1, threshold=0.40, peel_alpha=0.1)\n",
    "box1 = prim_alg.find_box()\n",
    "\n",
    "box1.show_tradeoff()\n",
    "plt.show()"
   ]
  },
  {
   "cell_type": "code",
   "execution_count": null,
   "metadata": {},
   "outputs": [],
   "source": [
    "box1.select(-1)\n",
    "box1.show_pairs_scatter()\n",
    "fig = plt.gcf()\n",
    "fig.set_size_inches(12,12)\n",
    "plt.show()"
   ]
  },
  {
   "cell_type": "code",
   "execution_count": null,
   "metadata": {},
   "outputs": [],
   "source": [
    "cart_alg = cart.CART(x, y_damages_A1, 0.05)\n",
    "cart_alg.build_tree()\n",
    "\n",
    "print(cart_alg.stats_to_dataframe())\n",
    "print(cart_alg.boxes_to_dataframe())\n",
    "\n",
    "cart_alg.show_tree()\n",
    "fig = plt.gcf()\n",
    "fig.figure(figsize = 12, 12)\n",
    "plt.show()"
   ]
  },
  {
   "cell_type": "markdown",
   "metadata": {},
   "source": [
    "## A.2"
   ]
  },
  {
   "cell_type": "code",
   "execution_count": null,
   "metadata": {},
   "outputs": [],
   "source": [
    "# A.2_Expected Annual Damage 0\n",
    "# A.2_Expected Number of Deaths 0\n",
    "\n",
    "y_deaths_A2 = results[\"A.2_Expected Number of Deaths 0\"]\n",
    "y_deaths_A2 = y_deaths_A2 > np.percentile(y_deaths_A2, 90)"
   ]
  },
  {
   "cell_type": "code",
   "execution_count": null,
   "metadata": {},
   "outputs": [],
   "source": [
    "prim_alg = prim.Prim(x, y_deaths_A2, threshold=0.40, peel_alpha=0.0001)\n",
    "box1 = prim_alg.find_box()\n",
    "\n",
    "box1.show_tradeoff()\n",
    "plt.show()"
   ]
  },
  {
   "cell_type": "code",
   "execution_count": null,
   "metadata": {},
   "outputs": [],
   "source": [
    "box1.inspect()\n",
    "box1.inspect(style='graph')\n",
    "plt.show()"
   ]
  },
  {
   "cell_type": "code",
   "execution_count": null,
   "metadata": {},
   "outputs": [],
   "source": [
    "box1.select(-1)\n",
    "box1.show_pairs_scatter()\n",
    "fig = plt.gcf()\n",
    "fig.set_size_inches(12,12)\n",
    "plt.show()"
   ]
  },
  {
   "cell_type": "code",
   "execution_count": null,
   "metadata": {},
   "outputs": [],
   "source": [
    "cart_alg = cart.CART(x, y_deaths_A2, 0.05)\n",
    "cart_alg.build_tree()\n",
    "\n",
    "print(cart_alg.stats_to_dataframe())\n",
    "print(cart_alg.boxes_to_dataframe())\n",
    "\n",
    "cart_alg.show_tree()\n",
    "fig = plt.gcf()\n",
    "fig.figure(figsize = 12, 12)\n",
    "plt.show()"
   ]
  },
  {
   "cell_type": "code",
   "execution_count": null,
   "metadata": {},
   "outputs": [],
   "source": [
    "y_damages_A2 = results[\"A.2_Expected Annual Damage 0\"]\n",
    "y_damages_A2 = y_damages_A2 > np.percentile(y_damages_A2, 90)"
   ]
  },
  {
   "cell_type": "code",
   "execution_count": null,
   "metadata": {},
   "outputs": [],
   "source": [
    "prim_alg = prim.Prim(x, y_damages_A2, threshold=0.40, peel_alpha=0.1)\n",
    "box1 = prim_alg.find_box()\n",
    "\n",
    "box1.show_tradeoff()\n",
    "plt.show()"
   ]
  },
  {
   "cell_type": "code",
   "execution_count": null,
   "metadata": {},
   "outputs": [],
   "source": [
    "box1.select(-1)\n",
    "box1.show_pairs_scatter()\n",
    "fig = plt.gcf()\n",
    "fig.set_size_inches(12,12)\n",
    "plt.show()"
   ]
  },
  {
   "cell_type": "code",
   "execution_count": null,
   "metadata": {},
   "outputs": [],
   "source": [
    "# PCA: same coverage\n",
    "\n",
    "# x_numeric = x.select_dtypes(exclude=pd.CategoricalDtype)\n",
    "# x_categorical = x.select_dtypes(include=pd.CategoricalDtype)\n",
    "\n",
    "# rotated_experiments, rotation_matrix = prim.pca_preprocess(x_numeric, y_damages_A2)\n",
    "\n",
    "# rotated_x = pd.concat([rotated_experiments, x_categorical], axis=1)\n",
    "\n",
    "# prim_obj = prim.Prim(rotated_x, y_damages_A2, threshold=0.1, peel_alpha=0.1)\n",
    "# box1 = prim_obj.find_box()\n",
    "\n",
    "# box1.show_tradeoff()\n",
    "# plt.show()"
   ]
  },
  {
   "cell_type": "code",
   "execution_count": null,
   "metadata": {},
   "outputs": [],
   "source": [
    "cart_alg = cart.CART(x, y_damages_A2, 0.05)\n",
    "cart_alg.build_tree()\n",
    "\n",
    "print(cart_alg.stats_to_dataframe())\n",
    "print(cart_alg.boxes_to_dataframe())\n",
    "\n",
    "cart_alg.show_tree()\n",
    "fig = plt.gcf()\n",
    "fig.figure(figsize = 12, 12)\n",
    "plt.show()"
   ]
  }
 ],
 "metadata": {
  "kernelspec": {
   "display_name": "Python 3",
   "language": "python",
   "name": "python3"
  },
  "language_info": {
   "codemirror_mode": {
    "name": "ipython",
    "version": 3
   },
   "file_extension": ".py",
   "mimetype": "text/x-python",
   "name": "python",
   "nbconvert_exporter": "python",
   "pygments_lexer": "ipython3",
   "version": "3.7.3"
  }
 },
 "nbformat": 4,
 "nbformat_minor": 2
}
