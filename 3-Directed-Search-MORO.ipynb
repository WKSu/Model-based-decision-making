{
 "cells": [
  {
   "cell_type": "markdown",
   "metadata": {},
   "source": [
    "# GreenRivers MORO"
   ]
  },
  {
   "cell_type": "markdown",
   "metadata": {
    "toc-hr-collapsed": true
   },
   "source": [
    "## 1. Introduction\n",
    "\n",
    "# RELINK these\n",
    "In the previous two files, we performed open exploration of the base case (do nothing) with 1000 scenarios ([here](1.%20Open%20exploration%20base%20case.ipynb)) and a sample run with 400 scenarios and 75 policies ([here]()). The first step gave us an impression of what the system might look like if we do nothing. With the second, we were able to learn a lot more about the modelled world. Most importantly, we wanted to know what the total output space might look like, and if any policies (set of decisions) would lead to a worse outcome than the base case.\n",
    "\n",
    "With this information, we can begin doing Multi-objective Robust Optimization (MORO) with the model to find a set of non-dominated (i.e. best) policies across a whole range of scenarios.\n",
    "\n",
    "[WORDS](#s1)\n",
    "\n"
   ]
  },
  {
   "cell_type": "markdown",
   "metadata": {},
   "source": [
    "### <a id=\"s1\">1.1 Methodology</a>\n",
    "A methodology summary follows below; more detailed discussion of each step lives near it. Our MORO approach is based on Kwakkel, J. H., Haasnoot, M., & Walker, W. E. (2015). Developing dynamic adaptive policy pathways: a computer-assisted approach for developing adaptive strategies for a deeply uncertain world. Climatic Change, 132(3), 373–386. https://doi.org/10.1007/s10584-014-1210-4.\n",
    "\n",
    "\n",
    "\n",
    "1. Finally, run [MORO](#section_id). We use the $\\epsilon$-NSGA-II algorithm here.\n",
    "\n",
    "The term \"robustness\" is quite often defined differently. We use it as a measure of _how well a policy performs over different scenarios_.\n",
    "\n",
    "As a brief overview of MORO, its steps are mainly:\n",
    "1. Define a list of outcomes $o$ and what you want it to be optimized for (e.g. min)\n",
    "1. Sample a set of $n$ scenarios\n",
    "1. Create an $m$ sized population of test policies\n",
    "1. Test each of those policies again the scenarios ($n \\times m$ results)\n",
    "1. Evaluate the performance of each policy for each outcome over those scenarios on aggregate to determine its *robustness* over scenarios ($o \\times m$ results)\n",
    "1. Take the best performing policies (e.g. best 10%), mutate them into $m$ policies, and test them again against the $n$ scenarios"
   ]
  },
  {
   "cell_type": "markdown",
   "metadata": {
    "toc-hr-collapsed": true
   },
   "source": [
    "## 2. Set up MORO"
   ]
  },
  {
   "cell_type": "markdown",
   "metadata": {},
   "source": [
    "### 2.1 Load Required Packages and Modules"
   ]
  },
  {
   "cell_type": "code",
   "execution_count": 30,
   "metadata": {},
   "outputs": [
    {
     "data": {
      "text/plain": [
       "<Logger EMA (DEBUG)>"
      ]
     },
     "execution_count": 30,
     "metadata": {},
     "output_type": "execute_result"
    }
   ],
   "source": [
    "import numpy as np\n",
    "import scipy as sp\n",
    "import pandas as pd\n",
    "import matplotlib.pyplot as plt\n",
    "import seaborn as sns\n",
    "import time\n",
    "import pickle\n",
    "\n",
    "from ema_workbench import (Model, CategoricalParameter,\n",
    "                           ScalarOutcome, IntegerParameter, RealParameter, Constraint)\n",
    "\n",
    "from ema_workbench import (Model, MultiprocessingEvaluator, Policy, Scenario, SequentialEvaluator)\n",
    "\n",
    "from ema_workbench.em_framework.evaluators import perform_experiments, optimize\n",
    "from ema_workbench.em_framework.samplers import sample_uncertainties\n",
    "from ema_workbench.util import ema_logging, utilities\n",
    "\n",
    "from visualization_functions import *\n",
    "\n",
    "# Set a logging style so we can peer into the process\n",
    "ema_logging.log_to_stderr(ema_logging.INFO)"
   ]
  },
  {
   "cell_type": "markdown",
   "metadata": {},
   "source": [
    "### 2.2 Define Robustness Functions\n",
    "\n",
    "For each policy, EMAworkbench extracts $o$ outcomes in an $[1 \\times o]$ array. However, to compare the policies against one another, we must define a robustness score for this entire set of outcomes.\n",
    "\n",
    "Additionally, in the dike model, we get outcomes for multiple points in time and space (e.g. investment costs of Room for the River projects can be at any location and any of the decision times). This actually leaves us with an $[x \\times o]$ array, where $x$ is the number of relevant variables for the overall outcome we are interested in. Therefore, we need to first sum that initial array into an $[1 \\times o]$ array. This is done in the `sumover_robustness()` function below.\n",
    "\n",
    "This step is quite important and potentially controversial: we are aggregating a metric in such a manner that individual performance is not necesarily reflected. We become impartial to location and time."
   ]
  },
  {
   "cell_type": "code",
   "execution_count": 31,
   "metadata": {},
   "outputs": [],
   "source": [
    "def sumover_robustness(*data):\n",
    "    '''\n",
    "    Aggregates multiple outcomes (across time and space) into one robustness score.\n",
    "    \n",
    "    Parameters\n",
    "    ----------\n",
    "    data : multiple n-length (but same) arrays and sums up element-wise into a [1,n] array\n",
    "\n",
    "    Returns\n",
    "    -------\n",
    "    score: A score from the robustness function for the [1,n] array.\n",
    "    '''\n",
    "    score = robustness(sum(data))\n",
    "    \n",
    "    return score"
   ]
  },
  {
   "cell_type": "markdown",
   "metadata": {},
   "source": [
    "Similary, the robustness score is arbitrary. Here, we define it in `robustness()` as the mean of the outcome across the scenarios multiplied by the interquartile range (IQR) of the same. We chose this approach because we want to minimize both the mean and the amount of variation in the outcome space. Little variation means the policy is quite robust, and a low mean lets us achieve a result closer to our objective (e.g. low required investment cost).\n",
    "\n",
    "If someone wanted to maximize an outcome instead, then this function is not suitable. We add 0.5% of the mean to the IQR so that it does not dominate the robustness score. For instance, if the IQR is zero and the mean is not, the score will not be zero. If the mean is zero, the IQR will also already be zero (our model produces no negative values)."
   ]
  },
  {
   "cell_type": "code",
   "execution_count": 32,
   "metadata": {},
   "outputs": [],
   "source": [
    "def robustness(data):\n",
    "    '''\n",
    "    Returns a robustness score for values in a [1,n] array, which you want to minimize.\n",
    "    \n",
    "    We want a function that returns 0 for the outcome to be in the range that we want and higher otherwise.\n",
    "    \n",
    "    This function multiplies the mean with the sum of the interquartile range and 0.5% of the mean.\n",
    "    \n",
    "    Parameters\n",
    "    ----------\n",
    "    data : a [1,n] array from sumover_robustness()\n",
    "\n",
    "    Returns\n",
    "    -------\n",
    "    \n",
    "    score : score for the [1,n] array\n",
    "    \n",
    "    '''\n",
    "    \n",
    "    # Normalize\n",
    "    mean = np.mean(data)\n",
    "    iqr = sp.stats.iqr(data) + mean * 0.005 # Add a small number so the mean is still considered in the score rather than 0\n",
    "    score = mean * iqr\n",
    "    \n",
    "    return score"
   ]
  },
  {
   "cell_type": "markdown",
   "metadata": {
    "toc-hr-collapsed": true
   },
   "source": [
    "### 2.3 Determine MORO Convergence Metrics\n",
    "\n",
    "In any optimization, it is important to look understand if the algorithm has converged or not. There's no easy way to explain this, but perhaps two of [Zeno's paradoxes](https://en.wikipedia.org/wiki/Zeno%27s_paradoxes#Dichotomy_paradox) provides the best illustration. These algorithms are iterative and move closer and closer to their 'best' or 'true' value. We want to know when it is close enough for our satisfaction.\n",
    "\n",
    "![Zeno's Dichotomy Paradox by Martin Grandjean](https://upload.wikimedia.org/wikipedia/commons/thumb/d/d7/Zeno_Dichotomy_Paradox.png/800px-Zeno_Dichotomy_Paradox.png)\n",
    "\n",
    "Picture: Grandjean, Martin (2014) [Henri Bergson et les paradoxes de Zénon : Achille battu par la tortue ?](http://www.martingrandjean.ch/bergson-paradoxes-zenon-achille-tortue/). Accessed from [WikiMedia Commons](https://commons.wikimedia.org/wiki/File:Zeno_Dichotomy_Paradox.png).\n",
    "\n",
    "The EMAworkbench comes with two metrics: a hypervolume indicator and $\\epsilon$-convergence (epsilon). We will not go into further detail about them, but you can read about them [here (Reed et. al (2013)](https://doi.org/10.1016/j.advwatres.2012.01.005) and [here (Kasprzyk et. al (2012))](https://doi.org/10.1016/j.envsoft.2011.04.003), respectively (the former talks about $\\epsilon$ as well and is a better introduction). There is also a fantastic video about hypervolume indicators [here](https://www.youtube.com/watch?v=cR4r1aNPBkQ)."
   ]
  },
  {
   "cell_type": "markdown",
   "metadata": {},
   "source": [
    "#### 2.3.1 Hypervolume Indicator Convergence"
   ]
  },
  {
   "cell_type": "markdown",
   "metadata": {},
   "source": [
    "The hypervolume indicator algorithm requires that we provide it with the expected range of each outcome. To understand the possibilities for these outcomes, we need to load our results from open exploration (random policies under random scenarios)."
   ]
  },
  {
   "cell_type": "code",
   "execution_count": 33,
   "metadata": {},
   "outputs": [
    {
     "name": "stderr",
     "output_type": "stream",
     "text": [
      "[MainProcess/INFO] results loaded succesfully from /Users/jrwang/Documents/Coding/Model-based-decision-making/Outcomes/400Scenarios75Policies.csv\n"
     ]
    }
   ],
   "source": [
    "from ema_workbench.util.utilities import (save_results, load_results)\n",
    "\n",
    "results = load_results('Outcomes/400Scenarios75Policies.csv')"
   ]
  },
  {
   "cell_type": "code",
   "execution_count": 34,
   "metadata": {},
   "outputs": [],
   "source": [
    "experiments, outcomes = results\n",
    "outcomes = pd.DataFrame(outcomes)"
   ]
  },
  {
   "cell_type": "markdown",
   "metadata": {},
   "source": [
    "We need to aggregate each outcome we are interested in by time and space (the problems of doing this are already discussed in 2.2). Then, we can find the robustness score for every policy under every outcome. Finally, we will want to extract the minimum and the maximum values for each outcome's robustness score."
   ]
  },
  {
   "cell_type": "code",
   "execution_count": 35,
   "metadata": {},
   "outputs": [],
   "source": [
    "aggregate_outcomes(outcomes,\"Expected Annual Damage\")\n",
    "aggregate_outcomes(outcomes,\"Dike Investment Costs\")\n",
    "aggregate_outcomes(outcomes,\"Expected Number of Deaths\")\n",
    "aggregate_outcomes(outcomes,\"RfR Total Costs\")\n",
    "aggregate_outcomes(outcomes,\"Expected Evacuation Costs\")\n",
    "\n",
    "everything = pd.DataFrame(experiments[\"policy\"]).join(outcomes)\n",
    "robust_values = everything.groupby(by = [\"policy\"]).apply(robustness).iloc[:, -5:]\n",
    "\n",
    "hyp_ranges_min = robust_values.apply(np.min)\n",
    "hyp_ranges_max = robust_values.apply(np.max)"
   ]
  },
  {
   "cell_type": "markdown",
   "metadata": {},
   "source": [
    "#### 2.3.2 $\\epsilon$-convergence"
   ]
  },
  {
   "cell_type": "markdown",
   "metadata": {},
   "source": [
    "Here, we follow Kasprzyk et al. in looking at the maximum variance of the dominating values (i.e. those near a Pareto front), which should yield $\\epsilon$ values that will speed up the algorithm. For this, we can ran a small MORO instance. Kaspryzk et al. used Monte Carlo sampling across their open exploration results, which is much faster than our approach. However, we're not quite sure if they picked the ones near their Pareto front though. In that sense, our values should be more useful. Unfortunately, this means we will have to set up and run MORO briefly. For now, we will choose to use a very small grid size – `0.05` for all values."
   ]
  },
  {
   "cell_type": "code",
   "execution_count": 36,
   "metadata": {},
   "outputs": [],
   "source": [
    "# Initialize model parameters\n",
    "from model.dike_model_function import DikeNetwork\n",
    "from model.problem_formulation import get_model_for_problem_formulation"
   ]
  },
  {
   "cell_type": "markdown",
   "metadata": {},
   "source": [
    "We again pick problem formulation `5` because it provides the most resolution of outcomes. Though we are aggregating them to apply the robustness score, we still want to see their raw output."
   ]
  },
  {
   "cell_type": "code",
   "execution_count": 37,
   "metadata": {},
   "outputs": [],
   "source": [
    "dike_model, planning_steps = get_model_for_problem_formulation(5)"
   ]
  },
  {
   "cell_type": "markdown",
   "metadata": {},
   "source": [
    "Next we define, in EMAworkbench terms, all the parameters we want to optimize for and the constraints we want to add to the optimization algorithm.\n",
    "\n",
    "Each of these $x$ variable names are aggregated in the $o$ outcomes. Explicitly, the outcome _investment costs in Room for the River projects_ can be made at all three decision steps (0, 1, and 2; $\\therefore o = 3$). We store these in `var_list_rfr` and then define the outcome later as a `ScalarOutcome` with the name 'RfR Invest Score.'\n",
    "\n",
    "The constraints are implented as 'soft constraints' to account for the environmental benefits of implementing Room for the River projects as early as possible. The Room for the River ecosystem (with wildlife, fauna, etc.) benefit more from the project the earlier it is implemented. Social benefits are not considered here, though we acknowledge that they exist (e.g. people value green space in and near cities)."
   ]
  },
  {
   "cell_type": "code",
   "execution_count": 38,
   "metadata": {},
   "outputs": [],
   "source": [
    "# Store this method with a shorter name\n",
    "MINIMIZE = ScalarOutcome.MINIMIZE\n",
    "\n",
    "# List the names of vars to make `robustness_functions` a bit more read-able\n",
    "var_list_damage = ['A.1_Expected Annual Damage 0','A.1_Expected Annual Damage 1','A.1_Expected Annual Damage 2',\n",
    "                   'A.2_Expected Annual Damage 0','A.2_Expected Annual Damage 1','A.2_Expected Annual Damage 2',\n",
    "                   'A.3_Expected Annual Damage 0','A.3_Expected Annual Damage 1','A.3_Expected Annual Damage 2',\n",
    "                   'A.4_Expected Annual Damage 0','A.4_Expected Annual Damage 1','A.4_Expected Annual Damage 2',\n",
    "                   'A.5_Expected Annual Damage 0','A.5_Expected Annual Damage 1','A.5_Expected Annual Damage 2']\n",
    "var_list_deaths = ['A.1_Expected Number of Deaths 0','A.1_Expected Number of Deaths 1','A.1_Expected Number of Deaths 2',\n",
    "                   'A.2_Expected Number of Deaths 0','A.2_Expected Number of Deaths 1','A.2_Expected Number of Deaths 2',\n",
    "                   'A.3_Expected Number of Deaths 0','A.3_Expected Number of Deaths 1','A.3_Expected Number of Deaths 2',\n",
    "                   'A.4_Expected Number of Deaths 0','A.4_Expected Number of Deaths 1','A.4_Expected Number of Deaths 2',\n",
    "                   'A.5_Expected Number of Deaths 0','A.5_Expected Number of Deaths 1','A.5_Expected Number of Deaths 2']\n",
    "var_list_dike = ['A.1_Dike Investment Costs 0','A.1_Dike Investment Costs 1','A.1_Dike Investment Costs 2',\n",
    "                 'A.2_Dike Investment Costs 0','A.2_Dike Investment Costs 1','A.2_Dike Investment Costs 2',\n",
    "                 'A.3_Dike Investment Costs 0','A.3_Dike Investment Costs 1','A.3_Dike Investment Costs 2',\n",
    "                 'A.4_Dike Investment Costs 0','A.4_Dike Investment Costs 1','A.4_Dike Investment Costs 2',\n",
    "                 'A.5_Dike Investment Costs 0','A.5_Dike Investment Costs 1','A.5_Dike Investment Costs 2']\n",
    "var_list_rfr = ['RfR Total Costs 0', 'RfR Total Costs 1', 'RfR Total Costs 2']\n",
    "var_list_evac = ['Expected Evacuation Costs 0', 'Expected Evacuation Costs 1', 'Expected Evacuation Costs 2']\n",
    "\n",
    "# These functions need to only return one score value...\n",
    "robustness_functions = [\n",
    "    ScalarOutcome('Damage Score', variable_name = var_list_damage,\n",
    "                  function = sumover_robustness, kind = MINIMIZE, expected_range=(0,4e16)),    \n",
    "    ScalarOutcome('Deaths Score', variable_name = var_list_deaths,\n",
    "                  function = sumover_robustness, kind = MINIMIZE, expected_range=(0,8.5e19)),\n",
    "    ScalarOutcome('Dike Invest Score', variable_name = var_list_dike,\n",
    "                  function = sumover_robustness, kind = MINIMIZE, expected_range=(1e18,1.3e7)),\n",
    "    ScalarOutcome('RfR Invest Score', variable_name = var_list_rfr,\n",
    "                  function = sumover_robustness, kind = MINIMIZE, expected_range=(2e16,9.1e17)),\n",
    "    ScalarOutcome('Evac Score', variable_name = var_list_evac,\n",
    "                  function = sumover_robustness, kind = MINIMIZE, expected_range=(0,2.5e12)),\n",
    "]\n",
    "\n",
    "constraints = [Constraint(\"discount_for_rfr_0\", outcome_names=\"RfR Total Costs 0\",\n",
    "                          function=lambda x:max(0, x-426.24)),\n",
    "               Constraint(\"discount_for_rfr_1\", outcome_names=\"RfR Total Costs 1\",\n",
    "                          function=lambda x:max(0, x-284.16)),\n",
    "               Constraint(\"discount_for_rfr_2\", outcome_names=\"RfR Total Costs 2\",\n",
    "                          function=lambda x:max(0, x-142.08))]"
   ]
  },
  {
   "cell_type": "markdown",
   "metadata": {},
   "source": [
    "Now, we can run MORO without the hypervolume indicator. We chose 10 scenarios and 200 nfes here so as to be a small set. **We can find the total number of possiblities – see #9**"
   ]
  },
  {
   "cell_type": "code",
   "execution_count": 39,
   "metadata": {},
   "outputs": [],
   "source": [
    "# from ema_workbench.em_framework.optimization import EpsilonProgress\n",
    "# from ema_workbench.em_framework.evaluators import BaseEvaluator\n",
    "\n",
    "# BaseEvaluator.reporting_frequency = 0.1\n",
    "\n",
    "# epsilons = [0.05,]*len(robustness_functions)\n",
    "\n",
    "# # Record the run time\n",
    "# start = time.time()\n",
    "\n",
    "# # Run MORO\n",
    "# with MultiprocessingEvaluator(dike_model) as evaluator:\n",
    "#     results, convergence = evaluator.robust_optimize(robustness_functions,\n",
    "#                                                      scenarios=10,\n",
    "#                                                      nfe=200,\n",
    "#                                                      epsilons=epsilons,\n",
    "#                                                      convergence=[EpsilonProgress()],\n",
    "#                                                      convergence_freq=1,\n",
    "#                                                      constraint=constraints\n",
    "#                                                     )\n",
    "\n",
    "# end = time.time()\n",
    "# print(\"Time taken: {:0.5f} minutes\".format((end - start)/60))\n",
    "\n",
    "# # Write the results so this step can be skipped when doing multiple analyzes\n",
    "# with open('Outcomes/initial_Pareto_policies.pkl', 'wb') as file_pi:\n",
    "#     pickle.dump(results, file_pi)"
   ]
  },
  {
   "cell_type": "code",
   "execution_count": 40,
   "metadata": {},
   "outputs": [],
   "source": [
    "# Load the results\n",
    "with open('Outcomes/initial_Pareto_policies.pkl', 'rb') as file_pi:\n",
    "    results = pickle.load(file_pi)"
   ]
  },
  {
   "cell_type": "markdown",
   "metadata": {},
   "source": [
    "Now that we can some policies somewhere on a Pareto front, we can run them under more scenarios (scenario discovery) and see the variance of their values across those scenarios. We use 50 scenarios just as a sample fo the scenario space."
   ]
  },
  {
   "cell_type": "code",
   "execution_count": 41,
   "metadata": {},
   "outputs": [],
   "source": [
    "# # Extract the levers for each Pareto policy\n",
    "# policies = []\n",
    "# for row in range(results.shape[0]):\n",
    "#     policies.append(\n",
    "#         # Do not include the damage scores\n",
    "#         Policy(name=row, **results.iloc[row, :-5].to_dict())\n",
    "#     )\n",
    "\n",
    "# start = time.time()\n",
    "\n",
    "# with MultiprocessingEvaluator(dike_model) as evaluator:\n",
    "#     results = evaluator.perform_experiments(scenarios=50,policies=policies)\n",
    "    \n",
    "# end = time.time()\n",
    "# print(\"Time taken: {:0.5f} minutes\".format((end - start)/60))\n",
    "\n",
    "# # Write the results so this step can be skipped when doing multiple analyzes\n",
    "# with open('Outcomes/epsilon_results.pkl', 'wb') as file_pi:\n",
    "#     pickle.dump(results, file_pi)"
   ]
  },
  {
   "cell_type": "code",
   "execution_count": 42,
   "metadata": {},
   "outputs": [],
   "source": [
    "# Load the results\n",
    "with open('Outcomes/epsilon_results.pkl', 'rb') as file_pi:\n",
    "    results = pickle.load(file_pi)"
   ]
  },
  {
   "cell_type": "markdown",
   "metadata": {},
   "source": [
    "With these outcomes, we can find the robustness scores again and then look for the maximum interquartile range to find our $o$ _noise-adjusted $\\epsilon$ (epsilon) values_ (5 here)."
   ]
  },
  {
   "cell_type": "code",
   "execution_count": 43,
   "metadata": {},
   "outputs": [],
   "source": [
    "experiments, outcomes = results\n",
    "\n",
    "outcomes = pd.DataFrame(outcomes)\n",
    "experiments = pd.DataFrame(experiments)\n",
    "results = experiments.join(outcomes)\n",
    "results = results.drop(columns=\"model\")\n",
    "\n",
    "# Aggregate across time and space\n",
    "aggregate_outcomes(outcomes, \"Expected Annual Damage\")\n",
    "aggregate_outcomes(outcomes, \"Dike Investment Costs\")\n",
    "aggregate_outcomes(outcomes, \"Expected Number of Deaths\")\n",
    "aggregate_outcomes(outcomes, \"RfR Total Costs\")\n",
    "aggregate_outcomes(outcomes, \"Expected Evacuation Costs\")\n",
    "\n",
    "everything = pd.DataFrame(experiments[\"policy\"]).join(outcomes)\n",
    "\n",
    "# Find the robustness scores\n",
    "robust_values = everything.groupby(\n",
    "    by=[\"policy\"]).apply(robustness).iloc[:, -5:]\n",
    "\n",
    "# Finally, find the IQR ranges that are our 'noise-adjusted epsilon values'\n",
    "ranges = robust_values.apply(sp.stats.iqr)"
   ]
  },
  {
   "cell_type": "code",
   "execution_count": 44,
   "metadata": {},
   "outputs": [
    {
     "data": {
      "text/plain": [
       "Total Expected Annual Damage       3.287533e+15\n",
       "Total Dike Investment Costs        3.660080e+18\n",
       "Total Expected Number of Deaths    5.482093e+05\n",
       "Total RfR Total Costs              1.096303e+17\n",
       "Total Expected Evacuation Costs    4.118847e+10\n",
       "dtype: float64"
      ]
     },
     "execution_count": 44,
     "metadata": {},
     "output_type": "execute_result"
    }
   ],
   "source": [
    "ranges"
   ]
  },
  {
   "cell_type": "code",
   "execution_count": 45,
   "metadata": {},
   "outputs": [
    {
     "data": {
      "text/plain": [
       "Total Expected Annual Damage       3.897572e+16\n",
       "Total Dike Investment Costs        8.371133e+19\n",
       "Total Expected Number of Deaths    1.127772e+07\n",
       "Total RfR Total Costs              9.080500e+17\n",
       "Total Expected Evacuation Costs    2.421692e+12\n",
       "dtype: float64"
      ]
     },
     "execution_count": 45,
     "metadata": {},
     "output_type": "execute_result"
    }
   ],
   "source": [
    "hyp_ranges_max"
   ]
  },
  {
   "cell_type": "code",
   "execution_count": 46,
   "metadata": {},
   "outputs": [
    {
     "data": {
      "text/plain": [
       "Total Expected Annual Damage       0.000000e+00\n",
       "Total Dike Investment Costs        1.096392e+18\n",
       "Total Expected Number of Deaths    0.000000e+00\n",
       "Total RfR Total Costs              2.113227e+16\n",
       "Total Expected Evacuation Costs    0.000000e+00\n",
       "dtype: float64"
      ]
     },
     "execution_count": 46,
     "metadata": {},
     "output_type": "execute_result"
    }
   ],
   "source": [
    "hyp_ranges_min"
   ]
  },
  {
   "cell_type": "markdown",
   "metadata": {},
   "source": [
    "To save computation time, we are going to look at a subset of the output space. We already know from the first step **(LINK)** that the model is most senstitive to `A.1_pfail` and `A.3_pfail`. However, we also know that implementing any projects there will reduce the actual _risk_. Any dike heightening should strengthen the dikes there, which should lower the values, but the model does not currently account for such projects.\n",
    "\n",
    "Regardless, we will find optimal solutions in these worst-case scenarios. We assume that if our policies can prepare us for the worst, then they will also perform in better conditions. Later, we will test and validate these assumptions. It is also important to note that we already found any policies will improve upon the base case's outcomes (the do-nothing case).\n",
    "\n",
    "Therefore, we will limit our model's uncertainties to this worst-case space."
   ]
  },
  {
   "cell_type": "code",
   "execution_count": 15,
   "metadata": {},
   "outputs": [],
   "source": [
    "# From CART Analysis for deaths and damages\n",
    "\n",
    "dike_model.uncertainties['A.1_pfail'] = RealParameter('A.1_pfail', 0, 0.367)\n",
    "dike_model.uncertainties['A.3_pfail'] = RealParameter('A.3_pfail', 0, 0.226)"
   ]
  },
  {
   "cell_type": "markdown",
   "metadata": {},
   "source": [
    "## 3. Run MORO\n",
    "\n",
    "And now we can run the main computationally expensive MORO! Since we  are looking at our worst-case uncertainty space, we are confident in running the experiment for only 50 scenarios (compare to the **HOW MANY** possible)."
   ]
  },
  {
   "cell_type": "code",
   "execution_count": 16,
   "metadata": {},
   "outputs": [],
   "source": [
    "from ema_workbench.em_framework import sample_uncertainties\n",
    "\n",
    "n_scenarios = 1\n",
    "scenarios = sample_uncertainties(dike_model, n_scenarios)\n",
    "nfe = int(101)\n",
    "\n",
    "# Create a filename for saving (and loading if we need)\n",
    "filename = 'Outcomes/MORO_s' + str(n_scenarios) + '_nfe' + str(nfe) + '.pkl'"
   ]
  },
  {
   "cell_type": "code",
   "execution_count": 17,
   "metadata": {},
   "outputs": [
    {
     "name": "stderr",
     "output_type": "stream",
     "text": [
      "[MainProcess/INFO] pool started\n",
      "[MainProcess/INFO] generation 0: 0/101 nfe\n",
      "[MainProcess/INFO] generation 1: 100/101 nfe\n",
      "[MainProcess/INFO] optimization completed, found 1 solutions\n",
      "[MainProcess/INFO] terminating pool\n"
     ]
    },
    {
     "name": "stdout",
     "output_type": "stream",
     "text": [
      "Time taken: 1.45867 minutes\n"
     ]
    }
   ],
   "source": [
    "from ema_workbench.em_framework.optimization import (HyperVolume, EpsilonProgress)\n",
    "from ema_workbench.em_framework.evaluators import BaseEvaluator\n",
    "\n",
    "BaseEvaluator.reporting_frequency = 0.1\n",
    "\n",
    "epsilons = ranges.values\n",
    "convergence = [HyperVolume(hyp_ranges_min, hyp_ranges_max),\n",
    "               EpsilonProgress()]\n",
    "\n",
    "# Time the run\n",
    "start = time.time()\n",
    "\n",
    "# Run MORO\n",
    "with MultiprocessingEvaluator(dike_model) as evaluator:\n",
    "    results, convergence = evaluator.robust_optimize(robustness_functions,\n",
    "                                                     scenarios=scenarios,\n",
    "                                                     nfe=nfe,\n",
    "                                                     epsilons=epsilons,\n",
    "                                                     convergence=convergence,\n",
    "                                                     convergence_freq=20,\n",
    "                                                     logging_freq=1,\n",
    "                                                     constraint=constraints\n",
    "                                                     )\n",
    "\n",
    "end = time.time()\n",
    "print(\"Time taken: {:0.5f} minutes\".format((end - start)/60))\n",
    "\n",
    "# Save the run results\n",
    "with open(filename, 'wb') as file_pi:\n",
    "    pickle.dump((results, convergence), file_pi)\n",
    "    \n",
    "# Record the runtime in a separate notebook for benchmarking\n",
    "time_str = \"Time: \" + str((end - start)/60) + \" minutes\\t Scenarios: \" + \\\n",
    "                str(n_scenarios) + \"\\t NFEs: \" + str(nfe) + \"\\n\"\n",
    "with open('Outcomes/latest_time.tsv', 'a') as f:\n",
    "    f.write(time_str)"
   ]
  },
  {
   "cell_type": "code",
   "execution_count": 18,
   "metadata": {},
   "outputs": [],
   "source": [
    "import pickle\n",
    "\n",
    "results, convergence = pickle.load(open(filename, 'rb'))"
   ]
  },
  {
   "cell_type": "markdown",
   "metadata": {
    "toc-hr-collapsed": false
   },
   "source": [
    "## 4. Evaluate Convergence\n",
    "\n",
    "If the optimization does not converge, then the results that we have found are not very useful. Let's check them below."
   ]
  },
  {
   "cell_type": "code",
   "execution_count": 19,
   "metadata": {},
   "outputs": [
    {
     "data": {
      "image/png": "[encoded data removed]",
      "text/plain": [
       "<Figure size 576x288 with 2 Axes>"
      ]
     },
     "metadata": {
      "needs_background": "light"
     },
     "output_type": "display_data"
    }
   ],
   "source": [
    "import matplotlib.pyplot as plt\n",
    "fig, (ax1, ax2) = plt.subplots(ncols=2, sharex=True, figsize=(8,4))\n",
    "ax1.plot(convergence.nfe, convergence.epsilon_progress)\n",
    "ax1.set_ylabel('$\\epsilon$-progress')\n",
    "ax2.plot(convergence.nfe, convergence.hypervolume)\n",
    "ax2.set_ylabel('hypervolume')\n",
    "\n",
    "ax1.set_xlabel('number of function evaluations')\n",
    "ax2.set_xlabel('number of function evaluations')\n",
    "plt.show()"
   ]
  },
  {
   "cell_type": "markdown",
   "metadata": {},
   "source": [
    "Unfortunately, our initial run did not have the correct hypervolume parameters in it, so its outcomes were all zero. While we won't fully discuss this further, we understand the issue; rounding to two decimal places was restrictive. However, we still want to check hypervolume convergence for these policies.\n",
    "\n",
    "To do this, we are going to run MORO again, but we want to initialize the optimizations with the policies we already found as initial policies (rather than starting from scratch again. This isn't supported yet by EMAworkbench, but we're submitted an issue to try and implement this in the future. The quickest way to achieve this is with a 'dirty hack' inside `platypus.algorithms.AbstractGeneticAlgorithm.initialize`.\n",
    "\n",
    "```\n",
    "def initialize(self):\n",
    "        self.population = [self.generator.generate(self.problem) for _ in range(self.population_size)]\n",
    "        self.evaluate_all(self.population)\n",
    "```\n",
    "\n",
    "We can comment out where `self.population` is initialized for the first time, and replace it with our own. However, we will need to create a list that is syntatically compatible with platypus."
   ]
  },
  {
   "cell_type": "markdown",
   "metadata": {
    "toc-hr-collapsed": false
   },
   "source": [
    "### Create a list of solutions to feed back into platypus"
   ]
  },
  {
   "cell_type": "code",
   "execution_count": 20,
   "metadata": {},
   "outputs": [],
   "source": [
    "# Slice for only the actual 31 levers (not the outputs)\n",
    "pareto_policies = results.iloc[:,:-5]\n",
    "pareto_solutions = []\n",
    "# number of Pareto policies that we have\n",
    "num_paretos = pareto_policies.shape[0]\n",
    "\n",
    "# We need a little function to convert the levers into a format for platypus\n",
    "def lever_to_platypus_variables(n,lever):\n",
    "    variable = []\n",
    "    \n",
    "    # 15 is evac, 16 and higher are dike heights from 0-9 (four binary digits); all other are 0 or 1\n",
    "    if n == 15:\n",
    "        lever = '{0:03b}'.format(lever)\n",
    "    elif n >= 16:\n",
    "        lever = '{0:04b}'.format(lever)\n",
    "    else:\n",
    "        lever = '{0:01b}'.format(lever)\n",
    "        \n",
    "    for char in lever:\n",
    "        variable.append(char == '1')\n",
    "        \n",
    "    return variable\n",
    "\n",
    "from ema_workbench.em_framework.optimization import (to_robust_problem)\n",
    "from platypus import (EpsNSGAII)\n",
    "\n",
    "# Create policies properly in platypus grammar \n",
    "problem = to_robust_problem(dike_model, scenarios, robustness_functions, constraints=constraints,)\n",
    "optimizer = EpsNSGAII(problem, epsilons, nfe=nfe,convergence=convergence)\n",
    "\n",
    "# generate as many solutions as we have Pareto policies (this step is mostly for proper syntax)\n",
    "init_policies = [optimizer.generator.generate(optimizer.problem) for n in range(num_paretos)]\n",
    "\n",
    "for row_num in range(num_paretos):\n",
    "    pareto_solultion = []\n",
    "    \n",
    "    for n, lever in enumerate(pareto_policies.iloc[row_num,:]):\n",
    "        lever = lever_to_platypus_variables(n,lever)\n",
    "        pareto_solultion.append(lever)\n",
    "    \n",
    "    # Write these good solutions into this list\n",
    "    init_policies[row_num].variables = pareto_solultion\n",
    "    \n",
    "import dill as pickle\n",
    "with open('Outcomes/Pareto_solutions.pkl', 'wb') as file_pi:\n",
    "    pickle.dump(init_policies, file_pi)\n",
    "# print(init_policies)"
   ]
  },
  {
   "cell_type": "code",
   "execution_count": 21,
   "metadata": {},
   "outputs": [],
   "source": [
    "# with open('Outcomes/Pareto_solutions.pkl', 'rb') as file_pi:\n",
    "#     init_policies = pickle.load(file_pi)"
   ]
  },
  {
   "cell_type": "markdown",
   "metadata": {},
   "source": [
    "Now we can run MORO again with our adjusted `hyp_ranges_max` values."
   ]
  },
  {
   "cell_type": "code",
   "execution_count": 22,
   "metadata": {},
   "outputs": [
    {
     "name": "stderr",
     "output_type": "stream",
     "text": [
      "[MainProcess/INFO] pool started\n",
      "[MainProcess/INFO] generation 0: 0/1 nfe\n",
      "[MainProcess/INFO] optimization completed, found 1 solutions\n",
      "[MainProcess/INFO] terminating pool\n"
     ]
    },
    {
     "name": "stdout",
     "output_type": "stream",
     "text": [
      "Time taken: 0.79088 minutes\n"
     ]
    }
   ],
   "source": [
    "from ema_workbench.em_framework.optimization import (HyperVolume, EpsilonProgress)\n",
    "from ema_workbench.em_framework.evaluators import BaseEvaluator\n",
    "\n",
    "BaseEvaluator.reporting_frequency = 0.1\n",
    "\n",
    "epsilons = ranges.values\n",
    "convergence = [HyperVolume(hyp_ranges_min, hyp_ranges_max*1.1e10),\n",
    "               EpsilonProgress()]\n",
    "\n",
    "n_scenarios = 1\n",
    "scenarios = sample_uncertainties(dike_model, n_scenarios)\n",
    "nfe = int(1)\n",
    "\n",
    "# Time the run\n",
    "start = time.time()\n",
    "\n",
    "# Run MORO\n",
    "with MultiprocessingEvaluator(dike_model) as evaluator:\n",
    "    results, convergence = evaluator.robust_optimize(robustness_functions,\n",
    "                                                     scenarios=scenarios,\n",
    "                                                     nfe=nfe,\n",
    "                                                     epsilons=epsilons,\n",
    "                                                     convergence=convergence,\n",
    "                                                     convergence_freq=20,\n",
    "                                                     logging_freq=1,\n",
    "                                                     constraint=constraints\n",
    "                                                     )\n",
    "\n",
    "end = time.time()\n",
    "print(\"Time taken: {:0.5f} minutes\".format((end - start)/60))\n",
    "\n",
    "# Save the run results\n",
    "with open('Outcomes/Hypervolume_check.pkl', 'wb') as file_pi:\n",
    "    pickle.dump((results, convergence), file_pi)\n",
    "    \n",
    "# Record the runtime in a separate notebook for benchmarking\n",
    "time_str = \"Time: {:0.5f}\".format((end - start)/60) + \" minutes\\t Scenarios: \" + \\\n",
    "                str(n_scenarios) + \"\\t NFEs: \" + str(nfe) + \"\\n\"\n",
    "with open('Outcomes/latest_time.tsv', 'a') as f:\n",
    "    f.write(time_str)"
   ]
  },
  {
   "cell_type": "code",
   "execution_count": 23,
   "metadata": {},
   "outputs": [],
   "source": [
    "results, convergence = pickle.load(open('Outcomes/Hypervolume_check.pkl', 'rb'))"
   ]
  },
  {
   "cell_type": "code",
   "execution_count": 24,
   "metadata": {},
   "outputs": [
    {
     "data": {
      "image/png": "[encoded data removed]",
      "text/plain": [
       "<Figure size 576x288 with 2 Axes>"
      ]
     },
     "metadata": {
      "needs_background": "light"
     },
     "output_type": "display_data"
    }
   ],
   "source": [
    "import matplotlib.pyplot as plt\n",
    "fig, (ax1, ax2) = plt.subplots(ncols=2, sharex=True, figsize=(8,4))\n",
    "ax1.plot(convergence.nfe, convergence.epsilon_progress)\n",
    "ax1.set_ylabel('$\\epsilon$-progress')\n",
    "ax2.plot(convergence.nfe, convergence.hypervolume)\n",
    "ax2.set_ylabel('hypervolume')\n",
    "\n",
    "ax1.set_xlabel('number of function evaluations')\n",
    "ax2.set_xlabel('number of function evaluations')\n",
    "plt.show()"
   ]
  },
  {
   "cell_type": "code",
   "execution_count": 25,
   "metadata": {},
   "outputs": [
    {
     "data": {
      "text/html": [
       "<div>\n",
       "<style scoped>\n",
       "    .dataframe tbody tr th:only-of-type {\n",
       "        vertical-align: middle;\n",
       "    }\n",
       "\n",
       "    .dataframe tbody tr th {\n",
       "        vertical-align: top;\n",
       "    }\n",
       "\n",
       "    .dataframe thead th {\n",
       "        text-align: right;\n",
       "    }\n",
       "</style>\n",
       "<table border=\"1\" class=\"dataframe\">\n",
       "  <thead>\n",
       "    <tr style=\"text-align: right;\">\n",
       "      <th></th>\n",
       "      <th>0_RfR 0</th>\n",
       "      <th>0_RfR 1</th>\n",
       "      <th>0_RfR 2</th>\n",
       "      <th>1_RfR 0</th>\n",
       "      <th>1_RfR 1</th>\n",
       "      <th>1_RfR 2</th>\n",
       "      <th>2_RfR 0</th>\n",
       "      <th>2_RfR 1</th>\n",
       "      <th>2_RfR 2</th>\n",
       "      <th>3_RfR 0</th>\n",
       "      <th>...</th>\n",
       "      <th>A.4_DikeIncrease 1</th>\n",
       "      <th>A.4_DikeIncrease 2</th>\n",
       "      <th>A.5_DikeIncrease 0</th>\n",
       "      <th>A.5_DikeIncrease 1</th>\n",
       "      <th>A.5_DikeIncrease 2</th>\n",
       "      <th>Damage Score</th>\n",
       "      <th>Deaths Score</th>\n",
       "      <th>Dike Invest Score</th>\n",
       "      <th>RfR Invest Score</th>\n",
       "      <th>Evac Score</th>\n",
       "    </tr>\n",
       "  </thead>\n",
       "  <tbody>\n",
       "    <tr>\n",
       "      <th>0</th>\n",
       "      <td>0</td>\n",
       "      <td>0</td>\n",
       "      <td>0</td>\n",
       "      <td>1</td>\n",
       "      <td>1</td>\n",
       "      <td>1</td>\n",
       "      <td>0</td>\n",
       "      <td>1</td>\n",
       "      <td>0</td>\n",
       "      <td>0</td>\n",
       "      <td>...</td>\n",
       "      <td>0</td>\n",
       "      <td>3</td>\n",
       "      <td>2</td>\n",
       "      <td>0</td>\n",
       "      <td>4</td>\n",
       "      <td>0.0</td>\n",
       "      <td>0.0</td>\n",
       "      <td>9.611307e+16</td>\n",
       "      <td>1.238108e+16</td>\n",
       "      <td>0.0</td>\n",
       "    </tr>\n",
       "  </tbody>\n",
       "</table>\n",
       "<p>1 rows × 36 columns</p>\n",
       "</div>"
      ],
      "text/plain": [
       "   0_RfR 0  0_RfR 1  0_RfR 2  1_RfR 0  1_RfR 1  1_RfR 2  2_RfR 0  2_RfR 1  \\\n",
       "0        0        0        0        1        1        1        0        1   \n",
       "\n",
       "   2_RfR 2  3_RfR 0  ...  A.4_DikeIncrease 1  A.4_DikeIncrease 2  \\\n",
       "0        0        0  ...                   0                   3   \n",
       "\n",
       "   A.5_DikeIncrease 0  A.5_DikeIncrease 1  A.5_DikeIncrease 2  Damage Score  \\\n",
       "0                   2                   0                   4           0.0   \n",
       "\n",
       "   Deaths Score  Dike Invest Score  RfR Invest Score  Evac Score  \n",
       "0           0.0       9.611307e+16      1.238108e+16         0.0  \n",
       "\n",
       "[1 rows x 36 columns]"
      ]
     },
     "execution_count": 25,
     "metadata": {},
     "output_type": "execute_result"
    }
   ],
   "source": [
    "results"
   ]
  },
  {
   "cell_type": "code",
   "execution_count": 26,
   "metadata": {},
   "outputs": [
    {
     "data": {
      "text/html": [
       "<div>\n",
       "<style scoped>\n",
       "    .dataframe tbody tr th:only-of-type {\n",
       "        vertical-align: middle;\n",
       "    }\n",
       "\n",
       "    .dataframe tbody tr th {\n",
       "        vertical-align: top;\n",
       "    }\n",
       "\n",
       "    .dataframe thead th {\n",
       "        text-align: right;\n",
       "    }\n",
       "</style>\n",
       "<table border=\"1\" class=\"dataframe\">\n",
       "  <thead>\n",
       "    <tr style=\"text-align: right;\">\n",
       "      <th></th>\n",
       "      <th>0_RfR 0</th>\n",
       "      <th>0_RfR 1</th>\n",
       "      <th>0_RfR 2</th>\n",
       "      <th>1_RfR 0</th>\n",
       "      <th>1_RfR 1</th>\n",
       "      <th>1_RfR 2</th>\n",
       "      <th>2_RfR 0</th>\n",
       "      <th>2_RfR 1</th>\n",
       "      <th>2_RfR 2</th>\n",
       "      <th>3_RfR 0</th>\n",
       "      <th>...</th>\n",
       "      <th>A.2_DikeIncrease 2</th>\n",
       "      <th>A.3_DikeIncrease 0</th>\n",
       "      <th>A.3_DikeIncrease 1</th>\n",
       "      <th>A.3_DikeIncrease 2</th>\n",
       "      <th>A.4_DikeIncrease 0</th>\n",
       "      <th>A.4_DikeIncrease 1</th>\n",
       "      <th>A.4_DikeIncrease 2</th>\n",
       "      <th>A.5_DikeIncrease 0</th>\n",
       "      <th>A.5_DikeIncrease 1</th>\n",
       "      <th>A.5_DikeIncrease 2</th>\n",
       "    </tr>\n",
       "  </thead>\n",
       "  <tbody>\n",
       "    <tr>\n",
       "      <th>0</th>\n",
       "      <td>1</td>\n",
       "      <td>0</td>\n",
       "      <td>0</td>\n",
       "      <td>1</td>\n",
       "      <td>1</td>\n",
       "      <td>0</td>\n",
       "      <td>0</td>\n",
       "      <td>1</td>\n",
       "      <td>0</td>\n",
       "      <td>0</td>\n",
       "      <td>...</td>\n",
       "      <td>3</td>\n",
       "      <td>1</td>\n",
       "      <td>7</td>\n",
       "      <td>0</td>\n",
       "      <td>9</td>\n",
       "      <td>6</td>\n",
       "      <td>2</td>\n",
       "      <td>3</td>\n",
       "      <td>2</td>\n",
       "      <td>6</td>\n",
       "    </tr>\n",
       "  </tbody>\n",
       "</table>\n",
       "<p>1 rows × 31 columns</p>\n",
       "</div>"
      ],
      "text/plain": [
       "   0_RfR 0  0_RfR 1  0_RfR 2  1_RfR 0  1_RfR 1  1_RfR 2  2_RfR 0  2_RfR 1  \\\n",
       "0        1        0        0        1        1        0        0        1   \n",
       "\n",
       "   2_RfR 2  3_RfR 0  ...  A.2_DikeIncrease 2  A.3_DikeIncrease 0  \\\n",
       "0        0        0  ...                   3                   1   \n",
       "\n",
       "   A.3_DikeIncrease 1  A.3_DikeIncrease 2  A.4_DikeIncrease 0  \\\n",
       "0                   7                   0                   9   \n",
       "\n",
       "   A.4_DikeIncrease 1  A.4_DikeIncrease 2  A.5_DikeIncrease 0  \\\n",
       "0                   6                   2                   3   \n",
       "\n",
       "   A.5_DikeIncrease 1  A.5_DikeIncrease 2  \n",
       "0                   2                   6  \n",
       "\n",
       "[1 rows x 31 columns]"
      ]
     },
     "execution_count": 26,
     "metadata": {},
     "output_type": "execute_result"
    }
   ],
   "source": [
    "pareto_policies"
   ]
  },
  {
   "cell_type": "code",
   "execution_count": 27,
   "metadata": {},
   "outputs": [],
   "source": [
    "# Discuss results\n",
    "\n",
    "# Unfortunately, this doesn't work yet. The policies are not neatly fed to platypus (and then read back as Policy objects)."
   ]
  }
 ],
 "metadata": {
  "kernelspec": {
   "display_name": "Python 3",
   "language": "python",
   "name": "python3"
  },
  "language_info": {
   "codemirror_mode": {
    "name": "ipython",
    "version": 3
   },
   "file_extension": ".py",
   "mimetype": "text/x-python",
   "name": "python",
   "nbconvert_exporter": "python",
   "pygments_lexer": "ipython3",
   "version": "3.7.3"
  }
 },
 "nbformat": 4,
 "nbformat_minor": 2
}
