{
 "cells": [
  {
   "cell_type": "code",
   "execution_count": 1,
   "metadata": {},
   "outputs": [],
   "source": [
    "import pandas as pd\n",
    "import numpy as np\n",
    "import matplotlib.pyplot as plt\n",
    "import seaborn as sns"
   ]
  },
  {
   "cell_type": "code",
   "execution_count": 2,
   "metadata": {},
   "outputs": [
    {
     "name": "stderr",
     "output_type": "stream",
     "text": [
      "C:\\Users\\newbi\\Anaconda3\\lib\\importlib\\_bootstrap.py:219: ImportWarning: can't resolve package from __spec__ or __package__, falling back on __name__ and __path__\n",
      "  return f(*args, **kwds)\n",
      "C:\\Users\\newbi\\Anaconda3\\lib\\importlib\\_bootstrap.py:219: ImportWarning: can't resolve package from __spec__ or __package__, falling back on __name__ and __path__\n",
      "  return f(*args, **kwds)\n"
     ]
    },
    {
     "data": {
      "text/plain": [
       "<Logger EMA (DEBUG)>"
      ]
     },
     "execution_count": 2,
     "metadata": {},
     "output_type": "execute_result"
    }
   ],
   "source": [
    "from ema_workbench.analysis import prim\n",
    "from ema_workbench.util import ema_logging, utilities\n",
    "\n",
    "ema_logging.log_to_stderr(ema_logging.INFO)"
   ]
  },
  {
   "cell_type": "code",
   "execution_count": 3,
   "metadata": {},
   "outputs": [
    {
     "name": "stderr",
     "output_type": "stream",
     "text": [
      "[MainProcess/INFO] results loaded succesfully from C:\\Users\\newbi\\project-local\\Model-based-decision-making\\Outcomes\\1000ScenariosBaseCase.csv\n"
     ]
    },
    {
     "data": {
      "text/html": [
       "<div>\n",
       "<style scoped>\n",
       "    .dataframe tbody tr th:only-of-type {\n",
       "        vertical-align: middle;\n",
       "    }\n",
       "\n",
       "    .dataframe tbody tr th {\n",
       "        vertical-align: top;\n",
       "    }\n",
       "\n",
       "    .dataframe thead th {\n",
       "        text-align: right;\n",
       "    }\n",
       "</style>\n",
       "<table border=\"1\" class=\"dataframe\">\n",
       "  <thead>\n",
       "    <tr style=\"text-align: right;\">\n",
       "      <th></th>\n",
       "      <th>A.0_ID flood wave shape</th>\n",
       "      <th>A.1_Bmax</th>\n",
       "      <th>A.1_Brate</th>\n",
       "      <th>A.1_pfail</th>\n",
       "      <th>A.2_Bmax</th>\n",
       "      <th>A.2_Brate</th>\n",
       "      <th>A.2_pfail</th>\n",
       "      <th>A.3_Bmax</th>\n",
       "      <th>A.3_Brate</th>\n",
       "      <th>A.3_pfail</th>\n",
       "      <th>...</th>\n",
       "      <th>A.3_Dike Investment Costs 2</th>\n",
       "      <th>A.3_Expected Number of Deaths 2</th>\n",
       "      <th>A.4_Expected Annual Damage 2</th>\n",
       "      <th>A.4_Dike Investment Costs 2</th>\n",
       "      <th>A.4_Expected Number of Deaths 2</th>\n",
       "      <th>A.5_Expected Annual Damage 2</th>\n",
       "      <th>A.5_Dike Investment Costs 2</th>\n",
       "      <th>A.5_Expected Number of Deaths 2</th>\n",
       "      <th>RfR Total Costs 2</th>\n",
       "      <th>Expected Evacuation Costs 2</th>\n",
       "    </tr>\n",
       "  </thead>\n",
       "  <tbody>\n",
       "    <tr>\n",
       "      <th>0</th>\n",
       "      <td>64.0</td>\n",
       "      <td>341.707998</td>\n",
       "      <td>10.0</td>\n",
       "      <td>0.008967</td>\n",
       "      <td>329.059434</td>\n",
       "      <td>1.0</td>\n",
       "      <td>0.671443</td>\n",
       "      <td>46.836038</td>\n",
       "      <td>1.0</td>\n",
       "      <td>0.541864</td>\n",
       "      <td>...</td>\n",
       "      <td>0</td>\n",
       "      <td>0.000000</td>\n",
       "      <td>0.0</td>\n",
       "      <td>0</td>\n",
       "      <td>0.0</td>\n",
       "      <td>0.0</td>\n",
       "      <td>0</td>\n",
       "      <td>0.0</td>\n",
       "      <td>0.0</td>\n",
       "      <td>0.0</td>\n",
       "    </tr>\n",
       "    <tr>\n",
       "      <th>1</th>\n",
       "      <td>49.0</td>\n",
       "      <td>270.516534</td>\n",
       "      <td>1.0</td>\n",
       "      <td>0.389864</td>\n",
       "      <td>64.116779</td>\n",
       "      <td>1.0</td>\n",
       "      <td>0.458602</td>\n",
       "      <td>211.600292</td>\n",
       "      <td>1.5</td>\n",
       "      <td>0.030226</td>\n",
       "      <td>...</td>\n",
       "      <td>0</td>\n",
       "      <td>1.053592</td>\n",
       "      <td>0.0</td>\n",
       "      <td>0</td>\n",
       "      <td>0.0</td>\n",
       "      <td>0.0</td>\n",
       "      <td>0</td>\n",
       "      <td>0.0</td>\n",
       "      <td>0.0</td>\n",
       "      <td>0.0</td>\n",
       "    </tr>\n",
       "    <tr>\n",
       "      <th>2</th>\n",
       "      <td>109.0</td>\n",
       "      <td>217.092157</td>\n",
       "      <td>1.0</td>\n",
       "      <td>0.720433</td>\n",
       "      <td>119.844801</td>\n",
       "      <td>1.5</td>\n",
       "      <td>0.445405</td>\n",
       "      <td>332.843340</td>\n",
       "      <td>10.0</td>\n",
       "      <td>0.123183</td>\n",
       "      <td>...</td>\n",
       "      <td>0</td>\n",
       "      <td>1.091069</td>\n",
       "      <td>0.0</td>\n",
       "      <td>0</td>\n",
       "      <td>0.0</td>\n",
       "      <td>0.0</td>\n",
       "      <td>0</td>\n",
       "      <td>0.0</td>\n",
       "      <td>0.0</td>\n",
       "      <td>0.0</td>\n",
       "    </tr>\n",
       "    <tr>\n",
       "      <th>3</th>\n",
       "      <td>106.0</td>\n",
       "      <td>314.195207</td>\n",
       "      <td>1.0</td>\n",
       "      <td>0.000931</td>\n",
       "      <td>149.934556</td>\n",
       "      <td>10.0</td>\n",
       "      <td>0.203409</td>\n",
       "      <td>177.126583</td>\n",
       "      <td>1.5</td>\n",
       "      <td>0.900999</td>\n",
       "      <td>...</td>\n",
       "      <td>0</td>\n",
       "      <td>0.000000</td>\n",
       "      <td>0.0</td>\n",
       "      <td>0</td>\n",
       "      <td>0.0</td>\n",
       "      <td>0.0</td>\n",
       "      <td>0</td>\n",
       "      <td>0.0</td>\n",
       "      <td>0.0</td>\n",
       "      <td>0.0</td>\n",
       "    </tr>\n",
       "    <tr>\n",
       "      <th>4</th>\n",
       "      <td>123.0</td>\n",
       "      <td>331.097660</td>\n",
       "      <td>1.5</td>\n",
       "      <td>0.138750</td>\n",
       "      <td>275.055604</td>\n",
       "      <td>1.0</td>\n",
       "      <td>0.296295</td>\n",
       "      <td>172.209395</td>\n",
       "      <td>1.5</td>\n",
       "      <td>0.888339</td>\n",
       "      <td>...</td>\n",
       "      <td>0</td>\n",
       "      <td>0.000000</td>\n",
       "      <td>0.0</td>\n",
       "      <td>0</td>\n",
       "      <td>0.0</td>\n",
       "      <td>0.0</td>\n",
       "      <td>0</td>\n",
       "      <td>0.0</td>\n",
       "      <td>0.0</td>\n",
       "      <td>0.0</td>\n",
       "    </tr>\n",
       "  </tbody>\n",
       "</table>\n",
       "<p>5 rows × 103 columns</p>\n",
       "</div>"
      ],
      "text/plain": [
       "   A.0_ID flood wave shape    A.1_Bmax A.1_Brate  A.1_pfail    A.2_Bmax  \\\n",
       "0                     64.0  341.707998      10.0   0.008967  329.059434   \n",
       "1                     49.0  270.516534       1.0   0.389864   64.116779   \n",
       "2                    109.0  217.092157       1.0   0.720433  119.844801   \n",
       "3                    106.0  314.195207       1.0   0.000931  149.934556   \n",
       "4                    123.0  331.097660       1.5   0.138750  275.055604   \n",
       "\n",
       "  A.2_Brate  A.2_pfail    A.3_Bmax A.3_Brate  A.3_pfail  ...  \\\n",
       "0       1.0   0.671443   46.836038       1.0   0.541864  ...   \n",
       "1       1.0   0.458602  211.600292       1.5   0.030226  ...   \n",
       "2       1.5   0.445405  332.843340      10.0   0.123183  ...   \n",
       "3      10.0   0.203409  177.126583       1.5   0.900999  ...   \n",
       "4       1.0   0.296295  172.209395       1.5   0.888339  ...   \n",
       "\n",
       "   A.3_Dike Investment Costs 2 A.3_Expected Number of Deaths 2  \\\n",
       "0                            0                        0.000000   \n",
       "1                            0                        1.053592   \n",
       "2                            0                        1.091069   \n",
       "3                            0                        0.000000   \n",
       "4                            0                        0.000000   \n",
       "\n",
       "   A.4_Expected Annual Damage 2  A.4_Dike Investment Costs 2  \\\n",
       "0                           0.0                            0   \n",
       "1                           0.0                            0   \n",
       "2                           0.0                            0   \n",
       "3                           0.0                            0   \n",
       "4                           0.0                            0   \n",
       "\n",
       "  A.4_Expected Number of Deaths 2  A.5_Expected Annual Damage 2  \\\n",
       "0                             0.0                           0.0   \n",
       "1                             0.0                           0.0   \n",
       "2                             0.0                           0.0   \n",
       "3                             0.0                           0.0   \n",
       "4                             0.0                           0.0   \n",
       "\n",
       "  A.5_Dike Investment Costs 2 A.5_Expected Number of Deaths 2  \\\n",
       "0                           0                             0.0   \n",
       "1                           0                             0.0   \n",
       "2                           0                             0.0   \n",
       "3                           0                             0.0   \n",
       "4                           0                             0.0   \n",
       "\n",
       "  RfR Total Costs 2  Expected Evacuation Costs 2  \n",
       "0               0.0                          0.0  \n",
       "1               0.0                          0.0  \n",
       "2               0.0                          0.0  \n",
       "3               0.0                          0.0  \n",
       "4               0.0                          0.0  \n",
       "\n",
       "[5 rows x 103 columns]"
      ]
     },
     "execution_count": 3,
     "metadata": {},
     "output_type": "execute_result"
    }
   ],
   "source": [
    "results = utilities.load_results('Outcomes/1000ScenariosBaseCase.csv')\n",
    "\n",
    "experiments, outcomes = results\n",
    "outcomes = pd.DataFrame(outcomes)\n",
    "experiments = pd.DataFrame(experiments)\n",
    "results = experiments.join(outcomes)\n",
    "results = results.drop(columns=\"model\")\n",
    "# results = results.apply(pd.to_numeric)\n",
    "results.head()"
   ]
  },
  {
   "cell_type": "code",
   "execution_count": 4,
   "metadata": {},
   "outputs": [],
   "source": [
    "# Aggregate the outcomes (no location and no time step)\n",
    "\n",
    "def aggregate_outcomes(results, outcome):\n",
    "    list_outcomes_columns = []\n",
    "    \n",
    "    for i in results.columns:\n",
    "        if outcome in i:\n",
    "            list_outcomes_columns.append(i)\n",
    "            \n",
    "    results[\"Total \" + str(outcome)] = results[list_outcomes_columns].sum(axis = 1)\n",
    "            \n",
    "#     print(list_outcomes_columns)"
   ]
  },
  {
   "cell_type": "code",
   "execution_count": 5,
   "metadata": {},
   "outputs": [],
   "source": [
    "aggregate_outcomes(results, \"Expected Number of Deaths\")\n",
    "aggregate_outcomes(results, \"Expected Annual Damage\")"
   ]
  },
  {
   "cell_type": "code",
   "execution_count": 6,
   "metadata": {},
   "outputs": [],
   "source": [
    "#  results.columns"
   ]
  },
  {
   "cell_type": "code",
   "execution_count": 15,
   "metadata": {},
   "outputs": [
    {
     "data": {
      "text/plain": [
       "<matplotlib.axes._subplots.AxesSubplot at 0x1aa1db51a58>"
      ]
     },
     "execution_count": 15,
     "metadata": {},
     "output_type": "execute_result"
    },
    {
     "data": {
      "image/png": "[encoded data removed]",
      "text/plain": [
       "<Figure size 432x288 with 1 Axes>"
      ]
     },
     "metadata": {},
     "output_type": "display_data"
    }
   ],
   "source": [
    "results[\"Total Expected Number of Deaths\"].hist()"
   ]
  },
  {
   "cell_type": "code",
   "execution_count": 16,
   "metadata": {},
   "outputs": [
    {
     "data": {
      "text/plain": [
       "(array([237., 163.,  62., 304.,  66.,  22.,  93.,  27.,  19.,   7.]),\n",
       " array([0.03417008, 0.56493805, 1.09570602, 1.62647399, 2.15724196,\n",
       "        2.68800993, 3.2187779 , 3.74954587, 4.28031384, 4.81108181,\n",
       "        5.34184977]),\n",
       " <a list of 10 Patch objects>)"
      ]
     },
     "execution_count": 16,
     "metadata": {},
     "output_type": "execute_result"
    },
    {
     "data": {
      "image/png": "[encoded data removed]",
      "text/plain": [
       "<Figure size 432x288 with 1 Axes>"
      ]
     },
     "metadata": {},
     "output_type": "display_data"
    }
   ],
   "source": [
    "plt.hist(results[\"Total Expected Number of Deaths\"])"
   ]
  },
  {
   "cell_type": "code",
   "execution_count": 35,
   "metadata": {},
   "outputs": [],
   "source": [
    "def boxplot_histogram_maker(results):\n",
    "    fig, axes = plt.subplots(1, 2, figsize=(10, 3))\n",
    "    outcomes_list = [\"Total Expected Number of Deaths\", \"Total Expected Annual Damage\"]\n",
    "    \n",
    "    for i, (ax, outcome) in enumerate(zip(axes.flatten(), outcomes_list)):\n",
    "        ax.boxplot(results[outcome])\n",
    "        print(str(outcome) + \" First quantile: \" + str(results[outcome].quantile(q = 0.25)))\n",
    "        print(str(outcome) + \" Mean: \" + str(results[outcome].mean()))\n",
    "        \n",
    "    plt.show()\n",
    "    \n",
    "    fig, axes = plt.subplots(1, 2, figsize=(10, 3))\n",
    "    \n",
    "    for i, (ax, outcome) in enumerate(zip(axes.flatten(), outcomes_list)):\n",
    "        ax.hist(results[outcome])\n",
    "        ax.title(outcome)\n",
    "#         results[\"Total Expected Annual Damage\"].hist()"
   ]
  },
  {
   "cell_type": "code",
   "execution_count": 36,
   "metadata": {},
   "outputs": [
    {
     "name": "stdout",
     "output_type": "stream",
     "text": [
      "Total Expected Number of Deaths First quantile: 0.614663518226044\n",
      "Total Expected Number of Deaths Mean: 1.61575355331798\n",
      "Total Expected Annual Damage First quantile: 583888960.7998052\n",
      "Total Expected Annual Damage Mean: 1678899372.4850564\n"
     ]
    },
    {
     "data": {
      "image/png": "[encoded data removed]",
      "text/plain": [
       "<Figure size 720x216 with 2 Axes>"
      ]
     },
     "metadata": {},
     "output_type": "display_data"
    },
    {
     "ename": "TypeError",
     "evalue": "'Text' object is not callable",
     "output_type": "error",
     "traceback": [
      "\u001b[1;31m---------------------------------------------------------------------------\u001b[0m",
      "\u001b[1;31mTypeError\u001b[0m                                 Traceback (most recent call last)",
      "\u001b[1;32m<ipython-input-36-abcd352e3bc3>\u001b[0m in \u001b[0;36m<module>\u001b[1;34m()\u001b[0m\n\u001b[1;32m----> 1\u001b[1;33m \u001b[0mboxplot_histogram_maker\u001b[0m\u001b[1;33m(\u001b[0m\u001b[0mresults\u001b[0m\u001b[1;33m)\u001b[0m\u001b[1;33m\u001b[0m\u001b[0m\n\u001b[0m",
      "\u001b[1;32m<ipython-input-35-21ff5ddba587>\u001b[0m in \u001b[0;36mboxplot_histogram_maker\u001b[1;34m(results)\u001b[0m\n\u001b[0;32m     14\u001b[0m     \u001b[1;32mfor\u001b[0m \u001b[0mi\u001b[0m\u001b[1;33m,\u001b[0m \u001b[1;33m(\u001b[0m\u001b[0max\u001b[0m\u001b[1;33m,\u001b[0m \u001b[0moutcome\u001b[0m\u001b[1;33m)\u001b[0m \u001b[1;32min\u001b[0m \u001b[0menumerate\u001b[0m\u001b[1;33m(\u001b[0m\u001b[0mzip\u001b[0m\u001b[1;33m(\u001b[0m\u001b[0maxes\u001b[0m\u001b[1;33m.\u001b[0m\u001b[0mflatten\u001b[0m\u001b[1;33m(\u001b[0m\u001b[1;33m)\u001b[0m\u001b[1;33m,\u001b[0m \u001b[0moutcomes_list\u001b[0m\u001b[1;33m)\u001b[0m\u001b[1;33m)\u001b[0m\u001b[1;33m:\u001b[0m\u001b[1;33m\u001b[0m\u001b[0m\n\u001b[0;32m     15\u001b[0m         \u001b[0max\u001b[0m\u001b[1;33m.\u001b[0m\u001b[0mhist\u001b[0m\u001b[1;33m(\u001b[0m\u001b[0mresults\u001b[0m\u001b[1;33m[\u001b[0m\u001b[0moutcome\u001b[0m\u001b[1;33m]\u001b[0m\u001b[1;33m)\u001b[0m\u001b[1;33m\u001b[0m\u001b[0m\n\u001b[1;32m---> 16\u001b[1;33m         \u001b[0max\u001b[0m\u001b[1;33m.\u001b[0m\u001b[0mtitle\u001b[0m\u001b[1;33m(\u001b[0m\u001b[0moutcome\u001b[0m\u001b[1;33m)\u001b[0m\u001b[1;33m\u001b[0m\u001b[0m\n\u001b[0m\u001b[0;32m     17\u001b[0m \u001b[1;31m#         results[\"Total Expected Annual Damage\"].hist()\u001b[0m\u001b[1;33m\u001b[0m\u001b[1;33m\u001b[0m\u001b[0m\n",
      "\u001b[1;31mTypeError\u001b[0m: 'Text' object is not callable"
     ]
    },
    {
     "data": {
      "image/png": "[encoded data removed]",
      "text/plain": [
       "<Figure size 720x216 with 2 Axes>"
      ]
     },
     "metadata": {},
     "output_type": "display_data"
    }
   ],
   "source": [
    "boxplot_histogram_maker(results)"
   ]
  },
  {
   "cell_type": "code",
   "execution_count": null,
   "metadata": {},
   "outputs": [],
   "source": [
    "results[\"Total Expected Number of Deaths\"].hist()"
   ]
  },
  {
   "cell_type": "code",
   "execution_count": null,
   "metadata": {},
   "outputs": [],
   "source": [
    "results.iloc[:, :19]"
   ]
  },
  {
   "cell_type": "code",
   "execution_count": null,
   "metadata": {},
   "outputs": [],
   "source": []
  },
  {
   "cell_type": "code",
   "execution_count": null,
   "metadata": {},
   "outputs": [],
   "source": [
    "x = results.iloc[:, :19].drop(\"A.3_pfail\")\n",
    "y_deaths = results[\"Total Expected Number of Deaths\"].values"
   ]
  },
  {
   "cell_type": "code",
   "execution_count": null,
   "metadata": {},
   "outputs": [],
   "source": [
    "y_deaths = y_deaths < 1"
   ]
  },
  {
   "cell_type": "code",
   "execution_count": null,
   "metadata": {},
   "outputs": [],
   "source": [
    "prim_alg = prim.Prim(x, y_deaths, threshold=0.65, peel_alpha=0.1)\n",
    "box1 = prim_alg.find_box()"
   ]
  },
  {
   "cell_type": "code",
   "execution_count": null,
   "metadata": {},
   "outputs": [],
   "source": [
    "# Coverage is the points of interests in the red box \n",
    "# Density is fraction of cases in the box\n",
    "# \n",
    "\n",
    "box1.show_tradeoff()\n",
    "plt.show()"
   ]
  },
  {
   "cell_type": "code",
   "execution_count": null,
   "metadata": {},
   "outputs": [],
   "source": [
    "box1.inspect()\n",
    "box1.inspect(style='graph')\n",
    "plt.show()"
   ]
  },
  {
   "cell_type": "code",
   "execution_count": null,
   "metadata": {},
   "outputs": [],
   "source": [
    "box1.select(19)\n",
    "box1.show_pairs_scatter()\n",
    "fig = plt.gcf()\n",
    "fig.set_size_inches(12,12)\n",
    "plt.show()"
   ]
  },
  {
   "cell_type": "code",
   "execution_count": null,
   "metadata": {},
   "outputs": [],
   "source": [
    "box2 = prim_alg.find_box()"
   ]
  },
  {
   "cell_type": "code",
   "execution_count": null,
   "metadata": {},
   "outputs": [],
   "source": [
    "box2.select(-1)\n",
    "box2.show_pairs_scatter()\n",
    "fig = plt.gcf()\n",
    "fig.set_size_inches(12,12)\n",
    "plt.show()"
   ]
  },
  {
   "cell_type": "code",
   "execution_count": null,
   "metadata": {},
   "outputs": [],
   "source": [
    "print(prim_alg.stats_to_dataframe())\n",
    "print(prim_alg.boxes_to_dataframe())"
   ]
  },
  {
   "cell_type": "code",
   "execution_count": null,
   "metadata": {},
   "outputs": [],
   "source": [
    "from ema_workbench.analysis import dimensional_stacking\n",
    "\n",
    "dimensional_stacking.create_pivot_plot(x, y_deaths, 3, nbins = 2)\n",
    "plt.show()"
   ]
  },
  {
   "cell_type": "code",
   "execution_count": null,
   "metadata": {},
   "outputs": [],
   "source": [
    "experiments.columns"
   ]
  },
  {
   "cell_type": "code",
   "execution_count": null,
   "metadata": {},
   "outputs": [],
   "source": [
    "experiments, outcomes = utilities.load_results('Outcomes/400Scenarios75Policies.csv')\n",
    "experiments = experiments.drop(columns = \"model\")\n",
    "experiments = pd.DataFrame(experiments)\n",
    "outcomes = pd.DataFrame(outcomes)\n",
    "\n",
    "\n",
    "# from ema_workbench.analysis import feature_scoring\n",
    "# scores = feature_scoring.get_feature_scores_all(experiments, outcomes)\n",
    "# sns.heatmap(scores)\n",
    "# plt.show()"
   ]
  },
  {
   "cell_type": "code",
   "execution_count": null,
   "metadata": {},
   "outputs": [],
   "source": [
    "experiments.columns"
   ]
  },
  {
   "cell_type": "code",
   "execution_count": null,
   "metadata": {},
   "outputs": [],
   "source": [
    "def column_finder(location):    \n",
    "    list_loc = []\n",
    "\n",
    "    for i in experiments.columns:\n",
    "        if location in i:\n",
    "            list_loc.append(i)\n",
    "            \n",
    "    a = \"A.1\"[-1]\n",
    "    a = int(a) - 1\n",
    "            \n",
    "    for i in experiments.columns:\n",
    "        if str(a) + \"_RfR\" in i:\n",
    "            list_loc.append(i)\n",
    "            \n",
    "    list_loc.extend([\"A.0_ID flood wave shape\", \"discount rate 0\", \"discount rate 1\", \"discount rate 2\"])\n",
    "            \n",
    "    global x \n",
    "    x = experiments[list_loc]\n",
    "\n",
    "    list_loc_2 = []\n",
    "    \n",
    "    for i in outcomes.columns:\n",
    "        if location in i:\n",
    "            list_loc_2.append(i)\n",
    "            \n",
    "    global y \n",
    "    y = outcomes[list_loc_2]"
   ]
  },
  {
   "cell_type": "code",
   "execution_count": null,
   "metadata": {},
   "outputs": [],
   "source": [
    "column_finder(\"A.1\")"
   ]
  },
  {
   "cell_type": "code",
   "execution_count": null,
   "metadata": {},
   "outputs": [],
   "source": [
    "x.columns"
   ]
  },
  {
   "cell_type": "code",
   "execution_count": null,
   "metadata": {},
   "outputs": [],
   "source": [
    "from ema_workbench.analysis import feature_scoring\n",
    "fs = feature_scoring.get_feature_scores_all(x, y)\n",
    "fig = plt.subplots(figsize=(10,10))\n",
    "sns.heatmap(fs, cmap='viridis', annot=True)\n",
    "plt.show()"
   ]
  }
 ],
 "metadata": {
  "kernelspec": {
   "display_name": "Python 3",
   "language": "python",
   "name": "python3"
  },
  "language_info": {
   "codemirror_mode": {
    "name": "ipython",
    "version": 3
   },
   "file_extension": ".py",
   "mimetype": "text/x-python",
   "name": "python",
   "nbconvert_exporter": "python",
   "pygments_lexer": "ipython3",
   "version": "3.6.5"
  }
 },
 "nbformat": 4,
 "nbformat_minor": 2
}
