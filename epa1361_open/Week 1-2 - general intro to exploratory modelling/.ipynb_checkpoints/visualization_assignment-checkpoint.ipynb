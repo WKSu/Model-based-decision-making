{
 "cells": [
  {
   "cell_type": "markdown",
   "metadata": {},
   "source": [
    "# Exercise: Analysis and visualization of output data\n",
    "\n",
    "- Generate 1000 scenarios for the flu model given the uncertainties specified (see ./model), or load the results found in ./data. \n",
    "\n",
    "- What are the uncertainties, outcomes of interest and policies?\n",
    "\n",
    "\n",
    "- How many time steps are there in each simulation (extract this from the output rather than opening the vensim model)?\n",
    "\n",
    "\n",
    "- Considering their end states, which outcomes of interest are negatively correlated?\n",
    "\n",
    "\n",
    "- Considering only the 'no policy' scenarios, how do *infected fraction* and *deceased population* relate over time?    \n",
    "\n",
    "*hint: use [logical indexing](https://docs.scipy.org/doc/numpy-1.14.0/reference/arrays.indexing.html#boolean-array-indexing)*\n",
    "\n",
    "- For the no policy results, visualize the envelope of outcomes for *infected fraction* over time, together with individual scenarios corresponding to the following region: \n",
    "\n",
    "    - *time of max* < 10\n",
    "    - **and** *max infection fraction* > 0.4\n",
    " \n",
    " \n",
    "- For the no policy results, visualize the end states of the outcome indicators *infected fraction*, *deceased population* and *time of max* on a single plot; where the results are grouped by policies, and for each policy, according to the following conditions:\n",
    "\n",
    "    - *infected fraction R1* at the 100th timestep > 0.1\n",
    "    - **and** *infection ratio region 1* > 0.1 (note that *infection ratio region 1* is an uncertainty)"
   ]
  },
  {
   "cell_type": "code",
   "execution_count": null,
   "metadata": {
    "collapsed": true
   },
   "outputs": [],
   "source": []
  }
 ],
 "metadata": {
  "anaconda-cloud": {},
  "kernelspec": {
   "display_name": "Python 3",
   "language": "python",
   "name": "python3"
  },
  "language_info": {
   "codemirror_mode": {
    "name": "ipython",
    "version": 3
   },
   "file_extension": ".py",
   "mimetype": "text/x-python",
   "name": "python",
   "nbconvert_exporter": "python",
   "pygments_lexer": "ipython3",
   "version": "3.6.3"
  },
  "latex_envs": {
   "LaTeX_envs_menu_present": true,
   "autocomplete": true,
   "bibliofile": "biblio.bib",
   "cite_by": "apalike",
   "current_citInitial": 1,
   "eqLabelWithNumbers": true,
   "eqNumInitial": 1,
   "hotkeys": {
    "equation": "Ctrl-E",
    "itemize": "Ctrl-I"
   },
   "labels_anchors": false,
   "latex_user_defs": false,
   "report_style_numbering": false,
   "user_envs_cfg": false
  }
 },
 "nbformat": 4,
 "nbformat_minor": 2
}
