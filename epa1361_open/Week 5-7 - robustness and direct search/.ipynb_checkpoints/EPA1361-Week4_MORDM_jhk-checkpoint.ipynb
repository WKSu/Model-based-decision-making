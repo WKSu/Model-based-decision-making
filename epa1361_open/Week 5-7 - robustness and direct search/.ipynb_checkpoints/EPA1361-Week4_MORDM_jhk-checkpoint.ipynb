{
 "cells": [
  {
   "cell_type": "markdown",
   "metadata": {},
   "source": [
    "# EPA1361 - Model-Based Decision Making\n",
    "\n",
    "# Week 4 - Multi-objective robust decision making (MORDM)\n"
   ]
  },
  {
   "cell_type": "markdown",
   "metadata": {},
   "source": [
    "This exercise demostrates the application of MORDM on the lake model, which was used in earlier exercises.\n",
    "\n",
    "MORDM has four main steps:\n",
    "\n",
    "(i)\t    **problem formulation** based on a systems analytical problem definition framework \n",
    "\n",
    "(ii)\t**searching** for candidate solutions that optimize multiple objectives by using multi-objective evolutionary algorithms \n",
    "\n",
    "(iii)\tgenerating an ensemble of scenarios to **explore** the effects of uncertainties \n",
    "\n",
    "(iv)\tusing **scenario discovery** to detect the vulnerabilities of candidate solutions and improving thecandidate solutions\n",
    "\n",
    "\n",
    "\n",
    "## Step 1: Problem formulation\n",
    "### Lake Model\n",
    "\n",
    "Remember the lake problem used in the assignments of Week 2. The lake problem is a hypothetical case where the inhabitants of a lake town decide on the amount of annual pollution they release into a lake. It the pollution in the lake passes a threshold, it will suffer irreversible eutrophication.\n",
    "\n",
    "The lake problem has 4 **outcome indicators**: \n",
    "   - **max_P**: maximum pollution over time, to be minimized\n",
    "   - **utility**: economic benefits obtained from polluting the lake, to be maximized\n",
    "   - **inertia**: the percentage of significant annual changes in the anthropogenic pollution rate, to be minimized\n",
    "   - **reliability**: the percentage of years where the pollution level is below the critical threshold, to be maximized\n",
    "    \n",
    "See the lake mode lexercise for the formulation of these outcome variables.\n",
    "\n",
    "The lake problem is characterized by both stochastic uncertainty and **deep uncertainty**. The stochastic uncertainty arises from the natural inflow. To reduce this stochastic uncertainty, multiple replications are performed and the average over the replication is taken. Deep uncertainty is presented by uncertainty about the mean $\\mu$ and standard deviation $sigma$ of the lognormal distribution characterizing the natural inflow, the natural removal rate of the lake $\\beta$, the natural recycling rate of the lake $q$, and the discount rate $\\delta$. The table below specifies the ranges for the deeply uncertain factors, as well as their best estimate or default values. \n",
    "\n",
    "|Parameter\t|Range\t        |Default value|\n",
    "|-----------|--------------:|------------:|\n",
    "|$\\mu$    \t|0.01 – 0.05\t|0.02         |\n",
    "|$\\sigma$\t|0.001 – 0.005 \t|0.0017       |\n",
    "|$b$      \t|0.1 – 0.45\t    |0.42         |\n",
    "|$q$\t    |2 – 4.5\t    |2            |\n",
    "|$\\delta$\t|0.93 – 0.99\t|0.98         |\n",
    "\n",
    "\n",
    "The lake problem in the exercise of Week 2 had 100 decision **levers**, meaning that the decision makers independently decide on the amount of anthropogenic pollution at every time step (100) over 100 days. Then a 'policy' was a set of values for these 100 levers, which you composed by sampling from the range [0, 0.1].   \n",
    "\n",
    "In this exercise, we will use a **closed loop** version of the lake model, meaning that $a_t$ (anthropogenic pollution) is dependent on $X_t$ (the pollution level at time t). For instance, the rate of anthropogenic pollutions is lowered if the pollution level is approaching a critical threshold. Here, we use \"cubic radial basis functions\" following [Quinn et al. 2017](http://www.sciencedirect.com/science/article/pii/S1364815216302250) and formulate $a_t$ as follows:\n",
    "\n",
    "\\begin{equation}\n",
    "    a_{t} =  min\\Bigg(max\\bigg(\\sum\\limits_{j=1}^{n} w_{j}\\left\\vert{\\frac{X_{t,i}-c_{j}}{r_{j}}}\\right\\vert^3, 0.01\\bigg), 0.1\\Bigg) \\\\\n",
    "    s.t. \\\\\n",
    "    -2 \\leq c_{j} \\leq 2 \\\\\n",
    "    0 \\leq r_{j} \\leq 2 \\\\ \n",
    "    0 \\leq w_{j} \\leq 1 \\\\\n",
    "    \\sum\\limits_{j=1}^{n} w_{j} = 1\n",
    "\\end{equation}\n",
    "\n",
    "\n",
    "The parameters that define this function also define the pollution strategy over time. Hence, the decision **levers** are the five parameters of this functions, namely $c_1$, $c_2$, $r_1$, $r_2$ and $w_1$. ($w_2$ = 1 - $w_1$).\n",
    "\n",
    "Note:: i is index for the realization, given m realizations; j is the index for the radial basis function, given 2 radial basis functions. \n",
    "\n",
    "The advantage of the closed loop formulation of the lake problem is\n",
    "\n",
    "**To formulate this problem, do the following:**\n",
    "\n",
    "**1) Define a function for the anthropogenic pollution.**\n",
    "\n",
    "**2) adapt the lake model function, which is the 'system model' for this problem, from your previous exercise. Modify the lake model formulation according to the new decision making structure (levers).**\n",
    "\n",
    "tip: in this formulation the decision is specified by a decision rule. You specify the decision rule using the radial basis functions. An example of such a rule is shown in figure 2 in Quinn et al (2017). Since you are making the actual release decision in a given year conditional on the observed pollution in the lake in the previous year, your actual release will differ from one stochastic realization to the next. This means that you have to ensure that you adapt the inertia objective accordingly! \n",
    "\n",
    "**3) Create an ema_workbench interface for this problem, with corresponding uncertainties, levers and outcomes.**\n",
    "\n",
    "\n",
    "\n",
    "## step 1\n",
    "\n",
    "let's start with writing a function for the decision rule. This function should take as inputs Xt, c1, c2, r1, r2, and w1, and return at."
   ]
  },
  {
   "cell_type": "code",
   "execution_count": 1,
   "metadata": {
    "collapsed": true
   },
   "outputs": [],
   "source": [
    "def get_antropogenic_release(xt, c1, c2, r1, r2, w1):\n",
    "    '''\n",
    "    \n",
    "    Parameters\n",
    "    ----------\n",
    "    xt : float\n",
    "         polution in lake at time t\n",
    "    c1 : float\n",
    "         center rbf 1\n",
    "    c2 : float\n",
    "         center rbf 2\n",
    "    r1 : float\n",
    "         ratius rbf 1\n",
    "    r2 : float\n",
    "         ratius rbf 2\n",
    "    w1 : float\n",
    "         weight of rbf 1\n",
    "         \n",
    "    note:: w2 = 1 - w1\n",
    "    \n",
    "    '''\n",
    "    \n",
    "    rule = w1*(abs(xt-c1/r1))**3+(1-w1)*(abs(xt-c2/r2)**3)\n",
    "    at1 = max(rule, 0.01)\n",
    "    at = min(at1, 0.1)\n",
    "    \n",
    "    return at\n",
    "    "
   ]
  },
  {
   "cell_type": "markdown",
   "metadata": {},
   "source": [
    "to keep the code somewhat readable, I have split it into three components: the sum over the two radial basis functions, the max part, and the min part. You could generalize the summation even further by putting it into a for loop, and storing each component in a list or numpy array, followed by the weighted sum. Since we have only two components here, I did not bother with this sophistication. \n",
    "\n",
    "To test whether the above function shows the desired behavior, let's make a quick visualization of the function, similar to figure 2 in the Quinn paper. Play around with different values for c1, c2, r1, r2, and w1 to get a feeling for how this function can behave."
   ]
  },
  {
   "cell_type": "code",
   "execution_count": 2,
   "metadata": {},
   "outputs": [
    {
     "data": {
      "image/png": "[encoded data removed]",
      "text/plain": [
       "<matplotlib.figure.Figure at 0x116099128>"
      ]
     },
     "metadata": {},
     "output_type": "display_data"
    }
   ],
   "source": [
    "c1 = 0.25\n",
    "c2 = 0.25\n",
    "r1 = 0.5\n",
    "r2 = 0.5\n",
    "w1 = 0.5\n",
    "\n",
    "x = np.linspace(0, 1, 1000)\n",
    "at = [get_antropogenic_release(xt, c1, c2, r1, r2, w1) for xt in x]\n",
    "\n",
    "fig = plt.figure()\n",
    "ax = fig.add_subplot(111)\n",
    "ax.plot(x, at)\n",
    "ax.set_ylabel('antropogenic release')\n",
    "ax.set_xlabel('pollution concentration in lake')\n",
    "plt.show()"
   ]
  },
  {
   "cell_type": "markdown",
   "metadata": {},
   "source": [
    "The next step is to adapt the lake function we have used in the earlier exercise to use the decision rule encapsulated in `get_antropogenic_release` instead of the 100 individual decisions for each time step. Let's step to through this step by step. First we annotate the original function to specify where we need to make changes\n",
    "\n",
    "\n",
    "```python\n",
    "from scipy.optimize import brentq\n",
    "import math\n",
    "\n",
    "def lake_problem(\n",
    "         b=0.42,          # decay rate for P in lake (0.42 = irreversible)\n",
    "         q=2.0,           # recycling exponent\n",
    "         mean=0.02,       # mean of natural inflows\n",
    "         stdev=0.001,     # future utility discount rate\n",
    "         delta=0.98,      # standard deviation of natural inflows\n",
    "         alpha=0.4,       # utility from pollution\n",
    "         nsamples=100,    # Monte Carlo sampling of natural inflows\n",
    "         **kwargs):   #TODO:: to be replaced with c1, c2, r1, r2, and w1\n",
    "    decisions = [kwargs[str(i)] for i in range(100)] # TODO:: drop\n",
    "    \n",
    "    Pcrit = brentq(lambda x: x**q/(1+x**q) - b*x, 0.01, 1.5)\n",
    "    \n",
    "    # TODO:: we can't specify the runtime implicitly through the number of decisions\n",
    "    # so we need to pass this as an additional keyword argument\n",
    "    nvars = len(decisions) \n",
    "    X = np.zeros((nvars,))\n",
    "    average_daily_P = np.zeros((nvars,))\n",
    "    decisions = np.array(decisions) # TODO:: can be removed also\n",
    "    reliability = 0.0\n",
    "\n",
    "    for _ in range(nsamples):\n",
    "        X[0] = 0.0\n",
    "        \n",
    "        natural_inflows = np.random.lognormal(\n",
    "                math.log(mean**2 / math.sqrt(stdev**2 + mean**2)),\n",
    "                math.sqrt(math.log(1.0 + stdev**2 / mean**2)),\n",
    "                size = nvars)\n",
    "        \n",
    "        for t in range(1,nvars):\n",
    "        \n",
    "            # TODO:: decisions[t-1] should be replaced with a call to \n",
    "            # the new function\n",
    "            X[t] = (1-b)*X[t-1] + X[t-1]**q/(1+X[t-1]**q) + decisions[t-1] +\\\n",
    "                    natural_inflows[t-1]\n",
    "            average_daily_P[t] += X[t]/float(nsamples)\n",
    "    \n",
    "        reliability += np.sum(X < Pcrit)/float(nsamples*nvars)\n",
    "      \n",
    "    max_P = np.max(average_daily_P)\n",
    "    \n",
    "    # TODO:; ineratia and utility will be different between replications\n",
    "    # so they needs to be moved somewhere into the for loop\n",
    "    inertia = np.sum(np.diff(decisions) > -0.02)/float(nvars-1)\n",
    "    utility = np.sum(alpha*decisions*np.power(delta,np.arange(nvars)))\n",
    "    \n",
    "\n",
    "    return max_P, utility, inertia, reliability\n",
    "```\n",
    "\n",
    "Ok, now let's make the straight forward changes before worrying about exactly how to change the ineratia calculation \n",
    "\n",
    "```python\n",
    "from scipy.optimize import brentq\n",
    "import math\n",
    "\n",
    "def lake_problem(\n",
    "         b=0.42,          # decay rate for P in lake (0.42 = irreversible)\n",
    "         q=2.0,           # recycling exponent\n",
    "         mean=0.02,       # mean of natural inflows\n",
    "         stdev=0.001,     # future utility discount rate\n",
    "         delta=0.98,      # standard deviation of natural inflows\n",
    "         alpha=0.4,       # utility from pollution\n",
    "         nsamples=100,    # Monte Carlo sampling of natural inflows\n",
    "         myears=1,         # the runtime of the simulation model\n",
    "         c1=0.25,\n",
    "         c2=0.25,\n",
    "         r1=0.5,\n",
    "         r2=0.5,\n",
    "         w1=0.5):   \n",
    "    Pcrit = brentq(lambda x: x**q/(1+x**q) - b*x, 0.01, 1.5)\n",
    "\n",
    "    X = np.zeros((myears,))\n",
    "    average_daily_P = np.zeros((myears,))\n",
    "    reliability = 0.0\n",
    "\n",
    "    for _ in range(nsamples):\n",
    "        X[0] = 0.0\n",
    "        \n",
    "        natural_inflows = np.random.lognormal(\n",
    "                math.log(mean**2 / math.sqrt(stdev**2 + mean**2)),\n",
    "                math.sqrt(math.log(1.0 + stdev**2 / mean**2)),\n",
    "                size=myears)\n",
    "        \n",
    "        for t in range(1,myears):\n",
    "        \n",
    "            # here we use the decision rule\n",
    "            decision = get_antropogenic_release(X[t-1], c1, c2, r1, r2, w1)\n",
    "            \n",
    "            X[t] = (1-b)*X[t-1] + X[t-1]**q/(1+X[t-1]**q) + decision +\\\n",
    "                    natural_inflows[t-1]\n",
    "            average_daily_P[t] += X[t]/float(nsamples)\n",
    "    \n",
    "        reliability += np.sum(X < Pcrit)/float(nsamples*myears)\n",
    "      \n",
    "    max_P = np.max(average_daily_P)\n",
    "    utility = np.sum(alpha*decisions*np.power(delta,np.arange(myears)))\n",
    "    \n",
    "    # TODO:; ineratia and utility will be different between replications\n",
    "    # so they needs to be moved somewhere into the for loop\n",
    "    inertia = np.sum(np.diff(decisions) > -0.02)/float(nvars-1)\n",
    "    utility = np.sum(alpha*decisions*np.power(delta,np.arange(nvars)))\n",
    "\n",
    "    return max_P, utility, inertia, reliability\n",
    "```\n",
    "\n",
    "Now the more difficult part, how are we going to handle the inertia and utility calculation? Both depend on the series of actual release decisions as they manifest themselves over the course of a single stochastic realization. One can either embed the entire calculation within the innermost loop where we step through the years. Alternatively, we can maintain a list with the decisions and at the end of a single stochastic realization update the inertia and utility calculation. Here I have chosen the second approach. It allows me to use numpy which is convenient. Regardless of which option one chooses, note that you now have to calculate the average over the realizations. In the 100 decision variable case this was not relevant because the series of decisions was identical for all realizations. \n",
    "\n",
    "I have also removed the float label in the code here. This is not necessary if you are on python 3, or if you import division from future in case you are on python 2. If you are interested to learn more, just google for python division and see what you drag up. \n",
    "\n",
    "```python\n",
    "from scipy.optimize import brentq\n",
    "import math\n",
    "\n",
    "def lake_problem(\n",
    "         b=0.42,          # decay rate for P in lake (0.42 = irreversible)\n",
    "         q=2.0,           # recycling exponent\n",
    "         mean=0.02,       # mean of natural inflows\n",
    "         stdev=0.001,     # future utility discount rate\n",
    "         delta=0.98,      # standard deviation of natural inflows\n",
    "         alpha=0.4,       # utility from pollution\n",
    "         nsamples=100,    # Monte Carlo sampling of natural inflows\n",
    "         myears=1,        # the runtime of the simulation model\n",
    "         c1=0.25,\n",
    "         c2=0.25,\n",
    "         r1=0.5,\n",
    "         r2=0.5,\n",
    "         w1=0.5):   \n",
    "    Pcrit = brentq(lambda x: x**q/(1+x**q) - b*x, 0.01, 1.5)\n",
    "\n",
    "    X = np.zeros((myears,))\n",
    "    average_daily_P = np.zeros((myears,))\n",
    "    reliability = 0.0\n",
    "    inertia = 0\n",
    "    utility = 0\n",
    "\n",
    "    for _ in range(nsamples):\n",
    "        X[0] = 0.0\n",
    "        decisions = []\n",
    "\n",
    "        natural_inflows = np.random.lognormal(\n",
    "                math.log(mean**2 / math.sqrt(stdev**2 + mean**2)),\n",
    "                math.sqrt(math.log(1.0 + stdev**2 / mean**2)),\n",
    "                size=myears)\n",
    "        \n",
    "        for t in range(1,myears):\n",
    "        \n",
    "            # here we use the decision rule\n",
    "            decision = get_antropogenic_release(X[t-1], c1, c2, r1, r2, w1)\n",
    "            decisions.append(decision)\n",
    "               \n",
    "            X[t] = (1-b)*X[t-1] + X[t-1]**q/(1+X[t-1]**q) + decision +\\\n",
    "                    natural_inflows[t-1]\n",
    "            average_daily_P[t] += X[t]/nsamples\n",
    "    \n",
    "        reliability += np.sum(X < Pcrit)/(nsamples*myears)\n",
    "        inertia += np.sum(np.absolute(np.diff(np.asarray(decisions)) > 0.02)) / (nsamples*len(decisions))\n",
    "        utility += np.sum(alpha*decisions*np.power(delta, np.arange(myears))) / nsamples\n",
    "    max_P = np.max(average_daily_P)\n",
    "\n",
    "    return max_P, utility, inertia, reliability\n",
    "```"
   ]
  },
  {
   "cell_type": "code",
   "execution_count": 12,
   "metadata": {
    "collapsed": true
   },
   "outputs": [],
   "source": [
    "from scipy.optimize import brentq\n",
    "import math\n",
    "\n",
    "def lake_problem(\n",
    "         b=0.42,          # decay rate for P in lake (0.42 = irreversible)\n",
    "         q=2.0,           # recycling exponent\n",
    "         mean=0.02,       # mean of natural inflows\n",
    "         stdev=0.001,     # future utility discount rate\n",
    "         delta=0.98,      # standard deviation of natural inflows\n",
    "         alpha=0.4,       # utility from pollution\n",
    "         nsamples=100,    # Monte Carlo sampling of natural inflows\n",
    "         myears=1,         # the runtime of the simulation model\n",
    "         c1=0.25,\n",
    "         c2=0.25,\n",
    "         r1=0.5,\n",
    "         r2=0.5,\n",
    "         w1=0.5):   \n",
    "    Pcrit = brentq(lambda x: x**q/(1+x**q) - b*x, 0.01, 1.5)\n",
    "\n",
    "    X = np.zeros((myears,))\n",
    "    average_daily_P = np.zeros((myears,))\n",
    "    reliability = 0.0\n",
    "    inertia = 0\n",
    "    utility = 0\n",
    "\n",
    "    for _ in range(nsamples):\n",
    "        X[0] = 0.0\n",
    "        decision = 0.1\n",
    "\n",
    "        decisions = np.zeros(myears,)\n",
    "        decisions[0] = decision\n",
    "\n",
    "        natural_inflows = np.random.lognormal(\n",
    "                math.log(mean**2 / math.sqrt(stdev**2 + mean**2)),\n",
    "                math.sqrt(math.log(1.0 + stdev**2 / mean**2)),\n",
    "                size=myears)\n",
    "        \n",
    "        for t in range(1,myears):\n",
    "        \n",
    "            # here we use the decision rule\n",
    "            decision = get_antropogenic_release(X[t-1], c1, c2, r1, r2, w1)\n",
    "            decisions[t] = decision\n",
    "               \n",
    "            X[t] = (1-b)*X[t-1] + X[t-1]**q/(1+X[t-1]**q) + decision +\\\n",
    "                    natural_inflows[t-1]\n",
    "            average_daily_P[t] += X[t]/nsamples\n",
    "    \n",
    "        reliability += np.sum(X < Pcrit)/(nsamples*myears)\n",
    "        inertia += np.sum(np.absolute(np.diff(decisions) > 0.02)) / (nsamples*myears)\n",
    "        utility += np.sum(alpha*decisions*np.power(delta, np.arange(myears))) / nsamples\n",
    "    max_P = np.max(average_daily_P)\n",
    "\n",
    "    return max_P, utility, inertia, reliability"
   ]
  },
  {
   "cell_type": "code",
   "execution_count": 13,
   "metadata": {
    "collapsed": true
   },
   "outputs": [],
   "source": [
    "# EMA WORKBENCH INTERFACE\n",
    "\n",
    "from ema_workbench import (Model, RealParameter, ScalarOutcome, Constant)\n",
    "\n",
    "#instantiate the model\n",
    "lake_model = Model('lakeproblem', function=lake_problem)\n",
    "#specify uncertainties\n",
    "lake_model.uncertainties = [RealParameter('b', 0.1, 0.45),\n",
    "                            RealParameter('q', 2.0, 4.5),\n",
    "                            RealParameter('mean', 0.01, 0.05),\n",
    "                            RealParameter('stdev', 0.001, 0.005),\n",
    "                            RealParameter('delta', 0.93, 0.99)]\n",
    "\n",
    "# set levers\n",
    "lake_model.levers = [RealParameter(\"c1\", -2, 2),\n",
    "                     RealParameter(\"c2\", -2, 2),\n",
    "                     RealParameter(\"r1\", 0, 2), \n",
    "                     RealParameter(\"r2\", 0, 2), \n",
    "                     RealParameter(\"w1\", 0, 1)\n",
    "                     ]\n",
    "\n",
    "#specify outcomes \n",
    "lake_model.outcomes = [ScalarOutcome('max_P', \n",
    "                                     kind=ScalarOutcome.MINIMIZE),\n",
    "                       ScalarOutcome('utility', \n",
    "                                     kind=ScalarOutcome.MAXIMIZE),\n",
    "                       ScalarOutcome('inertia', \n",
    "                                     kind=ScalarOutcome.MINIMIZE),\n",
    "                       ScalarOutcome('reliability', \n",
    "                                     kind=ScalarOutcome.MAXIMIZE)]\n",
    "\n",
    "# override some of the defaults of the model\n",
    "lake_model.constants = [Constant('alpha', 0.41),\n",
    "                        Constant('nsamples', 100),\n",
    "                        Constant('myears', 100)]"
   ]
  },
  {
   "cell_type": "markdown",
   "metadata": {},
   "source": [
    "as a quick check to see if the code is working, we can do a quick open exploration with the model."
   ]
  },
  {
   "cell_type": "code",
   "execution_count": 15,
   "metadata": {},
   "outputs": [
    {
     "name": "stderr",
     "output_type": "stream",
     "text": [
      "[MainProcess/INFO] pool started\n",
      "[MainProcess/INFO] performing 100 scenarios * 4 policies * 1 model(s) = 400 experiments\n",
      "[MainProcess/INFO] 40 cases completed\n",
      "[MainProcess/INFO] 80 cases completed\n",
      "[MainProcess/INFO] 120 cases completed\n",
      "[MainProcess/INFO] 160 cases completed\n",
      "[MainProcess/INFO] 200 cases completed\n",
      "[MainProcess/INFO] 240 cases completed\n",
      "[MainProcess/INFO] 280 cases completed\n",
      "[MainProcess/INFO] 320 cases completed\n",
      "[MainProcess/INFO] 360 cases completed\n",
      "[MainProcess/INFO] 400 cases completed\n",
      "[MainProcess/INFO] experiments finished\n",
      "[MainProcess/INFO] terminating pool\n"
     ]
    }
   ],
   "source": [
    "from ema_workbench import MultiprocessingEvaluator, ema_logging, perform_experiments\n",
    "ema_logging.log_to_stderr(ema_logging.INFO)\n",
    "\n",
    "with MultiprocessingEvaluator(lake_model) as evaluator:\n",
    "    results = evaluator.perform_experiments(scenarios=100, policies=4)"
   ]
  },
  {
   "cell_type": "markdown",
   "metadata": {},
   "source": [
    "## Step 2: Searching for candidate solutions\n",
    "\n",
    "In the second step of MORDM, candidate solutions are identified by searching for the Pareto optimal values of decision **levers** with respect to the **outcomes**. This *search* is done with multi-objective evolutionary algorithms, that iteratively evaluate a large number of alternatives on multiple objectives until they find the best candidates. For instance, when we optimize the lake model levers, the lake model function will be called for each candidate evaluation, and the corresponding four objective values will be generated. \n",
    "\n",
    "*Platypus* is python package developed by David Hadka (http://platypus.readthedocs.io/en/latest/) for multi-objective optimization. It allows an explicit specification of the problem components (levers, objectives, constraints). The package includes several multi-objective evolutionary algorithms, therefore the users can choose the algorithm they wish to use. \n",
    "\n",
    "Unfortunately you cannot install Platypus with **pip install**. You should download (or clone) the source code from github (https://github.com/Project-Platypus/Platypus). Open a command prompt, go to the directory you saved platypus, and run the command **python setup.py install**. \n",
    "\n",
    "In this exercise, I recommend to use Platypus with the ε-NSGAII algorithm, since it is shown to outperform many MOEA’s. For other algortihms, see the documentation of Platypus. For a comparison of them, you can have a look at \n",
    "\n",
    "    Reed, P. M., D. Hadka, J. D. Herman, J. R. Kasprzyk, and J. B. Kollat. 2013. \"Evolutionary multiobjective optimization in water resources: The past, present, and future.\"  Advances in Water Resources 51:438-456. doi: http://dx.doi.org/10.1016/j.advwatres.2012.01.005.\n",
    "    \n",
    "\n",
    "To run multi-objective optimization on the lake model, an interface between Platypus and EMA-workbench is needed. Namely, we need to specify the *function evaluation* step, where the lake model will be called with a specific *policy*, which is composed of lever values determined by the search algorithm. Therefore,\n",
    "\n",
    "**Write a function, which takes a list of parameter values, an EMA model instance and a list of EMA lever instances as inputs. The function should run the model with the given parameter values, and return the model results.**\n",
    "\n",
    "**Then write a function that defines an optimization problem, and solves it.**\n",
    "\n",
    "**You can as well just fill in the missing parts in the functions below, which are indicated by ===WRITE THE CODE HERE===**"
   ]
  },
  {
   "cell_type": "code",
   "execution_count": 16,
   "metadata": {
    "collapsed": true
   },
   "outputs": [],
   "source": [
    "import sys\n",
    "\n",
    "sys.path.append('/Users/jhkwakkel/Documents/workspace/Platypus')"
   ]
  },
  {
   "cell_type": "code",
   "execution_count": 33,
   "metadata": {
    "collapsed": true
   },
   "outputs": [],
   "source": [
    "import functools\n",
    "\n",
    "import platypus\n",
    "from ema_workbench import Scenario, Policy\n",
    "from ema_workbench.em_framework.outcomes import AbstractOutcome\n",
    "from ema_workbench.em_framework.util import representation\n",
    "\n",
    "def wrapper_function(decisions, model=None, decision_vars=None):\n",
    "    '''\n",
    "    \n",
    "    Parameters\n",
    "    ----------\n",
    "    decision : list of numbers\n",
    "    model : AbstractModel instance\n",
    "    decision_vars : list of strings\n",
    "    \n",
    "    Returns\n",
    "    -------\n",
    "    list of numbers\n",
    "    \n",
    "    '''\n",
    "    \n",
    "    policy = dict(zip(decision_vars, decisions))\n",
    "\n",
    "    model.run_model(Scenario({}), Policy(name=representation, **policy))\n",
    "\n",
    "    result = model.output\n",
    "    outcomes = [result[o.name] for o in model.outcomes  \n",
    "                if o.kind != AbstractOutcome.INFO]\n",
    "    return outcomes\n",
    "\n",
    "decision_vars = [p for p in lake_model.levers]\n",
    "dv_names = [p.name for p in decision_vars]\n",
    "wrapped = functools.partial(wrapper_function, model=lake_model, \n",
    "                            decision_vars=dv_names)\n",
    "\n",
    "    \n",
    "# platypus.Problem(nvars, nobjs, function)"
   ]
  },
  {
   "cell_type": "code",
   "execution_count": 34,
   "metadata": {},
   "outputs": [
    {
     "data": {
      "text/plain": [
       "[0.20496836716194841, 0.54368780718039267, 0.0, 1.0000000000000007]"
      ]
     },
     "execution_count": 34,
     "metadata": {},
     "output_type": "execute_result"
    }
   ],
   "source": [
    "#          c1=0.25,\n",
    "#          c2=0.25,\n",
    "#          r1=0.5,\n",
    "#          r2=0.5,\n",
    "#          w1=0.5\n",
    "            \n",
    "wrapped([0.25, 0.25, 0.5, 0.5,0.5])"
   ]
  },
  {
   "cell_type": "code",
   "execution_count": null,
   "metadata": {
    "collapsed": true
   },
   "outputs": [],
   "source": [
    "from ema_workbench.em_framework import (Scenario, Policy)\n",
    "from ema_workbench.em_framework.outcomes import AbstractOutcome\n",
    "\n",
    "def evaluate_function(x, model=None, decision_vars=None):\n",
    "    '''helper function for transforming decision variables to correctly\n",
    "    formatted input for running the model\n",
    "    \n",
    "    Parameters\n",
    "    ----------\n",
    "    x : list of lever values\n",
    "    model : a Model instance\n",
    "    decision_vars : list of Parameter instances \n",
    "    \n",
    "    note:: model and decision_vars are preloaded through functools.partial\n",
    "    \n",
    "    returns a list of objective function values\n",
    "    \n",
    "    '''\n",
    "\n",
    "    # === YOU CAN WRITE THE CONTENT OF THE FUNCTION HERE.===\n",
    "    \n",
    "    return outcomes"
   ]
  },
  {
   "cell_type": "markdown",
   "metadata": {},
   "source": [
    "Now, the algorthm can use this *evaluate_function* to evaluate each alternative solution.\n",
    "\n",
    "We still need to specify an optimization problem in Platypus. We can first write a generic function that can be used for any model and any algorithm. If you would like to try this by yourself, see the simple example in Platypus documentation.  "
   ]
  },
  {
   "cell_type": "code",
   "execution_count": null,
   "metadata": {
    "collapsed": true
   },
   "outputs": [],
   "source": [
    "from platypus import Problem, unique, nondominated, Real, EpsNSGAII\n",
    "import functools\n",
    "import pandas as pd"
   ]
  },
  {
   "cell_type": "code",
   "execution_count": null,
   "metadata": {
    "collapsed": true
   },
   "outputs": [],
   "source": [
    "def optimize(model, algorithm=EpsNSGAII, nfe=10000, epsilons=[]):\n",
    "    '''\n",
    "    model : a Model instance\n",
    "    algorith : a valid Platypus optimization algorithm\n",
    "    nfe : int\n",
    "    searchover : {'uncertainties', 'levers'}\n",
    "    \n",
    "    Returns the results in a pandas DataFrame\n",
    "    \n",
    "    '''\n",
    "    \n",
    "    # extract the levers and outcomes from the model\n",
    "    # === WRITE THE CODE ===\n",
    "    \n",
    "    # set the evaluation function, with the given model and decision variables \n",
    "    evalfunc = functools.partial(evaluate_function, model=model,\n",
    "                                 decision_vars=decision_variables)\n",
    "    \n",
    "    # setup the optimization problem\n",
    "    \n",
    "    # creating a 'problem' instance first requires specifying the number of decision variables number of objectives \n",
    "    #specify the type of decision variables, e.g. real or integer, \n",
    "     #and their search ranges, by creatign a platypus Real instance for each decision variable. \n",
    "    problem.types[:] = [Real(dv.lower_bound, dv.upper_bound) \n",
    "                        for dv in decision_variables]\n",
    "    #set the evaluation function\n",
    "    problem.function = evalfunc\n",
    "    #specify whether the objectives are to be minimized or maximized. \n",
    "     #Remember that we set these when we created the outcomes of the ema model. \n",
    "    problem.directions = [outcome.kind for outcome in outcomes]\n",
    "\n",
    "    # solve the optimization problem\n",
    "    optimizer = algorithm(problem, epsilons)\n",
    "    optimizer.run(nfe)\n",
    "\n",
    "    # extract the results from the optimizer and save in a dataframe\n",
    "    \n",
    "    # ensure that eventual results are nondominated and do not have duplicates\n",
    "    results = unique(nondominated(optimizer.result))\n",
    "        # results is a list of 'solution' objects, \n",
    "        #which has the decision variable values in solution.variables \n",
    "        #and objective values in solution.objectives \n",
    "    \n",
    "    # for the dataframe, get the names for levers and the outcomes\n",
    "    # === WRITE THE CODE HERE === \n",
    "    \n",
    "    solutions = []\n",
    "    for solution in results:\n",
    "        #for each solution, match the lever names with variable values, and outcome names with objective values \n",
    "        decision_vars = dict(zip(lever_names, solution.variables))\n",
    "        decision_out = dict(zip(outcome_names, solution.objectives))\n",
    "        #create dictionary, with the unpacked keys and values of the above two dictionaries. This will be row in th df.\n",
    "        # === WRITE THE CODE HERE ===\n",
    "\n",
    "    results = pd.DataFrame(solutions, columns=lever_names+outcome_names)\n",
    "\n",
    "    return results\n"
   ]
  },
  {
   "cell_type": "markdown",
   "metadata": {},
   "source": [
    "We can now call the *optimize* function for the lake problem, and run the search algorithm. I set the maximum number of function evaluations (when the algorithm will stop) as 10000, and specify the epsilon values differently for each objective. You can then save the esults in a csv file, to be used later."
   ]
  },
  {
   "cell_type": "code",
   "execution_count": null,
   "metadata": {
    "collapsed": true
   },
   "outputs": [],
   "source": []
  },
  {
   "cell_type": "code",
   "execution_count": null,
   "metadata": {
    "collapsed": true
   },
   "outputs": [],
   "source": [
    "# it should look like that\n",
    "results.head()"
   ]
  },
  {
   "cell_type": "markdown",
   "metadata": {
    "collapsed": true
   },
   "source": [
    "We have found 336 unique nondominated solutions that specify a value for each of the five decision levers. (Note that you may find a different number of solutions.) Remember that solution *a* dominates solution *b* if it is equal to or better than it in terms of all objectives. A nondominated solution is equal to or better than all other solutions in terms of at least one objecive. Therefore, each solution is actually a tradeoff between the multiple. possible conflicting objectives. \n",
    "\n",
    "We can visualize these tradeoffs on **parallel coordinate plots**, which have a column (vertical axis) for each objective. Each solution is represetned by a line on this plot, which crosses the objective axes at the corresponsing value.\n",
    "\n",
    "**As an exercise, you can plot the tradeoffs you have found on a parallel plot. Note that the values on each axis should be normalized to ensure a reasonable comparison.**\n",
    "\n"
   ]
  },
  {
   "cell_type": "code",
   "execution_count": null,
   "metadata": {
    "collapsed": true
   },
   "outputs": [],
   "source": []
  },
  {
   "cell_type": "code",
   "execution_count": null,
   "metadata": {
    "collapsed": true
   },
   "outputs": [],
   "source": [
    "# THIS IS HOW IT CAN LOOK LIKE\n",
    "\n",
    "oois = [out.name for out in lake_model.outcomes]\n",
    "objectives = results.ix[:, oois]\n",
    "\n",
    "title = \"Non-dominated tradeoffs\"\n",
    "plot_optimal(objectives, oois, title)"
   ]
  },
  {
   "cell_type": "markdown",
   "metadata": {},
   "source": [
    "**What does this plot tell us about the tradeoffs and conflicting objectives?**"
   ]
  },
  {
   "cell_type": "markdown",
   "metadata": {},
   "source": [
    "## Step 3: Explore the scenarios and robustness of candidate solutions"
   ]
  },
  {
   "cell_type": "markdown",
   "metadata": {},
   "source": [
    "We now have a large number of candidate solutions (policies), we can evaluate them in terms of their robustness against uncertainties.\n",
    "\n",
    "For this robustness evaluation, we need to explore the scenarios for each solution. It means that, if we would like to run for instance 1000 scenarios for each solution, we need 336000 scenarios. \n",
    "\n",
    "Here, to simplify the case, let's suppose that decision makers have a hard constrain on *reliability*. No solution with less than 90% reliability is acceptable for them. Therefore, we can reduce the size of the solution set according to this constraint. \n",
    "\n",
    "**Apply this constraint of reliability on the results, and create a new dataframe named new_reults**"
   ]
  },
  {
   "cell_type": "code",
   "execution_count": null,
   "metadata": {
    "collapsed": true
   },
   "outputs": [],
   "source": []
  },
  {
   "cell_type": "code",
   "execution_count": null,
   "metadata": {
    "collapsed": true
   },
   "outputs": [],
   "source": [
    "#using the predefined parallel plot function, plot the reduced set of tradeoffs\n",
    "new_objectives = new_results.ix[:, oois]\n",
    "plot_optimal(new_objectives, oois, title)"
   ]
  },
  {
   "cell_type": "markdown",
   "metadata": {},
   "source": [
    "**From new_results, which is the reduced dataframe of candidate solutions, make list of policies in a fromat that can be inputed to the *perform_experiments* function of the EMA workbench.**"
   ]
  },
  {
   "cell_type": "code",
   "execution_count": null,
   "metadata": {
    "collapsed": true
   },
   "outputs": [],
   "source": []
  },
  {
   "cell_type": "markdown",
   "metadata": {},
   "source": [
    "**Perform 1000 scenarios for each of the policy options. Considering that there are 35 policy options and we need to run 35000 experiments in total, and we can consider using the IpyparallelEvaluator**\n",
    "\n",
    "If you want to use ipyprallel, don't forget to start ipcluster."
   ]
  },
  {
   "cell_type": "code",
   "execution_count": null,
   "metadata": {
    "collapsed": true
   },
   "outputs": [],
   "source": []
  },
  {
   "cell_type": "code",
   "execution_count": null,
   "metadata": {
    "collapsed": true
   },
   "outputs": [],
   "source": []
  },
  {
   "cell_type": "markdown",
   "metadata": {},
   "source": [
    "We can now evaluate the **robustness** of each of the 35 policy options based on these scenario results. We can calculate the robustness of a policy option in terms of its performance on an outcome indicator across the 1000 scenarios. In other words, we can identify how robust a policy is in terms of each outcome indicator, and investigate the robustness tradeoffs.  \n",
    "\n",
    "There are multiple metrics to quantify robustness. On of them is the *signal to noise ratio*, which is simply the mean of a dataset divided by its standard deviation. For instance, for an outcome indicator to be maximized, we prefer a high average value across the scenarios, and a low standard deviation, implying a narrow uncertaintiy range. Therefore, we want to maximize the signal-to-noise ratio. For an outcome indicator to be minimized, a lower mean and a lower standard deviation is preferred. Therefore the formulation shoudl be different.\n",
    "\n",
    "**Write a function to calculate the signal-to-noise ratio for both kinds of outcome indicators. Calculate the signal-to-noise ratios for each outcome and each policy option. Plot the tradeoffs on a parallel plot. Which solutions look like a good compromise policy?**"
   ]
  },
  {
   "cell_type": "code",
   "execution_count": null,
   "metadata": {
    "collapsed": true
   },
   "outputs": [],
   "source": []
  },
  {
   "cell_type": "markdown",
   "metadata": {},
   "source": [
    "Another robustness metric is **maximum regret**, calculated again for each policy and for each outcome indicator. *Regret* is defined for each policy under each scenario, as the difference between the performance of that scenario and the berformance of a no-regret or refeence policy. The *maximum regret*  is then the maximum of such regret values across all scenarios. We off course favor policy options with low *maximum regret* values. (You can find furter explanation in the slides of the Advanced System Dynamics course.)\n",
    "\n",
    "**Write a function to calculate the maximum regret for both kinds of outcome indicators. Calculate the maximum regret values for each outcome and each policy option. Plot the tradeoffs on a parallel plot. Which solutions look like a good compromise policy?**"
   ]
  },
  {
   "cell_type": "code",
   "execution_count": null,
   "metadata": {
    "collapsed": true
   },
   "outputs": [],
   "source": []
  },
  {
   "cell_type": "code",
   "execution_count": null,
   "metadata": {
    "collapsed": true
   },
   "outputs": [],
   "source": []
  },
  {
   "cell_type": "code",
   "execution_count": null,
   "metadata": {
    "collapsed": true
   },
   "outputs": [],
   "source": []
  },
  {
   "cell_type": "code",
   "execution_count": null,
   "metadata": {
    "collapsed": true
   },
   "outputs": [],
   "source": []
  }
 ],
 "metadata": {
  "anaconda-cloud": {},
  "kernelspec": {
   "display_name": "Python [default]",
   "language": "python",
   "name": "python3"
  },
  "language_info": {
   "codemirror_mode": {
    "name": "ipython",
    "version": 3
   },
   "file_extension": ".py",
   "mimetype": "text/x-python",
   "name": "python",
   "nbconvert_exporter": "python",
   "pygments_lexer": "ipython3",
   "version": "3.5.3"
  },
  "latex_envs": {
   "LaTeX_envs_menu_present": true,
   "autocomplete": true,
   "bibliofile": "biblio.bib",
   "cite_by": "apalike",
   "current_citInitial": 1,
   "eqLabelWithNumbers": true,
   "eqNumInitial": 1,
   "hotkeys": {
    "equation": "Ctrl-E",
    "itemize": "Ctrl-I"
   },
   "labels_anchors": false,
   "latex_user_defs": false,
   "report_style_numbering": false,
   "user_envs_cfg": false
  }
 },
 "nbformat": 4,
 "nbformat_minor": 1
}
