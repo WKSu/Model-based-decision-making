{
 "cells": [
  {
   "cell_type": "markdown",
   "metadata": {},
   "source": [
    "# Problem Formulation"
   ]
  },
  {
   "cell_type": "code",
   "execution_count": 1,
   "metadata": {},
   "outputs": [],
   "source": [
    "import numpy as np\n",
    "import scipy as sp\n",
    "import pandas as pd\n",
    "import matplotlib.pyplot as plt\n",
    "import seaborn as sns\n",
    "import time\n",
    "import copy"
   ]
  },
  {
   "cell_type": "code",
   "execution_count": 2,
   "metadata": {},
   "outputs": [
    {
     "data": {
      "text/plain": [
       "<Logger EMA (DEBUG)>"
      ]
     },
     "execution_count": 2,
     "metadata": {},
     "output_type": "execute_result"
    }
   ],
   "source": [
    "from ema_workbench import (Model, CategoricalParameter,\n",
    "                           ScalarOutcome, IntegerParameter, RealParameter)\n",
    "\n",
    "from ema_workbench import (Model, MultiprocessingEvaluator, Policy, Scenario, SequentialEvaluator)\n",
    "\n",
    "from ema_workbench.em_framework.evaluators import perform_experiments, optimize\n",
    "from ema_workbench.em_framework.samplers import sample_uncertainties\n",
    "from ema_workbench.util import ema_logging, utilities\n",
    "\n",
    "ema_logging.log_to_stderr(ema_logging.INFO)"
   ]
  },
  {
   "cell_type": "code",
   "execution_count": 3,
   "metadata": {},
   "outputs": [
    {
     "name": "stderr",
     "output_type": "stream",
     "text": [
      "C:\\Users\\newbi\\Anaconda3\\lib\\importlib\\_bootstrap.py:219: ImportWarning: can't resolve package from __spec__ or __package__, falling back on __name__ and __path__\n",
      "  return f(*args, **kwds)\n"
     ]
    }
   ],
   "source": [
    "from dike_model_function import DikeNetwork  # @UnresolvedImport\n",
    "from problem_formulation import get_model_for_problem_formulation"
   ]
  },
  {
   "cell_type": "code",
   "execution_count": 4,
   "metadata": {},
   "outputs": [],
   "source": [
    "dike_model, planning_steps = get_model_for_problem_formulation(5)"
   ]
  },
  {
   "cell_type": "code",
   "execution_count": null,
   "metadata": {},
   "outputs": [],
   "source": [
    "# start = time.time()\n",
    "# with MultiprocessingEvaluator(dike_model) as evaluator:\n",
    "#     results = evaluator.perform_experiments(scenarios=200, policies=50)\n",
    "    \n",
    "# end = time.time()\n",
    "\n",
    "# print('Total run time:{} min'.format((end - start)/60))"
   ]
  },
  {
   "cell_type": "code",
   "execution_count": null,
   "metadata": {},
   "outputs": [],
   "source": [
    "# # Write results to file again\n",
    "# import pickle\n",
    "\n",
    "# with open('Outcomes/200Scenarios50Policies.pkl', 'wb') as f:\n",
    "#     pickle.dump(results, f)"
   ]
  },
  {
   "cell_type": "code",
   "execution_count": null,
   "metadata": {},
   "outputs": [],
   "source": [
    "# # Read in results again\n",
    "# import pickle\n",
    "\n",
    "# with open('Outcomes/200Scenarios50Policies.pkl', 'rb') as f:\n",
    "#     results = pickle.load(f)"
   ]
  },
  {
   "cell_type": "code",
   "execution_count": null,
   "metadata": {},
   "outputs": [],
   "source": [
    "# # Do the same thing but Jan's way (slower)\n",
    "# from ema_workbench.util import utilities\n",
    "\n",
    "# utilities.save_results(results, 'Outcomes/200Scenarios50Policies.csv')"
   ]
  },
  {
   "cell_type": "code",
   "execution_count": 5,
   "metadata": {},
   "outputs": [
    {
     "name": "stderr",
     "output_type": "stream",
     "text": [
      "[MainProcess/INFO] results loaded succesfully from C:\\Users\\newbi\\project-local\\Model-based-decision-making\\epa1361_open\\final assignment\\Outcomes\\200Scenarios50Policies.csv\n"
     ]
    }
   ],
   "source": [
    "results = utilities.load_results('Outcomes/200Scenarios50Policies.csv')"
   ]
  },
  {
   "cell_type": "code",
   "execution_count": 6,
   "metadata": {},
   "outputs": [
    {
     "data": {
      "text/html": [
       "<div>\n",
       "<style scoped>\n",
       "    .dataframe tbody tr th:only-of-type {\n",
       "        vertical-align: middle;\n",
       "    }\n",
       "\n",
       "    .dataframe tbody tr th {\n",
       "        vertical-align: top;\n",
       "    }\n",
       "\n",
       "    .dataframe thead th {\n",
       "        text-align: right;\n",
       "    }\n",
       "</style>\n",
       "<table border=\"1\" class=\"dataframe\">\n",
       "  <thead>\n",
       "    <tr style=\"text-align: right;\">\n",
       "      <th></th>\n",
       "      <th>A.0_ID flood wave shape</th>\n",
       "      <th>A.1_Bmax</th>\n",
       "      <th>A.1_Brate</th>\n",
       "      <th>A.1_pfail</th>\n",
       "      <th>A.2_Bmax</th>\n",
       "      <th>A.2_Brate</th>\n",
       "      <th>A.2_pfail</th>\n",
       "      <th>A.3_Bmax</th>\n",
       "      <th>A.3_Brate</th>\n",
       "      <th>A.3_pfail</th>\n",
       "      <th>...</th>\n",
       "      <th>A.3_Dike Investment Costs 2</th>\n",
       "      <th>A.3_Expected Number of Deaths 2</th>\n",
       "      <th>A.4_Expected Annual Damage 2</th>\n",
       "      <th>A.4_Dike Investment Costs 2</th>\n",
       "      <th>A.4_Expected Number of Deaths 2</th>\n",
       "      <th>A.5_Expected Annual Damage 2</th>\n",
       "      <th>A.5_Dike Investment Costs 2</th>\n",
       "      <th>A.5_Expected Number of Deaths 2</th>\n",
       "      <th>RfR Total Costs 2</th>\n",
       "      <th>Expected Evacuation Costs 2</th>\n",
       "    </tr>\n",
       "  </thead>\n",
       "  <tbody>\n",
       "    <tr>\n",
       "      <th>0</th>\n",
       "      <td>26.0</td>\n",
       "      <td>308.560347</td>\n",
       "      <td>1.5</td>\n",
       "      <td>0.040640</td>\n",
       "      <td>94.864757</td>\n",
       "      <td>1.5</td>\n",
       "      <td>0.388750</td>\n",
       "      <td>324.442213</td>\n",
       "      <td>1.0</td>\n",
       "      <td>0.273762</td>\n",
       "      <td>...</td>\n",
       "      <td>4.049237e+08</td>\n",
       "      <td>0.0</td>\n",
       "      <td>0.0</td>\n",
       "      <td>2.137888e+09</td>\n",
       "      <td>0.0</td>\n",
       "      <td>0.0</td>\n",
       "      <td>9.712712e+08</td>\n",
       "      <td>0.0</td>\n",
       "      <td>377300000.0</td>\n",
       "      <td>0.0</td>\n",
       "    </tr>\n",
       "    <tr>\n",
       "      <th>1</th>\n",
       "      <td>58.0</td>\n",
       "      <td>113.145318</td>\n",
       "      <td>1.0</td>\n",
       "      <td>0.873360</td>\n",
       "      <td>31.275990</td>\n",
       "      <td>10.0</td>\n",
       "      <td>0.239393</td>\n",
       "      <td>166.383414</td>\n",
       "      <td>1.0</td>\n",
       "      <td>0.532549</td>\n",
       "      <td>...</td>\n",
       "      <td>4.049237e+08</td>\n",
       "      <td>0.0</td>\n",
       "      <td>0.0</td>\n",
       "      <td>2.137888e+09</td>\n",
       "      <td>0.0</td>\n",
       "      <td>0.0</td>\n",
       "      <td>9.712712e+08</td>\n",
       "      <td>0.0</td>\n",
       "      <td>377300000.0</td>\n",
       "      <td>0.0</td>\n",
       "    </tr>\n",
       "    <tr>\n",
       "      <th>2</th>\n",
       "      <td>24.0</td>\n",
       "      <td>92.660114</td>\n",
       "      <td>10.0</td>\n",
       "      <td>0.519441</td>\n",
       "      <td>316.880074</td>\n",
       "      <td>10.0</td>\n",
       "      <td>0.983236</td>\n",
       "      <td>285.521160</td>\n",
       "      <td>1.5</td>\n",
       "      <td>0.969825</td>\n",
       "      <td>...</td>\n",
       "      <td>4.049237e+08</td>\n",
       "      <td>0.0</td>\n",
       "      <td>0.0</td>\n",
       "      <td>2.137888e+09</td>\n",
       "      <td>0.0</td>\n",
       "      <td>0.0</td>\n",
       "      <td>9.712712e+08</td>\n",
       "      <td>0.0</td>\n",
       "      <td>377300000.0</td>\n",
       "      <td>0.0</td>\n",
       "    </tr>\n",
       "    <tr>\n",
       "      <th>3</th>\n",
       "      <td>122.0</td>\n",
       "      <td>304.638762</td>\n",
       "      <td>1.0</td>\n",
       "      <td>0.387266</td>\n",
       "      <td>32.107645</td>\n",
       "      <td>1.0</td>\n",
       "      <td>0.317684</td>\n",
       "      <td>102.327925</td>\n",
       "      <td>10.0</td>\n",
       "      <td>0.427642</td>\n",
       "      <td>...</td>\n",
       "      <td>4.049237e+08</td>\n",
       "      <td>0.0</td>\n",
       "      <td>0.0</td>\n",
       "      <td>2.137888e+09</td>\n",
       "      <td>0.0</td>\n",
       "      <td>0.0</td>\n",
       "      <td>9.712712e+08</td>\n",
       "      <td>0.0</td>\n",
       "      <td>377300000.0</td>\n",
       "      <td>0.0</td>\n",
       "    </tr>\n",
       "    <tr>\n",
       "      <th>4</th>\n",
       "      <td>38.0</td>\n",
       "      <td>106.177684</td>\n",
       "      <td>1.0</td>\n",
       "      <td>0.676617</td>\n",
       "      <td>335.572782</td>\n",
       "      <td>1.0</td>\n",
       "      <td>0.400639</td>\n",
       "      <td>218.834865</td>\n",
       "      <td>1.5</td>\n",
       "      <td>0.659950</td>\n",
       "      <td>...</td>\n",
       "      <td>4.049237e+08</td>\n",
       "      <td>0.0</td>\n",
       "      <td>0.0</td>\n",
       "      <td>2.137888e+09</td>\n",
       "      <td>0.0</td>\n",
       "      <td>0.0</td>\n",
       "      <td>9.712712e+08</td>\n",
       "      <td>0.0</td>\n",
       "      <td>377300000.0</td>\n",
       "      <td>0.0</td>\n",
       "    </tr>\n",
       "  </tbody>\n",
       "</table>\n",
       "<p>5 rows × 104 columns</p>\n",
       "</div>"
      ],
      "text/plain": [
       "   A.0_ID flood wave shape    A.1_Bmax A.1_Brate  A.1_pfail    A.2_Bmax  \\\n",
       "0                     26.0  308.560347       1.5   0.040640   94.864757   \n",
       "1                     58.0  113.145318       1.0   0.873360   31.275990   \n",
       "2                     24.0   92.660114      10.0   0.519441  316.880074   \n",
       "3                    122.0  304.638762       1.0   0.387266   32.107645   \n",
       "4                     38.0  106.177684       1.0   0.676617  335.572782   \n",
       "\n",
       "  A.2_Brate  A.2_pfail    A.3_Bmax A.3_Brate  A.3_pfail  ...  \\\n",
       "0       1.5   0.388750  324.442213       1.0   0.273762  ...   \n",
       "1      10.0   0.239393  166.383414       1.0   0.532549  ...   \n",
       "2      10.0   0.983236  285.521160       1.5   0.969825  ...   \n",
       "3       1.0   0.317684  102.327925      10.0   0.427642  ...   \n",
       "4       1.0   0.400639  218.834865       1.5   0.659950  ...   \n",
       "\n",
       "   A.3_Dike Investment Costs 2 A.3_Expected Number of Deaths 2  \\\n",
       "0                 4.049237e+08                             0.0   \n",
       "1                 4.049237e+08                             0.0   \n",
       "2                 4.049237e+08                             0.0   \n",
       "3                 4.049237e+08                             0.0   \n",
       "4                 4.049237e+08                             0.0   \n",
       "\n",
       "   A.4_Expected Annual Damage 2  A.4_Dike Investment Costs 2  \\\n",
       "0                           0.0                 2.137888e+09   \n",
       "1                           0.0                 2.137888e+09   \n",
       "2                           0.0                 2.137888e+09   \n",
       "3                           0.0                 2.137888e+09   \n",
       "4                           0.0                 2.137888e+09   \n",
       "\n",
       "  A.4_Expected Number of Deaths 2  A.5_Expected Annual Damage 2  \\\n",
       "0                             0.0                           0.0   \n",
       "1                             0.0                           0.0   \n",
       "2                             0.0                           0.0   \n",
       "3                             0.0                           0.0   \n",
       "4                             0.0                           0.0   \n",
       "\n",
       "  A.5_Dike Investment Costs 2 A.5_Expected Number of Deaths 2  \\\n",
       "0                9.712712e+08                             0.0   \n",
       "1                9.712712e+08                             0.0   \n",
       "2                9.712712e+08                             0.0   \n",
       "3                9.712712e+08                             0.0   \n",
       "4                9.712712e+08                             0.0   \n",
       "\n",
       "  RfR Total Costs 2  Expected Evacuation Costs 2  \n",
       "0       377300000.0                          0.0  \n",
       "1       377300000.0                          0.0  \n",
       "2       377300000.0                          0.0  \n",
       "3       377300000.0                          0.0  \n",
       "4       377300000.0                          0.0  \n",
       "\n",
       "[5 rows x 104 columns]"
      ]
     },
     "execution_count": 6,
     "metadata": {},
     "output_type": "execute_result"
    }
   ],
   "source": [
    "experiments, outcomes = results\n",
    "outcomes = pd.DataFrame(outcomes)\n",
    "experiments = pd.DataFrame(experiments)\n",
    "results = experiments.join(outcomes)\n",
    "results.head()"
   ]
  },
  {
   "cell_type": "code",
   "execution_count": 7,
   "metadata": {},
   "outputs": [],
   "source": [
    "# Changes so that the dataframe is fit for mathematical opertions\n",
    "results = results.drop(columns=\"model\")\n",
    "results = results.apply(pd.to_numeric)\n",
    "\n",
    "\n",
    "# Get the mean for all the results across the scenarios to have a quick look at significant locations\n",
    "sum_results = results.apply(np.mean, axis = 0)"
   ]
  },
  {
   "cell_type": "code",
   "execution_count": null,
   "metadata": {},
   "outputs": [],
   "source": [
    "# CODE I MIGHT NEED AGAIN\n",
    "\n",
    "# l = []\n",
    "\n",
    "# for i in sum_results.items():\n",
    "#     if(\"Expected Annual Damage\" in i[0]):\n",
    "#         l.append(i)\n",
    "        \n",
    "# df_exp_dmg = pd.DataFrame(l).T\n",
    "# df_exp_dmg = df_exp_dmg.rename(columns=df_exp_dmg.iloc[0])\n",
    "# df_exp_dmg = df_exp_dmg.reindex(df_exp_dmg.index.drop(0))\n",
    "\n",
    "# df_exp_dmg.apply(pd.to_numeric).plot(x = df_exp_dmg.columns, y = df_exp_dmg, kind = \"scatter\")\n",
    "# df_exp_dmg\n",
    "\n",
    "# locations = [\"A.1\", \"A.2\", \"A.3\", \"A.4\", \"A.5\"]\n",
    "# df_exp_dmg[\"subset\"] = np.select([df_exp_dmg.columns.str.contains(\"A.1\"), df_exp_dmg.columns.str.contains(\"A.2\"),\n",
    "#               df_exp_dmg.columns.str.contains(\"A.3\"), df_exp_dmg.columns.str.contains(\"A.4\"),\n",
    "#               df_exp_dmg.columns.str.contains(\"A.5\")], locations)\n",
    "\n",
    "# # for color, label in zip('bgrm', [0, 1, 2, -1]):\n",
    "# #     print(color)\n",
    "# #     print(df_exp_dmg[df_exp_dmg.subset == label])"
   ]
  },
  {
   "cell_type": "code",
   "execution_count": 8,
   "metadata": {},
   "outputs": [],
   "source": [
    "# https://stackoverflow.com/a/56253636\n",
    "def legend_without_duplicate_labels(ax):\n",
    "    handles, labels = ax.get_legend_handles_labels()\n",
    "    unique = [(h, l) for i, (h, l) in enumerate(zip(handles, labels)) if l not in labels[:i]]\n",
    "    ax.legend(*zip(*unique), bbox_to_anchor=(1.1, 1)) # Improvement to change legend position"
   ]
  },
  {
   "cell_type": "code",
   "execution_count": 12,
   "metadata": {},
   "outputs": [
    {
     "name": "stderr",
     "output_type": "stream",
     "text": [
      "No handles with labels found to put in legend.\n"
     ]
    },
    {
     "data": {
      "image/png": "[encoded data removed]",
      "text/plain": [
       "<Figure size 576x576 with 4 Axes>"
      ]
     },
     "metadata": {},
     "output_type": "display_data"
    }
   ],
   "source": [
    "locations = [\"A.1\", \"A.2\", \"A.3\", \"A.4\", \"A.5\"]\n",
    "outcomes = [\"Expected Annual Damage\", \"Expected Number of Deaths\", \"Dike Investment Costs\", \"RfR Total Costs\"]\n",
    "x = [0, 1, 2]\n",
    "\n",
    "fig, axes = plt.subplots(ncols=2, nrows=2, figsize=(8,8), sharex=True)\n",
    "axes = [axes[0,0],axes[0,1],axes[1,0],axes[1,1]]\n",
    "\n",
    "for ax, criteria in zip(axes, outcomes):\n",
    "    for step in x:\n",
    "        for place in locations:\n",
    "            if criteria == \"RfR Total Costs\":\n",
    "                ax.plot(step, sum_results[[str(criteria) + \" \" + str(step)]].values[0], 'ro')\n",
    "            else:\n",
    "                if place == \"A.1\":\n",
    "                    ax.plot(step, sum_results[[str(place) + \"_\" + str(criteria) + \" \" + str(step)]].values[0], \n",
    "                            'ro', c=\"b\", label = \"A.1\")\n",
    "                elif place == \"A.2\":\n",
    "                    ax.plot(step, sum_results[[str(place) + \"_\" + str(criteria) + \" \" + str(step)]].values[0], \n",
    "                            'ro', c=\"r\", label = \"A.2\")\n",
    "                elif place == \"A.3\":\n",
    "                    ax.plot(step, sum_results[[str(place) + \"_\" + str(criteria) + \" \" + str(step)]].values[0], \n",
    "                            'ro', c=\"g\", label = \"A.3\")\n",
    "                elif place == \"A.4\":\n",
    "                    ax.plot(step, sum_results[[str(place) + \"_\" + str(criteria) + \" \" + str(step)]].values[0], \n",
    "                            'ro', c=\"m\", label = \"A.4\")\n",
    "                elif place == \"A.5\":\n",
    "                    ax.plot(step, sum_results[[str(place) + \"_\" + str(criteria) + \" \" + str(step)]].values[0], \n",
    "                            'ro', c=\"c\", label = \"A.5\")\n",
    "                       \n",
    "    ax.set_xlabel(\"Time Steps\")\n",
    "    ax.set_ylabel(criteria)\n",
    "    ax.set_title(str(criteria) + \" over the locations\", y = 1.1)\n",
    "        \n",
    "legend_without_duplicate_labels(ax)\n",
    "plt.tight_layout()\n",
    "plt.show()"
   ]
  },
  {
   "cell_type": "code",
   "execution_count": null,
   "metadata": {},
   "outputs": [],
   "source": [
    "# # Highest expected annual damage at timestep 0 across locations\n",
    "\n",
    "# fig, axes = plt.subplots(ncols=2, nrows=2, figsize=(8,8),\n",
    "#                         sharex=True)\n",
    "# axes = [axes[0,0],axes[0,1],axes[1,0],axes[1,1]]\n",
    "\n",
    "# n = 3 # Time Steps\n",
    "\n",
    "# for i in range(n):\n",
    "    \n",
    "#     # FIX NEEDED: to use ax.plot otherwise it will only display the last one!\n",
    "#     ax = sum_results[['A.1_Expected Annual Damage ' + str(i),'A.2_Expected Annual Damage ' + str(i), \"A.3_Expected Annual Damage \" + str(i),\n",
    "#             \"A.4_Expected Annual Damage \" + str(i), \"A.5_Expected Annual Damage \" + str(i)]].plot(kind='bar', title =\"Annual Damages per Location\", legend=True)\n",
    "    \n",
    "#     ax.set_xlabel(\"Location\")\n",
    "#     ax.set_ylabel(\"Annual Damages\")\n",
    "\n",
    "\n",
    "# plt.tight_layout()\n",
    "# plt.show()"
   ]
  },
  {
   "cell_type": "code",
   "execution_count": null,
   "metadata": {},
   "outputs": [],
   "source": [
    "for policies in dike_model.outcomes:\n",
    "    print(repr(policies))"
   ]
  },
  {
   "cell_type": "code",
   "execution_count": null,
   "metadata": {},
   "outputs": [],
   "source": [
    "# utilities.experiments_to_scenarios(results[0]) # --> Just playing; this doesn't seem to work."
   ]
  },
  {
   "cell_type": "code",
   "execution_count": null,
   "metadata": {},
   "outputs": [],
   "source": [
    "for policies in dike_model.levers:\n",
    "    print(repr(policies))\n",
    "    \n",
    "levers = copy.deepcopy(dike_model.levers)"
   ]
  },
  {
   "cell_type": "code",
   "execution_count": null,
   "metadata": {},
   "outputs": [],
   "source": [
    "for unc in dike_model.uncertainties:\n",
    "    print(repr(unc))"
   ]
  },
  {
   "cell_type": "code",
   "execution_count": null,
   "metadata": {},
   "outputs": [],
   "source": [
    "dike_model.uncertainties = [CategoricalParameter('discount rate 0', [0, 1, 2, 3], default = 2),\n",
    "                CategoricalParameter('discount rate 1', [0, 1, 2, 3], default = 2),\n",
    "                CategoricalParameter('discount rate 2', [0, 1, 2, 3], default = 2),\n",
    "                IntegerParameter('A.0_ID flood wave shape', 0, 132, default = 50),\n",
    "                RealParameter('A.1_Bmax', 30, 350, default = 200),\n",
    "                RealParameter('A.1_pfail', 0, 1, default = 0.5),\n",
    "                CategoricalParameter('A.1_Brate', [0, 1, 2], default = 1),\n",
    "                RealParameter('A.2_Bmax', 30, 350, default = 200),\n",
    "                RealParameter('A.2_pfail', 0, 1, default = 0.5),\n",
    "                CategoricalParameter('A.2_Brate', [0, 1, 2], default = 1),\n",
    "                RealParameter('A.3_Bmax', 30, 350, default = 200),\n",
    "                RealParameter('A.3_pfail', 0, 1, default = 0.5),\n",
    "                CategoricalParameter('A.3_Brate', [0, 1, 2], default = 1),\n",
    "                RealParameter('A.4_Bmax', 30, 350, default = 200),\n",
    "                RealParameter('A.4_pfail', 0, 1, default = 0.5),\n",
    "                CategoricalParameter('A.4_Brate', [0, 1, 2], default = 1),\n",
    "                RealParameter('A.5_Bmax', 30, 350, default = 200),\n",
    "                RealParameter('A.5_pfail', 0, 1, default = 0.5),\n",
    "                CategoricalParameter('A.5_Brate', [0, 1, 2], default = 1)]"
   ]
  },
  {
   "cell_type": "code",
   "execution_count": null,
   "metadata": {},
   "outputs": [],
   "source": [
    "# for unc in dike_model.uncertainties:\n",
    "#     print(repr(unc))\n",
    "    \n",
    "# uncertainties = copy.deepcopy(dike_model.uncertainties)\n",
    "\n",
    "# for policies in dike_model.levers:\n",
    "#     print(repr(policies))\n",
    "    \n",
    "# levers = copy.deepcopy(dike_model.levers)\n",
    "\n",
    "# for outcome in dike_model.outcomes:\n",
    "#     print(repr(outcome))\n",
    "    \n",
    "# outcomes = copy.deepcopy(dike_model.outcomes)"
   ]
  },
  {
   "cell_type": "code",
   "execution_count": null,
   "metadata": {},
   "outputs": [],
   "source": []
  },
  {
   "cell_type": "code",
   "execution_count": null,
   "metadata": {},
   "outputs": [],
   "source": [
    "# # Save results to save computational time while in dev\n",
    "# import pickle\n",
    "\n",
    "# with open('Outcomes/1000Scenarios10Policies.pkl', 'wb') as f:\n",
    "#     pickle.dump(results, f)"
   ]
  },
  {
   "cell_type": "code",
   "execution_count": null,
   "metadata": {},
   "outputs": [],
   "source": [
    "# Read in results again\n",
    "import pickle\n",
    "\n",
    "with open('Outcomes/1000Scenarios10Policies.pkl', 'rb') as f:\n",
    "    results = pickle.load(f)\n",
    "\n",
    "results = results"
   ]
  },
  {
   "cell_type": "code",
   "execution_count": null,
   "metadata": {},
   "outputs": [],
   "source": [
    "results"
   ]
  },
  {
   "cell_type": "code",
   "execution_count": null,
   "metadata": {},
   "outputs": [],
   "source": [
    "with MultiprocessingEvaluator(dike_model) as evaluator:\n",
    "    results = evaluator.optimize(nfe=5000, searchover=\"levers\", epsilons=[0.1]*len(dike_model.outcomes))"
   ]
  },
  {
   "cell_type": "code",
   "execution_count": null,
   "metadata": {},
   "outputs": [],
   "source": [
    "# Save results to save computational time while in dev\n",
    "import pickle\n",
    "\n",
    "with open('Outcomes/Optimize5000nfe0.1epsilons.pkl', 'wb') as f:\n",
    "    pickle.dump(results, f)"
   ]
  },
  {
   "cell_type": "code",
   "execution_count": null,
   "metadata": {},
   "outputs": [],
   "source": [
    "results.iloc[0, :33]"
   ]
  },
  {
   "cell_type": "code",
   "execution_count": null,
   "metadata": {},
   "outputs": [],
   "source": [
    "results"
   ]
  },
  {
   "cell_type": "code",
   "execution_count": null,
   "metadata": {},
   "outputs": [],
   "source": []
  },
  {
   "cell_type": "code",
   "execution_count": null,
   "metadata": {},
   "outputs": [],
   "source": [
    "# # Save results to save computational time while in dev\n",
    "# import pickle\n",
    "\n",
    "# with open('Outcomes/Experiments200Scen4PolMCSamp.pkl', 'wb') as f:\n",
    "#     pickle.dump(results, f)\n",
    "    \n",
    "# # Read in results again\n",
    "# import pickle\n",
    "\n",
    "# with open('data/Outcomes/Experiments200Scen4PolMCSamp.pkl', 'rb') as f:\n",
    "#     results = pickle.load(f)\n",
    "\n",
    "# experiments, outcomes = results"
   ]
  },
  {
   "cell_type": "code",
   "execution_count": null,
   "metadata": {},
   "outputs": [],
   "source": [
    "# # Trying to change some of the levers / uncertainties to increase computational power\n",
    "\n",
    "# def problem_formulation_actor():\n",
    "   \n",
    "#     # Load the model:\n",
    "#     function = DikeNetwork()\n",
    "#     # workbench model:\n",
    "#     model = Model('dikesnet', function=function)\n",
    "#     # Outcomes are all costs, thus they have to minimized:\n",
    "#     direction = ScalarOutcome.MINIMIZE\n",
    "    \n",
    "#     model.uncertainties = uncertainties\n",
    "#     model.outcomes = outcomes\n",
    "    \n",
    "    \n",
    "#     # Range of dike heightening:\n",
    "#     # CHANGE: Dike increase in steps of 5 decimeters, so the options are 0 (0 dm), 1 (5dm), 2(10dm)\n",
    "#     # self.dh in dike_model_function.py changed to 0.5 -> Reduce computation power.\n",
    "#     # CANCELLED\n",
    "#     dike_lev = {'DikeIncrease': [0, 2]} \n",
    "    \n",
    "#     # Series of five Room for the River projects:\n",
    "#     rfr_lev = ['{}_RfR'.format(project_id) for project_id in range(0, 5)]\n",
    "\n",
    "#     # Time of warning: 0, 1, 2, 3, 4 days ahead from the flood\n",
    "#     EWS_lev = {'EWS_DaysToThreat': [0, 4]}  # days\n",
    "    \n",
    "#     levers = []\n",
    "    \n",
    "#     # RfR levers can be either 0 (not implemented) or 1 (implemented)\n",
    "#     for lev_name in rfr_lev:\n",
    "#         for n in function.planning_steps:\n",
    "#             lev_name_ = '{} {}'.format(lev_name, n)\n",
    "#             levers.append(IntegerParameter(lev_name_, 0, 1))\n",
    "\n",
    "#     # Early Warning System lever\n",
    "#     for lev_name in EWS_lev.keys():\n",
    "#         levers.append(IntegerParameter(lev_name, EWS_lev[lev_name][0],\n",
    "#                                        EWS_lev[lev_name][1]))\n",
    "        \n",
    "#     for dike in function.dikelist:\n",
    "#         # location-related levers in the form: locationName_leversName\n",
    "#         for lev_name in dike_lev.keys():\n",
    "#             for n in function.planning_steps:\n",
    "#                 name = \"{}_{} {}\".format(dike, lev_name, n)\n",
    "#                 levers.append(IntegerParameter(name, dike_lev[lev_name][0],\n",
    "#                                            dike_lev[lev_name][1]))\n",
    "        \n",
    "\n",
    "#     model.levers = levers\n",
    "#     return model\n",
    "\n",
    "\n",
    "# model = problem_formulation_actor()\n",
    "\n",
    "# for policies in model.levers:\n",
    "#     print(repr(policies))"
   ]
  },
  {
   "cell_type": "code",
   "execution_count": null,
   "metadata": {},
   "outputs": [],
   "source": []
  },
  {
   "cell_type": "code",
   "execution_count": null,
   "metadata": {},
   "outputs": [],
   "source": []
  }
 ],
 "metadata": {
  "kernelspec": {
   "display_name": "Python 3",
   "language": "python",
   "name": "python3"
  },
  "language_info": {
   "codemirror_mode": {
    "name": "ipython",
    "version": 3
   },
   "file_extension": ".py",
   "mimetype": "text/x-python",
   "name": "python",
   "nbconvert_exporter": "python",
   "pygments_lexer": "ipython3",
   "version": "3.6.5"
  }
 },
 "nbformat": 4,
 "nbformat_minor": 2
}
