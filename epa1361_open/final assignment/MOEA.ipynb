{
 "cells": [
  {
   "cell_type": "markdown",
   "metadata": {},
   "source": [
    "# Problem Formulation"
   ]
  },
  {
   "cell_type": "code",
   "execution_count": 1,
   "metadata": {},
   "outputs": [],
   "source": [
    "import numpy as np\n",
    "import scipy as sp\n",
    "import pandas as pd\n",
    "import matplotlib.pyplot as plt\n",
    "import seaborn as sns\n",
    "import time\n",
    "import copy"
   ]
  },
  {
   "cell_type": "code",
   "execution_count": 2,
   "metadata": {},
   "outputs": [
    {
     "data": {
      "text/plain": [
       "<Logger EMA (DEBUG)>"
      ]
     },
     "execution_count": 2,
     "metadata": {},
     "output_type": "execute_result"
    }
   ],
   "source": [
    "from ema_workbench import (Model, CategoricalParameter,\n",
    "                           ScalarOutcome, IntegerParameter, RealParameter)\n",
    "\n",
    "from ema_workbench import (Model, MultiprocessingEvaluator, Policy, Scenario, SequentialEvaluator)\n",
    "\n",
    "from ema_workbench.em_framework.evaluators import perform_experiments, optimize\n",
    "from ema_workbench.em_framework.samplers import sample_uncertainties\n",
    "from ema_workbench.util import ema_logging\n",
    "\n",
    "ema_logging.log_to_stderr(ema_logging.INFO)"
   ]
  },
  {
   "cell_type": "code",
   "execution_count": 3,
   "metadata": {},
   "outputs": [
    {
     "name": "stderr",
     "output_type": "stream",
     "text": [
      "/usr/local/Cellar/python/3.7.3/Frameworks/Python.framework/Versions/3.7/lib/python3.7/importlib/_bootstrap.py:219: ImportWarning: can't resolve package from __spec__ or __package__, falling back on __name__ and __path__\n",
      "  return f(*args, **kwds)\n"
     ]
    }
   ],
   "source": [
    "from dike_model_function import DikeNetwork  # @UnresolvedImport\n",
    "from problem_formulation import get_model_for_problem_formulation"
   ]
  },
  {
   "cell_type": "code",
   "execution_count": 20,
   "metadata": {},
   "outputs": [],
   "source": [
    "dike_model, planning_steps = get_model_for_problem_formulation(5)"
   ]
  },
  {
   "cell_type": "code",
   "execution_count": 33,
   "metadata": {},
   "outputs": [
    {
     "name": "stderr",
     "output_type": "stream",
     "text": [
      "[MainProcess/INFO] pool started\n",
      "[MainProcess/INFO] performing 200 scenarios * 50 policies * 1 model(s) = 10000 experiments\n",
      "[MainProcess/INFO] 1000 cases completed\n",
      "[MainProcess/INFO] 2000 cases completed\n",
      "[MainProcess/INFO] 3000 cases completed\n",
      "[MainProcess/INFO] 4000 cases completed\n",
      "[MainProcess/INFO] 5000 cases completed\n",
      "[MainProcess/INFO] 6000 cases completed\n",
      "[MainProcess/INFO] 7000 cases completed\n",
      "[MainProcess/INFO] 8000 cases completed\n",
      "[MainProcess/INFO] 9000 cases completed\n",
      "[MainProcess/INFO] 10000 cases completed\n",
      "[MainProcess/INFO] experiments finished\n",
      "[MainProcess/INFO] terminating pool\n"
     ]
    },
    {
     "name": "stdout",
     "output_type": "stream",
     "text": [
      "Total run time:69.28702311913172 min\n"
     ]
    }
   ],
   "source": [
    "start = time.time()\n",
    "with MultiprocessingEvaluator(dike_model) as evaluator:\n",
    "    results = evaluator.perform_experiments(scenarios=200, policies=50)\n",
    "    \n",
    "end = time.time()\n",
    "\n",
    "print('Total run time:{} min'.format((end - start)/60))"
   ]
  },
  {
   "cell_type": "code",
   "execution_count": 47,
   "metadata": {},
   "outputs": [],
   "source": [
    "# Write results to file again\n",
    "import pickle\n",
    "\n",
    "with open('Outcomes/200Scenarios50Policies.pkl', 'wb') as f:\n",
    "    pickle.dump(results, f)"
   ]
  },
  {
   "cell_type": "code",
   "execution_count": 48,
   "metadata": {},
   "outputs": [],
   "source": [
    "# Read in results again\n",
    "import pickle\n",
    "\n",
    "with open('Outcomes/200Scenarios50Policies.pkl', 'rb') as f:\n",
    "    results = pickle.load(f)"
   ]
  },
  {
   "cell_type": "code",
   "execution_count": 49,
   "metadata": {},
   "outputs": [
    {
     "name": "stderr",
     "output_type": "stream",
     "text": [
      "[MainProcess/INFO] results saved successfully to /Users/jrwang/Documents/Coding/Model-based-decision-making/epa1361_open/final assignment/Outcomes/200Scenarios50Policies.csv\n"
     ]
    }
   ],
   "source": [
    "# Do the same thing but Jan's way (slower)\n",
    "from ema_workbench.util import utilities\n",
    "\n",
    "utilities.save_results(results, 'Outcomes/200Scenarios50Policies.csv')"
   ]
  },
  {
   "cell_type": "code",
   "execution_count": 50,
   "metadata": {},
   "outputs": [
    {
     "name": "stderr",
     "output_type": "stream",
     "text": [
      "[MainProcess/INFO] results loaded succesfully from /Users/jrwang/Documents/Coding/Model-based-decision-making/epa1361_open/final assignment/Outcomes/200Scenarios50Policies.csv\n"
     ]
    }
   ],
   "source": [
    "results = utilities.load_results('Outcomes/200Scenarios50Policies.csv')"
   ]
  },
  {
   "cell_type": "code",
   "execution_count": 44,
   "metadata": {},
   "outputs": [],
   "source": [
    "# utilities.experiments_to_scenarios(results[0]) # --> Just playing; this doesn't seem to work."
   ]
  },
  {
   "cell_type": "code",
   "execution_count": null,
   "metadata": {},
   "outputs": [],
   "source": [
    "for policies in dike_model.levers:\n",
    "    print(repr(policies))\n",
    "    \n",
    "levers = copy.deepcopy(dike_model.levers)"
   ]
  },
  {
   "cell_type": "code",
   "execution_count": null,
   "metadata": {},
   "outputs": [],
   "source": [
    "for unc in dike_model.uncertainties:\n",
    "    print(repr(unc))"
   ]
  },
  {
   "cell_type": "code",
   "execution_count": null,
   "metadata": {},
   "outputs": [],
   "source": [
    "dike_model.uncertainties = [CategoricalParameter('discount rate 0', [0, 1, 2, 3], default = 2),\n",
    "                CategoricalParameter('discount rate 1', [0, 1, 2, 3], default = 2),\n",
    "                CategoricalParameter('discount rate 2', [0, 1, 2, 3], default = 2),\n",
    "                IntegerParameter('A.0_ID flood wave shape', 0, 132, default = 50),\n",
    "                RealParameter('A.1_Bmax', 30, 350, default = 200),\n",
    "                RealParameter('A.1_pfail', 0, 1, default = 0.5),\n",
    "                CategoricalParameter('A.1_Brate', [0, 1, 2], default = 1),\n",
    "                RealParameter('A.2_Bmax', 30, 350, default = 200),\n",
    "                RealParameter('A.2_pfail', 0, 1, default = 0.5),\n",
    "                CategoricalParameter('A.2_Brate', [0, 1, 2], default = 1),\n",
    "                RealParameter('A.3_Bmax', 30, 350, default = 200),\n",
    "                RealParameter('A.3_pfail', 0, 1, default = 0.5),\n",
    "                CategoricalParameter('A.3_Brate', [0, 1, 2], default = 1),\n",
    "                RealParameter('A.4_Bmax', 30, 350, default = 200),\n",
    "                RealParameter('A.4_pfail', 0, 1, default = 0.5),\n",
    "                CategoricalParameter('A.4_Brate', [0, 1, 2], default = 1),\n",
    "                RealParameter('A.5_Bmax', 30, 350, default = 200),\n",
    "                RealParameter('A.5_pfail', 0, 1, default = 0.5),\n",
    "                CategoricalParameter('A.5_Brate', [0, 1, 2], default = 1)]"
   ]
  },
  {
   "cell_type": "code",
   "execution_count": null,
   "metadata": {},
   "outputs": [],
   "source": [
    "# for unc in dike_model.uncertainties:\n",
    "#     print(repr(unc))\n",
    "    \n",
    "# uncertainties = copy.deepcopy(dike_model.uncertainties)\n",
    "\n",
    "# for policies in dike_model.levers:\n",
    "#     print(repr(policies))\n",
    "    \n",
    "# levers = copy.deepcopy(dike_model.levers)\n",
    "\n",
    "# for outcome in dike_model.outcomes:\n",
    "#     print(repr(outcome))\n",
    "    \n",
    "# outcomes = copy.deepcopy(dike_model.outcomes)"
   ]
  },
  {
   "cell_type": "code",
   "execution_count": null,
   "metadata": {},
   "outputs": [],
   "source": []
  },
  {
   "cell_type": "code",
   "execution_count": null,
   "metadata": {},
   "outputs": [],
   "source": [
    "# # Save results to save computational time while in dev\n",
    "# import pickle\n",
    "\n",
    "# with open('Outcomes/1000Scenarios10Policies.pkl', 'wb') as f:\n",
    "#     pickle.dump(results, f)"
   ]
  },
  {
   "cell_type": "code",
   "execution_count": null,
   "metadata": {},
   "outputs": [],
   "source": [
    "# Read in results again\n",
    "import pickle\n",
    "\n",
    "with open('Outcomes/1000Scenarios10Policies.pkl', 'rb') as f:\n",
    "    results = pickle.load(f)\n",
    "\n",
    "results = results"
   ]
  },
  {
   "cell_type": "code",
   "execution_count": null,
   "metadata": {},
   "outputs": [],
   "source": [
    "results"
   ]
  },
  {
   "cell_type": "code",
   "execution_count": null,
   "metadata": {},
   "outputs": [],
   "source": [
    "with MultiprocessingEvaluator(dike_model) as evaluator:\n",
    "    results = evaluator.optimize(nfe=5000, searchover=\"levers\", epsilons=[0.1]*len(dike_model.outcomes))"
   ]
  },
  {
   "cell_type": "code",
   "execution_count": null,
   "metadata": {},
   "outputs": [],
   "source": [
    "# Save results to save computational time while in dev\n",
    "import pickle\n",
    "\n",
    "with open('Outcomes/Optimize5000nfe0.1epsilons.pkl', 'wb') as f:\n",
    "    pickle.dump(results, f)"
   ]
  },
  {
   "cell_type": "code",
   "execution_count": null,
   "metadata": {},
   "outputs": [],
   "source": [
    "results.iloc[0, :33]"
   ]
  },
  {
   "cell_type": "code",
   "execution_count": null,
   "metadata": {},
   "outputs": [],
   "source": [
    "results"
   ]
  },
  {
   "cell_type": "code",
   "execution_count": null,
   "metadata": {},
   "outputs": [],
   "source": []
  },
  {
   "cell_type": "code",
   "execution_count": null,
   "metadata": {},
   "outputs": [],
   "source": [
    "# # Save results to save computational time while in dev\n",
    "# import pickle\n",
    "\n",
    "# with open('Outcomes/Experiments200Scen4PolMCSamp.pkl', 'wb') as f:\n",
    "#     pickle.dump(results, f)\n",
    "    \n",
    "# # Read in results again\n",
    "# import pickle\n",
    "\n",
    "# with open('data/Outcomes/Experiments200Scen4PolMCSamp.pkl', 'rb') as f:\n",
    "#     results = pickle.load(f)\n",
    "\n",
    "# experiments, outcomes = results"
   ]
  },
  {
   "cell_type": "code",
   "execution_count": null,
   "metadata": {},
   "outputs": [],
   "source": [
    "# # Trying to change some of the levers / uncertainties to increase computational power\n",
    "\n",
    "# def problem_formulation_actor():\n",
    "   \n",
    "#     # Load the model:\n",
    "#     function = DikeNetwork()\n",
    "#     # workbench model:\n",
    "#     model = Model('dikesnet', function=function)\n",
    "#     # Outcomes are all costs, thus they have to minimized:\n",
    "#     direction = ScalarOutcome.MINIMIZE\n",
    "    \n",
    "#     model.uncertainties = uncertainties\n",
    "#     model.outcomes = outcomes\n",
    "    \n",
    "    \n",
    "#     # Range of dike heightening:\n",
    "#     # CHANGE: Dike increase in steps of 5 decimeters, so the options are 0 (0 dm), 1 (5dm), 2(10dm)\n",
    "#     # self.dh in dike_model_function.py changed to 0.5 -> Reduce computation power.\n",
    "#     # CANCELLED\n",
    "#     dike_lev = {'DikeIncrease': [0, 2]} \n",
    "    \n",
    "#     # Series of five Room for the River projects:\n",
    "#     rfr_lev = ['{}_RfR'.format(project_id) for project_id in range(0, 5)]\n",
    "\n",
    "#     # Time of warning: 0, 1, 2, 3, 4 days ahead from the flood\n",
    "#     EWS_lev = {'EWS_DaysToThreat': [0, 4]}  # days\n",
    "    \n",
    "#     levers = []\n",
    "    \n",
    "#     # RfR levers can be either 0 (not implemented) or 1 (implemented)\n",
    "#     for lev_name in rfr_lev:\n",
    "#         for n in function.planning_steps:\n",
    "#             lev_name_ = '{} {}'.format(lev_name, n)\n",
    "#             levers.append(IntegerParameter(lev_name_, 0, 1))\n",
    "\n",
    "#     # Early Warning System lever\n",
    "#     for lev_name in EWS_lev.keys():\n",
    "#         levers.append(IntegerParameter(lev_name, EWS_lev[lev_name][0],\n",
    "#                                        EWS_lev[lev_name][1]))\n",
    "        \n",
    "#     for dike in function.dikelist:\n",
    "#         # location-related levers in the form: locationName_leversName\n",
    "#         for lev_name in dike_lev.keys():\n",
    "#             for n in function.planning_steps:\n",
    "#                 name = \"{}_{} {}\".format(dike, lev_name, n)\n",
    "#                 levers.append(IntegerParameter(name, dike_lev[lev_name][0],\n",
    "#                                            dike_lev[lev_name][1]))\n",
    "        \n",
    "\n",
    "#     model.levers = levers\n",
    "#     return model\n",
    "\n",
    "\n",
    "# model = problem_formulation_actor()\n",
    "\n",
    "# for policies in model.levers:\n",
    "#     print(repr(policies))"
   ]
  },
  {
   "cell_type": "code",
   "execution_count": null,
   "metadata": {},
   "outputs": [],
   "source": []
  },
  {
   "cell_type": "code",
   "execution_count": null,
   "metadata": {},
   "outputs": [],
   "source": []
  }
 ],
 "metadata": {
  "kernelspec": {
   "display_name": "Python 3",
   "language": "python",
   "name": "python3"
  },
  "language_info": {
   "codemirror_mode": {
    "name": "ipython",
    "version": 3
   },
   "file_extension": ".py",
   "mimetype": "text/x-python",
   "name": "python",
   "nbconvert_exporter": "python",
   "pygments_lexer": "ipython3",
   "version": "3.7.3"
  }
 },
 "nbformat": 4,
 "nbformat_minor": 2
}
