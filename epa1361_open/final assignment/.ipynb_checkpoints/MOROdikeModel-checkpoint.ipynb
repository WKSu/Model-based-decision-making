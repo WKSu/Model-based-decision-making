{
 "cells": [
  {
   "cell_type": "code",
   "execution_count": 1,
   "metadata": {},
   "outputs": [
    {
     "name": "stderr",
     "output_type": "stream",
     "text": [
      "C:\\Anaconda3\\lib\\importlib\\_bootstrap.py:219: ImportWarning: can't resolve package from __spec__ or __package__, falling back on __name__ and __path__\n",
      "  return f(*args, **kwds)\n"
     ]
    },
    {
     "data": {
      "text/plain": [
       "<Logger EMA (DEBUG)>"
      ]
     },
     "execution_count": 1,
     "metadata": {},
     "output_type": "execute_result"
    }
   ],
   "source": [
    "import pandas as pd\n",
    "import numpy as np\n",
    "import matplotlib.pyplot as plt\n",
    "import seaborn as sns\n",
    "import platypus\n",
    "from ema_workbench import (Model, CategoricalParameter,\n",
    "                           ScalarOutcome, IntegerParameter, RealParameter)\n",
    "\n",
    "from dike_model_function import *\n",
    "\n",
    "from dike_model_optimization import *\n",
    "from problem_formulation import *\n",
    "import time\n",
    "from ema_workbench import Policy, perform_experiments, Scenario\n",
    "from ema_workbench import ema_logging\n",
    "from ema_workbench import MultiprocessingEvaluator\n",
    "from ema_workbench.em_framework.optimization import (HyperVolume, \n",
    "                                                     EpsilonProgress)\n",
    "\n",
    "from analysis import *\n",
    "from ema_workbench import ema_logging\n",
    "from ema_workbench.analysis import prim\n",
    "ema_logging.log_to_stderr(ema_logging.INFO)\n"
   ]
  },
  {
   "cell_type": "code",
   "execution_count": 2,
   "metadata": {},
   "outputs": [],
   "source": [
    "import functools\n",
    "\n",
    "def robustness(direction, threshold, data):\n",
    "    if direction == SMALLER:\n",
    "        return np.sum(data<=threshold)/data.shape[0]\n",
    "    else:\n",
    "        return np.sum(data>=threshold)/data.shape[0]\n",
    "\n",
    "SMALLER = 'SMALLER'\n",
    "LARGER = 'LARGER'\n",
    "\n",
    "ExpectedNumberofDeaths = functools.partial(robustness, SMALLER, 0.001)\n",
    "ExpectedAnnualDamage = functools.partial(robustness, SMALLER, 100000)\n",
    "#TotalDikeInvestmentCosts = functools.partial(robustness, SMALLER, 1200000000)\n",
    "ExpectedEvacuationCosts = functools.partial(robustness, SMALLER, 1000000)\n",
    "#RfRTotalCosts = functools.partial(robustness, SMALLER, 1200000000)\n",
    "TotalConstructionCosts = functools.partial(robustness, SMALLER, 2300000000)"
   ]
  },
  {
   "cell_type": "code",
   "execution_count": 3,
   "metadata": {},
   "outputs": [
    {
     "name": "stderr",
     "output_type": "stream",
     "text": [
      "[MainProcess/INFO] model initialized\n"
     ]
    }
   ],
   "source": [
    "function = DikeNetwork()\n",
    "# workbench model:\n",
    "dike_model = Model('dikesnet', function=function)\n",
    "\n",
    "# Uncertainties and Levers:\n",
    "# Specify uncertainties range:\n",
    "Real_uncert = {'Bmax': [30, 350], 'pfail': [0, 1]}  # m and [.]\n",
    "# breach growth rate [m/day]\n",
    "cat_uncert_loc = {'Brate': (0.9, 1.5, 1000)}\n",
    "\n",
    "cat_uncert = {'discount rate': (1.5, 2.5, 3.5, 4.5)}\n",
    "Int_uncert = {'A.0_ID flood wave shape': [0, 132]}\n",
    "\n",
    "# Range of dike heightening:\n",
    "dike_lev = {'DikeIncrease': [0,10]}     # dm\n",
    "\n",
    "# Series of five Room for the River projects:\n",
    "rfr_lev = ['{}_RfR'.format(project_id) for project_id in range(0, 5)]\n",
    "\n",
    "# Time of warning: 0, 1, 2, 3, 4 days ahead from the flood\n",
    "EWS_lev = {'EWS_DaysToThreat': [0, 3]}  # days\n",
    "\n",
    "uncertainties = []\n",
    "levers = []\n",
    "\n",
    "for dike in function.dikelist:\n",
    "    # uncertainties in the form: locationName_uncertaintyName\n",
    "    for uncert_name in Real_uncert.keys():\n",
    "        name = \"{}_{}\".format(dike, uncert_name)\n",
    "        lower, upper = Real_uncert[uncert_name]\n",
    "        uncertainties.append(RealParameter(name, lower, upper))\n",
    "\n",
    "    for uncert_name in cat_uncert_loc.keys():\n",
    "        name = \"{}_{}\".format(dike, uncert_name)\n",
    "        categories = cat_uncert_loc[uncert_name]\n",
    "        uncertainties.append(CategoricalParameter(name, categories))\n",
    "\n",
    "    # location-related levers in the form: locationName_leversName\n",
    "    for lev_name in dike_lev.keys():\n",
    "        name = \"{}_{}\".format(dike, lev_name)\n",
    "        levers.append(IntegerParameter(name, dike_lev[lev_name][0],\n",
    "                                       dike_lev[lev_name][1]))\n",
    "\n",
    "for uncert_name in cat_uncert.keys():\n",
    "    categories = cat_uncert[uncert_name]\n",
    "    uncertainties.append(CategoricalParameter(uncert_name, categories))\n",
    "\n",
    "# project-related levers can be either 0 (not implemented) or 1\n",
    "# (implemented)\n",
    "for uncert_name in Int_uncert.keys():\n",
    "    uncertainties.append(IntegerParameter(uncert_name, Int_uncert[uncert_name][0],\n",
    "                                          Int_uncert[uncert_name][1]))\n",
    "    \n",
    "# RfR levers can be either 0 (not implemented) or 1 (implemented)\n",
    "for lev_name in rfr_lev:\n",
    "    levers.append(IntegerParameter(lev_name, 0, 1))\n",
    "\n",
    "# Early Warning System lever\n",
    "for lev_name in EWS_lev.keys():\n",
    "    levers.append(IntegerParameter(lev_name, EWS_lev[lev_name][0],\n",
    "                                   EWS_lev[lev_name][1]))\n",
    "\n",
    "# load uncertainties and levers in dike_model:\n",
    "dike_model.uncertainties = uncertainties\n",
    "dike_model.levers = levers\n",
    "\n",
    "# Problem formulations:\n",
    "# Outcomes are all costs, thus they have to minimized:\n",
    "direction = ScalarOutcome.MINIMIZE\n",
    "\n",
    "# 7 Objectives\n",
    "dikes_variable_names = []\n",
    "dikes_variable_names.extend(['{}_{}'.format(dike, e) for e in ['Expected Annual Damage', 'Dike Investment Costs']])\n",
    "dikes_variable_names.extend(['RfR Total Costs'])\n",
    "dikes_variable_names.extend(['Expected Evacuation Costs'])\n",
    "        \n",
    "dike_model.outcomes = [\n",
    "                        ScalarOutcome('Expected Number of Deaths',\n",
    "                                      variable_name=['{}_Expected Number of Deaths'.format(dike)\n",
    "                                                     for dike in function.dikelist],\n",
    "                                      function=sum_over, kind=direction),\n",
    "    \n",
    "                        ScalarOutcome('Expected Annual Damage',\n",
    "                                      variable_name=['{}_Expected Annual Damage'.format(dike)\n",
    "                                                     for dike in function.dikelist],\n",
    "                                      function=sum_over, kind=direction),\n",
    "\n",
    "#                         ScalarOutcome('Total Dike Investment Costs',\n",
    "#                                       variable_name=['{}_Dike Investment Costs'.format(dike)\n",
    "#                                                      for dike in function.dikelist],\n",
    "#                                       function=sum_over, kind=direction),\n",
    "\n",
    "                        ScalarOutcome('Expected Evacuation Costs',  kind=direction),\n",
    "\n",
    "#                         ScalarOutcome('RfR Total Costs', kind=direction),\n",
    "    \n",
    "                        ScalarOutcome('Total Construction Costs', \n",
    "                                        variable_name=['{}_Dike Investment Costs'.format(dike) \n",
    "                                         for dike in function.dikelist] + ['RfR Total Costs'\n",
    "                                             ] + ['Expected Evacuation Costs'],\n",
    "                                        function=sum_over, kind=direction)]\n",
    "                        \n",
    "#                         ScalarOutcome('All Costs',\n",
    "#                                        variable_name=[var for var in dikes_variable_names], \n",
    "#                                        function=sum_over, kind=direction)]\n",
    "\n",
    "# # 17 Objectives\n",
    "# outcomes = []\n",
    "\n",
    "# for dike in function.dikelist:\n",
    "#     for entry in ['Expected Annual Damage', 'Dike Investment Costs',\n",
    "#                   'Expected Number of Deaths']:\n",
    "#         o = ScalarOutcome('{}_{}'.format(dike, entry), kind=direction)\n",
    "#         outcomes.append(o)\n",
    "\n",
    "# outcomes.append(ScalarOutcome('RfR Total Costs', kind=direction))\n",
    "# outcomes.append(ScalarOutcome('Expected Evacuation Costs', kind=direction))\n",
    "        \n",
    "# dike_model.outcomes = outcomes"
   ]
  },
  {
   "cell_type": "code",
   "execution_count": null,
   "metadata": {},
   "outputs": [],
   "source": [
    "from ema_workbench import ema_logging, MultiprocessingEvaluator\n",
    "\n",
    "ema_logging.log_to_stderr(ema_logging.INFO)\n",
    "\n",
    "with MultiprocessingEvaluator(dike_model) as evaluator:\n",
    "    results = evaluator.perform_experiments(scenarios=500,\n",
    "                                            policies=3,\n",
    "                                            uncertainty_sampling='mc')"
   ]
  },
  {
   "cell_type": "code",
   "execution_count": null,
   "metadata": {},
   "outputs": [],
   "source": [
    "#results\n",
    "df_results = pd.DataFrame.from_dict(results[1])\n",
    "df_results.head()\n",
    "df_results2 = pd.DataFrame.from_dict(results[0])\n",
    "#df_results2.policy"
   ]
  },
  {
   "cell_type": "code",
   "execution_count": null,
   "metadata": {},
   "outputs": [],
   "source": [
    "#outcomes"
   ]
  },
  {
   "cell_type": "code",
   "execution_count": null,
   "metadata": {},
   "outputs": [],
   "source": [
    "fig, axes = plt.subplots(ncols=3, nrows=2, figsize=(12,12),\n",
    "                        sharex=True)\n",
    "axes = [axes[0,0],axes[0,1],axes[1,0],axes[1,1],axes[1,2],axes[0,2]]\n",
    "\n",
    "robustness_funcs = {\"Expected Number of Deaths\": ExpectedNumberofDeaths,\n",
    "                    \"Expected Annual Damage\": ExpectedAnnualDamage,\n",
    "#                     \"Total Dike Investment Costs\": TotalDikeInvestmentCosts,\n",
    "                    \"Expected Evacuation Costs\": ExpectedEvacuationCosts,\n",
    "#                     \"RfR Total Costs\": RfRTotalCosts,\n",
    "                    \"Total Construction Costs\": TotalConstructionCosts}\n",
    "\n",
    "experiments, outcomes = results\n",
    "\n",
    "for ax, (outcome, value) in zip(axes, outcomes.items()):\n",
    "    for policy in np.unique(experiments['policy']):\n",
    "        logical = experiments['policy'] == policy\n",
    "        data = value[logical]\n",
    "        \n",
    "        robustness = []\n",
    "        # data.shape should be (500,), given n_scenarios=500\n",
    "        for i in range(1, data.shape[0]):\n",
    "            robustness.append(robustness_funcs[outcome](data[0:i]))\n",
    "        ax.plot(robustness, label=policy)\n",
    "    ax.set_xlabel(\"# experiments\")\n",
    "    ax.set_ylabel(outcome)\n",
    "    \n",
    "plt.show()"
   ]
  },
  {
   "cell_type": "code",
   "execution_count": 4,
   "metadata": {},
   "outputs": [],
   "source": [
    "from ema_workbench.em_framework import sample_uncertainties\n",
    "n_scenarios = 5\n",
    "scenarios = sample_uncertainties(dike_model, n_scenarios)\n",
    "nfe = int(1000)"
   ]
  },
  {
   "cell_type": "code",
   "execution_count": 5,
   "metadata": {},
   "outputs": [],
   "source": [
    "# sample_uncertainties??"
   ]
  },
  {
   "cell_type": "code",
   "execution_count": 6,
   "metadata": {},
   "outputs": [],
   "source": [
    "MAXIMIZE = ScalarOutcome.MAXIMIZE\n",
    "MINIMIZE = ScalarOutcome.MINIMIZE\n",
    "\n",
    "robustnes_functions = [ScalarOutcome('fraction Expected Number of Deaths', kind=MAXIMIZE, \n",
    "                             variable_name='Expected Number of Deaths', function=ExpectedNumberofDeaths),\n",
    "                       ScalarOutcome('fraction Expected Annual Damage', kind=MAXIMIZE, \n",
    "                             variable_name='Expected Annual Damage', function=ExpectedAnnualDamage),\n",
    "#                        ScalarOutcome('fraction Total Dike Investment Costs', kind=MAXIMIZE, \n",
    "#                              variable_name='Total Dike Investment Costs', function=TotalDikeInvestmentCosts),\n",
    "                       ScalarOutcome('fraction Expected Evacuation Costs', kind=MAXIMIZE, \n",
    "                             variable_name='Expected Evacuation Costs', function=ExpectedEvacuationCosts),\n",
    "#                        ScalarOutcome('fraction RfR Total Costs', kind=MAXIMIZE, \n",
    "#                              variable_name='RfR Total Costs', function=RfRTotalCosts),\n",
    "                       ScalarOutcome('fraction TotalConstructionCosts', kind=MAXIMIZE, \n",
    "                             variable_name='Total Construction Costs', function=TotalConstructionCosts)]"
   ]
  },
  {
   "cell_type": "code",
   "execution_count": 7,
   "metadata": {
    "scrolled": false
   },
   "outputs": [
    {
     "name": "stderr",
     "output_type": "stream",
     "text": [
      "[MainProcess/INFO] pool started\n",
      "[MainProcess/INFO] generation 0: 0/1000 nfe\n",
      "[MainProcess/INFO] performing 5 scenarios * 100 policies * 1 model(s) = 500 experiments\n",
      "[MainProcess/INFO] experiments finished\n",
      "[MainProcess/INFO] generation 1: 100/1000 nfe\n",
      "[MainProcess/INFO] performing 5 scenarios * 99 policies * 1 model(s) = 495 experiments\n",
      "[MainProcess/INFO] experiments finished\n",
      "[MainProcess/INFO] generation 2: 199/1000 nfe\n",
      "[MainProcess/INFO] performing 5 scenarios * 99 policies * 1 model(s) = 495 experiments\n",
      "[MainProcess/INFO] experiments finished\n",
      "[MainProcess/INFO] generation 3: 298/1000 nfe\n",
      "[MainProcess/INFO] performing 5 scenarios * 100 policies * 1 model(s) = 500 experiments\n",
      "[MainProcess/INFO] experiments finished\n",
      "[MainProcess/INFO] generation 4: 398/1000 nfe\n",
      "[MainProcess/INFO] performing 5 scenarios * 100 policies * 1 model(s) = 500 experiments\n",
      "[MainProcess/INFO] experiments finished\n",
      "[MainProcess/INFO] generation 5: 498/1000 nfe\n",
      "[MainProcess/INFO] performing 5 scenarios * 99 policies * 1 model(s) = 495 experiments\n",
      "[MainProcess/INFO] experiments finished\n",
      "[MainProcess/INFO] generation 6: 597/1000 nfe\n",
      "[MainProcess/INFO] performing 5 scenarios * 100 policies * 1 model(s) = 500 experiments\n",
      "[MainProcess/INFO] experiments finished\n",
      "[MainProcess/INFO] generation 7: 697/1000 nfe\n",
      "[MainProcess/INFO] performing 5 scenarios * 100 policies * 1 model(s) = 500 experiments\n",
      "[MainProcess/INFO] experiments finished\n",
      "[MainProcess/INFO] generation 8: 797/1000 nfe\n",
      "[MainProcess/INFO] performing 5 scenarios * 99 policies * 1 model(s) = 495 experiments\n",
      "[MainProcess/INFO] experiments finished\n",
      "[MainProcess/INFO] generation 9: 896/1000 nfe\n",
      "[MainProcess/INFO] performing 5 scenarios * 99 policies * 1 model(s) = 495 experiments\n",
      "[MainProcess/INFO] experiments finished\n",
      "[MainProcess/INFO] generation 10: 995/1000 nfe\n",
      "[MainProcess/INFO] performing 5 scenarios * 100 policies * 1 model(s) = 500 experiments\n",
      "[MainProcess/INFO] experiments finished\n",
      "[MainProcess/INFO] optimization completed, found 1 solutions\n",
      "[MainProcess/INFO] terminating pool\n"
     ]
    },
    {
     "name": "stdout",
     "output_type": "stream",
     "text": [
      "Processing time : 67.41042474110921 Minutes\n"
     ]
    }
   ],
   "source": [
    "from ema_workbench import (MultiprocessingEvaluator, ema_logging, \n",
    "                           perform_experiments, SequentialEvaluator)\n",
    "from ema_workbench.em_framework.optimization import HyperVolume\n",
    "from ema_workbench.em_framework.optimization import EpsilonProgress\n",
    "from ema_workbench.em_framework.evaluators import BaseEvaluator\n",
    "\n",
    "# requires master branch of workbench\n",
    "# enables us to avoid logging to many intermediate results\n",
    "# can be ignored without invalidating results\n",
    "BaseEvaluator.reporting_frequency = 0.1\n",
    "\n",
    "ema_logging.log_to_stderr(ema_logging.INFO)\n",
    "\n",
    "convergence = [HyperVolume(minimum=[0,0,0,0], maximum=[1, 1, 1, 1]),\n",
    "               EpsilonProgress()]\n",
    "epsilonlist = [0.01, 0.1, 0.1, 0.1, 0.1]\n",
    "\n",
    "start = time.time()\n",
    "\n",
    "with MultiprocessingEvaluator(dike_model) as evaluator:\n",
    "    archive, convergence = evaluator.robust_optimize(robustnes_functions, scenarios, \n",
    "                                               nfe=nfe, convergence=convergence,\n",
    "                                               epsilons=epsilonlist*len(robustnes_functions))\n",
    "end = time.time()\n",
    "print('Processing time :',(end - start)/60, 'Minutes')"
   ]
  },
  {
   "cell_type": "code",
   "execution_count": 8,
   "metadata": {},
   "outputs": [
    {
     "data": {
      "image/png": "[encoded data removed]",
      "text/plain": [
       "<matplotlib.figure.Figure at 0xedf6510>"
      ]
     },
     "metadata": {},
     "output_type": "display_data"
    }
   ],
   "source": [
    "fig, (ax1, ax2) = plt.subplots(ncols=2, sharex=True, figsize=(8,4))\n",
    "ax1.plot(convergence.nfe, convergence.epsilon_progress)\n",
    "ax1.set_ylabel('$\\epsilon$-progress')\n",
    "ax2.plot(convergence.nfe, convergence.hypervolume)\n",
    "ax2.set_ylabel('hypervolume')\n",
    "\n",
    "ax1.set_xlabel('number of function evaluations')\n",
    "ax2.set_xlabel('number of function evaluations')\n",
    "plt.show()"
   ]
  },
  {
   "cell_type": "code",
   "execution_count": 9,
   "metadata": {},
   "outputs": [
    {
     "name": "stderr",
     "output_type": "stream",
     "text": [
      "C:\\Anaconda3\\lib\\importlib\\_bootstrap.py:219: ImportWarning: can't resolve package from __spec__ or __package__, falling back on __name__ and __path__\n",
      "  return f(*args, **kwds)\n",
      "C:\\Anaconda3\\lib\\importlib\\_bootstrap.py:219: ImportWarning: can't resolve package from __spec__ or __package__, falling back on __name__ and __path__\n",
      "  return f(*args, **kwds)\n"
     ]
    },
    {
     "data": {
      "image/png": "[encoded data removed]",
      "text/plain": [
       "<matplotlib.figure.Figure at 0x9e8f70>"
      ]
     },
     "metadata": {},
     "output_type": "display_data"
    }
   ],
   "source": [
    "from ema_workbench.analysis import parcoords\n",
    "\n",
    "data = archive.loc[:, [o.name for o in robustnes_functions]]\n",
    "limits = parcoords.get_limits(data)\n",
    "limits.loc[0, :] = 0\n",
    "limits.loc[1, :] = 1\n",
    "\n",
    "paraxes = parcoords.ParallelAxes(limits)\n",
    "paraxes.plot(data)\n",
    "plt.show()"
   ]
  },
  {
   "cell_type": "code",
   "execution_count": null,
   "metadata": {},
   "outputs": [],
   "source": [
    "from ema_workbench import Policy\n",
    "\n",
    "policies = archive.drop([o.name for o in robustnes_functions], axis=1)\n",
    "policies_to_evaluate = []\n",
    "\n",
    "for i, policy in policies.iterrows():\n",
    "    policies_to_evaluate.append(Policy(\"moro {}\".format(i), **policy.to_dict()))"
   ]
  },
  {
   "cell_type": "code",
   "execution_count": null,
   "metadata": {},
   "outputs": [],
   "source": [
    "n_scenarios = 1000\n",
    "with MultiprocessingEvaluator(dike_model) as evaluator:\n",
    "    re_evaluation_results = evaluator.perform_experiments(n_scenarios,\n",
    "                                            policies_to_evaluate)"
   ]
  },
  {
   "cell_type": "code",
   "execution_count": null,
   "metadata": {},
   "outputs": [],
   "source": [
    "#experiments, outcomes = re_evaluation_results\n",
    "experiments, outcomes = results\n",
    "\n",
    "overall_robustness = {}\n",
    "for policy in np.unique(experiments['policy']):\n",
    "    policy_robustness = {}\n",
    "\n",
    "    logical = experiments['policy'] == policy\n",
    "    \n",
    "    for outcome, values in outcomes.items():\n",
    "        values = values[logical]\n",
    "        policy_robustness[outcome] = robustness_funcs[outcome](values)\n",
    "    overall_robustness[policy] = policy_robustness\n",
    "overall_robustness = pd.DataFrame.from_dict(overall_robustness).T\n",
    "overall_robustness"
   ]
  },
  {
   "cell_type": "code",
   "execution_count": null,
   "metadata": {},
   "outputs": [],
   "source": [
    "import seaborn as sns\n",
    "# we pass the column labels explicitly to ensure the same order\n",
    "# as in the previous plot\n",
    "\n",
    "#mordm_policies = ['mordm 1', 'mordm 3', 'mordm 5', 'mordm 8']\n",
    "moro_policies = ['moro 0'] #'moro 10', 'moro 11', 'moro 2', 'moro 3', \n",
    "                 #'moro 4', 'moro 5', 'moro 6', 'moro 7', 'moro 8', \n",
    "                #'moro 9']\n",
    "colors = sns.color_palette()\n",
    "\n",
    "data = overall_robustness.loc[:, \n",
    "                              ['Expected Number of Deaths', 'Expected Annual Damage', 'Total Dike Investment Costs', 'Expected Evacuation Costs','RfR Total Costs','Total Construction Costs']]\n",
    "limits = parcoords.get_limits(data)\n",
    "limits.loc[0, :] = 0\n",
    "limits.loc[1, :] = 1\n",
    "\n",
    "paraxes = parcoords.ParallelAxes(limits)\n",
    "#paraxes.plot(data.loc[mordm_policies,:], color=colors[0])\n",
    "paraxes.plot(data.loc[moro_policies,:], color=colors[1])\n",
    "plt.show()"
   ]
  }
 ],
 "metadata": {
  "kernelspec": {
   "display_name": "Python [default]",
   "language": "python",
   "name": "python3"
  },
  "language_info": {
   "codemirror_mode": {
    "name": "ipython",
    "version": 3
   },
   "file_extension": ".py",
   "mimetype": "text/x-python",
   "name": "python",
   "nbconvert_exporter": "python",
   "pygments_lexer": "ipython3",
   "version": "3.6.3"
  }
 },
 "nbformat": 4,
 "nbformat_minor": 2
}
