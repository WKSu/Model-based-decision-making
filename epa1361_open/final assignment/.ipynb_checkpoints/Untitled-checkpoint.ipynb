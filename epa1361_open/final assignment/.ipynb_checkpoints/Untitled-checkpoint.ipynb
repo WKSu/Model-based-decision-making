{
 "cells": [
  {
   "cell_type": "markdown",
   "metadata": {},
   "source": [
    "# Assignment\n",
    "The basic problem is the emergence of an unknown infectious disease. There is 1 person infectious and a population of 100000 is susceptible. The character of the disease is unknown up front. The challenge is to design a strategy to prevent a disruptive outbreak, while the invasiveness of the strategy should be kept proportional to the severity of the disease. That is, there is no reason to quarantine everyone and close schools etc. if there is no evidence that the disease is really serious. \n",
    "\n",
    "The following table specifies the uncertainties surrounding the outbreak. They have been informed by experience with previous outbreaks of a wide range of diseases. \n",
    "\n",
    "|Uncertainties              |Range\t        |Default value|\n",
    "|--------------------------:|--------------:|------------:|\n",
    "|Average incubation time   \t|0.5 – 14\t    |2            |\n",
    "|Average infectious period\t|7 – 21      \t|14           |\n",
    "|Basic reproduction number \t|0.5 – 5\t    |2            |\n",
    "|Case fatality rate\t        |0.01 – 0.5\t    |0.01         |\n",
    "|Switch SEIR or SIR     \t|{1, 0}\t        |0            |\n",
    "\n",
    "The following initial values should be used\n",
    "\n",
    "|Constants                       | Value |\n",
    "|-------------------------------:|------:|\n",
    "|Initial deceased population     |0      |\n",
    "|Initial exposed population      |0      |\n",
    "|Initial infectious population   |1      |\n",
    "|Initial recovered population    |0      |\n",
    "|Initial susceptible population  |100000 |\n",
    "\n",
    "The model is provided as a vensim mdl file (EIR or SIR 20170501.mdl), but is importable using pysd. That is, you should be able to work with the model also on a mac and with Python 64 bit. Any interventions can be added to the model through vensim before importing the modified model into pysd. For those of you who don't have pysd installed, it is available through pip. \n",
    "\n",
    "A starting point for inspiration for the assignment is the work of Willem Auping, Erik Pruyt and me on the Mexican Flu and Ebola. A quick search in Scopus should point you to the relevant papers. To get a sense for how decision making takes place during massive pandemics, a further literature search on either the most recent ebola outbreak or the Mexican flu should turn up relevant papers. \n",
    "\n",
    "\n",
    "## Key requirements of the assignment\n",
    "* Any modeled interventions should have a clear real world meaning, and the link between the model and the real world interpretation should be given.\n",
    "* The design of any candidate intervention should be clearly motivated\n",
    "* Not all relevant decision considerations can be covered by the model, a proper balance between modeling and qualitative reasoning is thus required. For example, the default model only covers the dynamics of a disease, and not the disruptive impact of quarantines and social distancing polices (e.g. closing schools).\n",
    "\n",
    "## Key Deliverables\n",
    "* a final report with a motivated strategy for counteracting the disease\n",
    "* a reflection on the advice given the political context of time urgent high risk decision making as typically encountered during pandemic outbreaks. Provide a strategy to ensure that the advice has impact and discuss three potential risks associated with it, related to the political dynamics often present here.\n",
    "* a collection of reproducible model based analyses that were conducted while crafting the strategy. Here reproducible means that anyone of your fellow students should be able to rerun your analyses. This entails clear explicit documentation of your code, clearly state any non-standard dependencies, and ensure that all the relevant files etc. are submitted in a clear directory structure. In addition, there should be an explicit motivation for each analysis step. This motivation should involve references to relevant literature where appropriate (see also http://nbviewer.jupyter.org/github/ipython/nbconvert-examples/blob/master/citations/Tutorial.ipynb for one way of doing this in notebooks). \n",
    "\n",
    "Time permitting, I plan to do a friendly bake-off where I will compare the performance of all strategies from all groups over a set of scenarios. There might be some black swans amongst the scenarios.... . This bake-off will result in a many-objective robustness ranking of all strategies. To make this work, it is paramount that I receive from each group a vensim / pysd model with the final advised strategy, and the associated python code for running the model. \n",
    "\n",
    "## Grading considerations\n",
    "* appropriate and correct use of various exploratory modeling techniques\n",
    "* quality of interpretation of exploratory modeling results\n",
    "* clarity of reasoning in translating interpretation of exploratory modeling results into candidate interventions\n",
    "* use of additional literature beyond course readings\n",
    "* the correctness of translating a strategy into the System Dynamics model. Given that System Dynamics is not the focus of this core, this criterion will not be weighted to heavily. \n",
    "\n",
    "\n"
   ]
  },
  {
   "cell_type": "code",
   "execution_count": null,
   "metadata": {
    "collapsed": true
   },
   "outputs": [],
   "source": []
  }
 ],
 "metadata": {
  "anaconda-cloud": {},
  "kernelspec": {
   "display_name": "Python [conda root]",
   "language": "python",
   "name": "conda-root-py"
  },
  "language_info": {
   "codemirror_mode": {
    "name": "ipython",
    "version": 3
   },
   "file_extension": ".py",
   "mimetype": "text/x-python",
   "name": "python",
   "nbconvert_exporter": "python",
   "pygments_lexer": "ipython3",
   "version": "3.5.3"
  },
  "latex_envs": {
   "LaTeX_envs_menu_present": true,
   "autocomplete": true,
   "bibliofile": "biblio.bib",
   "cite_by": "apalike",
   "current_citInitial": 1,
   "eqLabelWithNumbers": true,
   "eqNumInitial": 1,
   "hotkeys": {
    "equation": "Ctrl-E",
    "itemize": "Ctrl-I"
   },
   "labels_anchors": false,
   "latex_user_defs": false,
   "report_style_numbering": false,
   "user_envs_cfg": false
  }
 },
 "nbformat": 4,
 "nbformat_minor": 2
}
