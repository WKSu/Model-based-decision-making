{
 "cells": [
  {
   "cell_type": "markdown",
   "metadata": {},
   "source": [
    "# EPA1361 - Model-Based Decision Making\n",
    "# Week 3 - Sensitivity analysis\n",
    "\n",
    "This exercise uses the same predator-prey model we used for the multi-model exercise, focusing on the Python version. As with the other exercise, define a model object for the function below, with the uncertainty ranges provided:\n",
    "\n",
    "|Parameter\t|Range or value\t        |\n",
    "|-----------|--------------:|\n",
    "|prey_birth_rate    \t|0.015 – 0.035\t|\n",
    "|predation_rate|0.0005 – 0.003 \t|\n",
    "|predator_efficiency     \t|0.001 – 0.004\t    |\n",
    "|predator_loss_rate\t    |0.04 – 0.08\t    |\n",
    "\n",
    "* Sensitivity analysis often focuses on the final values of an outcome at the end of the simulation. However, we can also look at metrics that give us additional information about the behavior of the model over time. Using [the statsmodel library](https://www.statsmodels.org/stable/index.html) and an appropriate sampling design, fit a linear regression model for each of the following indicators. What can we conclude about the behavior of the model, and about the importance of the different inputs?\n",
    "\n",
    "  * The final values of the _prey_ outcome\n",
    "  * The mean values of the _prey_ outcome over time, within each experiment\n",
    "  * The standard deviations of the _prey_ outcome over time, within each experiment\n",
    "  \n",
    "\n",
    "* Use the Sobol sampling functionality included in the Workbench to perform experiments with a sample size of N=50, then analyze the results with SALib for the same three indicators. This requires specifying the keyword argument `'uncertainty_sampling'` of perform_experiments. Note that when using Sobol sampling, the meaning of the keyword argument `scenarios` changes a bit. In order to properly estimate Sobol scores as well as interaction effects, you require N * (2D+2) scenarios, where D is the number of uncertain parameters, and N is the value for scenarios passed to `perform_experiments`. Repeat the analysis for larger sample sizes, with N=250 and N=1000. How can we interpret the first-order and total indices? Are these sample sizes sufficient for a stable estimation of the indices? You'll need to use the [get_SALib_problem](https://emaworkbench.readthedocs.io/en/latest/ema_documentation/em_framework/salib_samplers.html) function to convert your Workbench experiments to a problem definition that you can pass to the SALib analysis function. \n",
    "*hint*: sobol is a deterministic sequence of quasi random numbers. Thus, you can run with N=1000 and simply \n",
    "\n",
    "* Use the Sobol results with N=100\n",
    "\n",
    "* Use the [Extra-Trees analysis](https://emaworkbench.readthedocs.io/en/latest/ema_documentation/analysis/feature_scoring.html) included in the Workbench to approximate the Sobol total indices, with a suitable sampling design. As a starting point, use an ensemble of 100 trees and a max_features parameter of 0.6, and set the analysis to regression mode. Are the estimated importances stable relative to the sample size and the analysis parameters? How do the results compare to the Sobol indices? For more details on this analysis see [Jaxa-Rozen & Kwakkel (2018)](https://www.sciencedirect.com/science/article/pii/S1364815217311581)"
   ]
  },
  {
   "cell_type": "code",
   "execution_count": 32,
   "metadata": {
    "collapsed": false
   },
   "outputs": [
    {
     "data": {
      "text/plain": [
       "<Logger EMA (DEBUG)>"
      ]
     },
     "execution_count": 32,
     "metadata": {},
     "output_type": "execute_result"
    }
   ],
   "source": [
    "import pandas as pd\n",
    "import numpy as np\n",
    "import matplotlib.pyplot as plt\n",
    "\n",
    "from ema_workbench import (Model, RealParameter, ScalarOutcome, TimeSeriesOutcome, perform_experiments, ema_logging)\n",
    "\n",
    "from ema_workbench.em_framework.evaluators import LHS, SOBOL, MORRIS\n",
    "from ema_workbench.analysis.scenario_discovery_util import RuleInductionType\n",
    "from ema_workbench.analysis import feature_scoring\n",
    "from ema_workbench.em_framework.salib_samplers import get_SALib_problem\n",
    "from SALib.analyze import sobol\n",
    "\n",
    "ema_logging.log_to_stderr(ema_logging.INFO)"
   ]
  },
  {
   "cell_type": "code",
   "execution_count": 15,
   "metadata": {},
   "outputs": [],
   "source": [
    "def pred_prey(prey_birth_rate=0.025, predation_rate=0.0015, predator_efficiency=0.002,\n",
    "             predator_loss_rate=0.06, initial_prey=50, initial_predators=20, dt=0.25, \n",
    "             final_time=365, reps=1):\n",
    "\n",
    "    #Initial values\n",
    "    predators = np.zeros((reps, int(final_time/dt)+1))\n",
    "    prey = np.zeros((reps, int(final_time/dt)+1))\n",
    "    sim_time = np.zeros((reps, int(final_time/dt)+1))\n",
    "    \n",
    "    for r in range(reps):\n",
    "        predators[r,0] = initial_predators\n",
    "        prey[r,0] = initial_prey\n",
    "\n",
    "        #Calculate the time series\n",
    "        for t in range(0, sim_time.shape[1]-1):\n",
    "\n",
    "            dx = (prey_birth_rate*prey[r,t]) - (predation_rate*prey[r,t]*predators[r,t])\n",
    "            dy = (predator_efficiency*predators[r,t]*prey[r,t]) - (predator_loss_rate*predators[r,t])\n",
    "\n",
    "            prey[r,t+1] = max(prey[r,t] + dx*dt, 0)\n",
    "            predators[r,t+1] = max(predators[r,t] + dy*dt, 0)\n",
    "            sim_time[r,t+1] = (t+1)*dt\n",
    "    \n",
    "    #Return outcomes\n",
    "    return {'TIME':sim_time,\n",
    "            'predators':predators,\n",
    "            'prey':prey}"
   ]
  },
  {
   "cell_type": "code",
   "execution_count": 18,
   "metadata": {},
   "outputs": [],
   "source": [
    "model = Model(\"predprey\", function=pred_prey)\n",
    "\n",
    "model.uncertainties = [RealParameter('prey_birth_rate', 0.015, 0.035),\n",
    "                       RealParameter('predation_rate', 0.0005, 0.003),\n",
    "                       RealParameter('predator_efficiency', 0.001, 0.004),\n",
    "                       RealParameter('predator_loss_rate', 0.04, 0.08)]\n",
    "\n",
    "#List of the model outcomes must match.\n",
    "model.outcomes = [TimeSeriesOutcome('TIME'),\n",
    "                  TimeSeriesOutcome('predators'),\n",
    "                  TimeSeriesOutcome('prey')]"
   ]
  },
  {
   "cell_type": "code",
   "execution_count": 19,
   "metadata": {},
   "outputs": [
    {
     "name": "stderr",
     "output_type": "stream",
     "text": [
      "[MainProcess/INFO] performing 1000 scenarios * 1 policies * 1 model(s) = 1000 experiments\n",
      "[MainProcess/INFO] performing experiments sequentially\n",
      "[MainProcess/INFO] 100 cases completed\n",
      "[MainProcess/INFO] 200 cases completed\n",
      "[MainProcess/INFO] 300 cases completed\n",
      "[MainProcess/INFO] 400 cases completed\n",
      "[MainProcess/INFO] 500 cases completed\n",
      "[MainProcess/INFO] 600 cases completed\n",
      "[MainProcess/INFO] 700 cases completed\n",
      "[MainProcess/INFO] 800 cases completed\n",
      "[MainProcess/INFO] 900 cases completed\n",
      "[MainProcess/INFO] 1000 cases completed\n",
      "[MainProcess/INFO] experiments finished\n"
     ]
    }
   ],
   "source": [
    "from ema_workbench import SequentialEvaluator, MultiprocessingEvaluator\n",
    "\n",
    "with SequentialEvaluator(model) as evaluator:\n",
    "    experiments, outcomes = evaluator.perform_experiments(1000)"
   ]
  },
  {
   "cell_type": "code",
   "execution_count": 44,
   "metadata": {},
   "outputs": [],
   "source": [
    "for var in outcomes.keys():\n",
    "    outcomes[var] = outcomes[var][:,0,:]"
   ]
  },
  {
   "cell_type": "code",
   "execution_count": 60,
   "metadata": {},
   "outputs": [],
   "source": [
    "x = experiments.iloc[:, :4]\n",
    "y = outcomes[\"prey\"][:, -1]"
   ]
  },
  {
   "cell_type": "code",
   "execution_count": 125,
   "metadata": {},
   "outputs": [
    {
     "data": {
      "text/plain": [
       "array([ 49.59543868,  50.91221892,  55.25835363,  17.77893769,\n",
       "         7.06712224,  46.97837917,  13.59124661,   1.86812794,\n",
       "        26.90929896,   7.29330669,  25.45088726,  50.59185627,\n",
       "        18.63907168,  39.13971821,  23.43719789,  52.7816781 ,\n",
       "         3.60048713,  29.55803777,  10.1980512 ,  16.38195511,\n",
       "        12.54049029,  17.69755944,  24.79567217,  32.30086374,\n",
       "        29.36602476,  46.63041815,  56.84793941,  47.38885945,\n",
       "        31.11720908,  49.59839321,  10.55102333,   4.11314712,\n",
       "        11.50955756,  12.49873232,  38.49312101,  17.8203449 ,\n",
       "         8.55782423,  29.68913122,   7.44172298,  23.29229538,\n",
       "        15.28596928,  18.82331361,  27.32918021,  42.92798857,\n",
       "        35.66774787,  28.72383942,  30.67478638,  37.67357027,\n",
       "         1.72336026,  51.08340435,   7.27654487,  20.9296191 ,\n",
       "        15.2498991 ,   5.05280694,  22.03813984,  38.64805904,\n",
       "        23.37421582,   1.45344863,  27.03899201,  53.65830446,\n",
       "         2.90323585,   8.96376728,  40.52736836,  44.25144155,\n",
       "        17.88774681,  28.8234419 ,   8.87141858,   2.56160741,\n",
       "         4.1226826 ,  58.32030434,   8.30909781,  49.54038614,\n",
       "        16.71123577,  23.63580445,  29.44458119,  24.77608853,\n",
       "        35.16904752,  34.93757365,  56.20260178,  10.58350998,\n",
       "        42.80620323,  13.44687788,   1.78611115,  39.72285824,\n",
       "        11.26600088,  53.37965301,  51.8130257 ,   9.78321904,\n",
       "        11.94070895,  11.57069123,  28.39989793,  25.76309096,\n",
       "        41.36337007,  22.99033642,  13.73350956,   4.09645479,\n",
       "         4.1540694 ,  50.27365302,  19.8458267 ,  46.47055925,\n",
       "         1.67422062,  40.99229319,  39.51390048,  25.34519816,\n",
       "        62.34606541,   3.62798883,  23.94322584,  36.7491649 ,\n",
       "        48.700077  ,  43.61298233,   3.11448269,  35.16084101,\n",
       "        55.59399871,   0.89245164,  14.70201546,  23.5741768 ,\n",
       "        40.83256435,  52.58427349,  45.70057144,  21.19076133,\n",
       "         6.93018942,  16.95488552,  51.43375607,  69.98611005,\n",
       "        39.69463559,  12.84616536,   5.36177122,   8.34417074,\n",
       "         9.90014261,  43.70260856,  19.66577389,  51.79939161,\n",
       "        22.44560388,  21.11414397,  17.7352764 ,   5.84335612,\n",
       "         5.48097542,  41.69924465,  21.57874959,   1.27058278,\n",
       "        11.08130319,  68.81476592,   8.25561496,   9.93757604,\n",
       "        43.6475362 ,  23.82156159,  31.53970469,   2.34577752,\n",
       "        41.03986197,  44.12853969,   5.65135317,   1.40443844,\n",
       "        52.33285936,  39.1980292 ,  25.04142475,  19.31822899,\n",
       "         2.84130779,  55.68486469,  12.28735022,  17.40415246,\n",
       "        21.16850913,  21.7450556 ,   1.79778171,  38.86468019,\n",
       "        37.1610238 ,  37.03824007,  38.58334439,   3.94283837,\n",
       "        25.82465   ,  45.30187268,   5.22841772,  51.86993595,\n",
       "         6.84588075,  11.99238581,  43.27050678,  53.16802351,\n",
       "        24.07440604,  65.18559712,  30.356786  ,  25.47159931,\n",
       "        40.21730983,   6.37640955,   6.30561554,  62.18480275,\n",
       "        58.34427822,  40.63448504,  30.96781976,  12.11648989,\n",
       "         3.39588175,  28.57762919,  13.02835488,  77.56141149,\n",
       "        38.9983765 ,  50.40274638,  22.35017343,   2.16940296,\n",
       "        22.14775771,  52.88270668,  46.49123208,   2.1106111 ,\n",
       "         2.71885835,  43.32755428,  44.82605072,  52.15347241,\n",
       "        17.50007115,  23.82396007,   2.09850066,  26.90505472,\n",
       "         9.55813665,  57.6021515 ,   6.56022477,  53.65053693,\n",
       "        33.96921819,  10.2723969 ,  37.19532307,  52.51393682,\n",
       "        45.73986235,  39.90979273,  22.84172798,   5.44096709,\n",
       "        53.35368449,  42.31364264,   6.1849563 ,  17.51414662,\n",
       "        31.18042194,   9.58850259,   2.96869259,   4.16466686,\n",
       "         4.57937314,  27.83936641,  44.99803571,  14.55224624,\n",
       "        18.50926157,  31.36218784,   9.59549933,  25.70108671,\n",
       "        30.34374212,   6.8787397 ,   7.07448636,   3.28529054,\n",
       "         7.94817551,   1.08263972,   7.96982314,   6.78822213,\n",
       "        13.51230275,   0.80580443,  15.82420962,  21.7694851 ,\n",
       "         5.12459058,   2.98686816,  37.03276164,  46.91590965,\n",
       "        15.78395582,   8.64056472,   3.77162707,   5.26751496,\n",
       "        20.53431411,   0.76606236,  18.8207605 ,   7.2173334 ,\n",
       "        31.55889879,  53.81043362,  17.77412105,   4.43383893,\n",
       "        40.94264863,  18.81827087,  17.23625493,   7.22025883,\n",
       "         5.41056449,  36.2384534 ,   8.02874667,  56.47151182,\n",
       "        20.68731318,  16.98390398,  39.56642181,   8.6420623 ,\n",
       "        18.25894684,  14.92394124,   6.71427335,   1.94319503,\n",
       "         9.90378437,   4.45562009,  73.17536011,  15.0286043 ,\n",
       "        35.21214442,  23.17968516,   7.54577378,  63.89053945,\n",
       "        48.33839086,  12.45503042,  21.20555005,   3.08239144,\n",
       "        31.85210186,   5.28789914,  52.23895616,   0.67859032,\n",
       "        29.28419092,   1.82899706,  52.60157514,  52.76773928,\n",
       "        28.13404912,  42.54098713,  49.3382488 ,   4.21927354,\n",
       "        28.58828565,   7.24489403,  12.40229422,  13.59545378,\n",
       "        53.97374038,  72.89979848,  52.08450061,   3.84788931,\n",
       "        15.72847381,  26.11158433,  21.75248335,  44.74121406,\n",
       "        33.46237349,   4.02382006,  49.22907738,   1.8808482 ,\n",
       "        32.2520073 ,   9.48184568,  18.72603845,  14.17945714,\n",
       "         3.62876491,   7.64019566,  42.35709097,   1.29797179,\n",
       "        12.91238465,  21.65069488,   2.57571672,  46.3904083 ,\n",
       "        41.60731643,  54.78922396,  58.25751614,  39.54955671,\n",
       "         5.06248038,  16.0555695 ,  36.65660023,   6.12186891,\n",
       "        17.60027482,  61.33266218,  46.12083054,  56.56996561,\n",
       "        40.31013902,  10.81236328,  45.02847298,  25.04683518,\n",
       "        26.25008966,  10.96476403,  20.42123339,  10.06945374,\n",
       "        12.52217362,  16.78351669,  25.78137267,  30.50434613,\n",
       "         2.06446076,   3.12114302,  19.6093998 ,  59.45887003,\n",
       "         7.92271399,   6.68032533,  12.68154186,  64.79497908,\n",
       "        50.67601578,  42.11177813,  30.36120777,  18.5915142 ,\n",
       "        48.91159037,  54.80010718,  49.3280109 ,  25.95843569,\n",
       "        21.17099763,  41.26656877,  34.44468785,  21.760218  ,\n",
       "        22.4183024 ,  26.21147818,  45.07524111,  24.33053654,\n",
       "        22.41938617,  14.15242072,  52.28610279,  34.94871805,\n",
       "        69.15854491,  16.91641454,  20.56658879,  41.26559032,\n",
       "         9.76304682,   0.67751647,   5.29339745,  36.9463801 ,\n",
       "        39.83298459,   4.39552096,  23.06095324,  60.24920795,\n",
       "         4.24625902,  35.64329579,  64.24823226,  23.82939514,\n",
       "        46.80331948,  49.27232209,   1.63102321,  32.45784153,\n",
       "        63.69335118,   7.18239163,  70.38823595,  17.19361952,\n",
       "        11.84824196,  32.38133931,   3.52505097,  54.1165778 ,\n",
       "        16.96878532,  30.42851598,  24.31518581,  38.7539458 ,\n",
       "        26.02529267,  49.94787344,   6.95691534,   6.95358549,\n",
       "        19.6037492 ,  46.05725786,   4.12253854,  13.97558142,\n",
       "         7.62380393,  54.56685896,   5.12324245,  27.29722015,\n",
       "        30.70166908,  27.88542608,   1.81895746,  20.16121971,\n",
       "        47.10864371,  62.00181021,  25.91464372,  10.73845525,\n",
       "         2.16800027,  61.35019592,  72.34270072,  46.81417619,\n",
       "        13.76061759,  55.63281862,   4.92067652,   9.71216136,\n",
       "        73.55526923,  48.93524423,   3.97543823,  60.63872496,\n",
       "        11.84101985,   8.49136541,  39.60507947,   7.09611918,\n",
       "         8.7544195 ,  50.43039461,  11.65700619,  54.64766867,\n",
       "        21.05936958,  16.91701152,  21.44794027,  19.65532327,\n",
       "         1.10649219,   7.28964504,   4.9736919 ,  57.28138085,\n",
       "        18.53458475,   5.50042718,  27.93742628,  18.65478643,\n",
       "        76.34759115,  51.98001566,   5.74637838,   1.7768747 ,\n",
       "         1.99529331,  17.00198512,  26.21499009,  11.83677981,\n",
       "        29.44252147,  23.55620314,   5.96992358,  53.06916359,\n",
       "        61.96079515,  34.97509821,  34.30239189,  40.85629566,\n",
       "         5.87207187,   0.79882682,   8.54697625,   7.76465224,\n",
       "        26.13956977,  24.45369214,  12.26114583,   4.97625506,\n",
       "        12.65317121,  24.11799822,  15.54795781,   7.98120355,\n",
       "        41.57362956,  22.07768126,  27.02438498,  15.36331436,\n",
       "         1.5434365 ,  41.89704048,  59.13073786,  14.01470516,\n",
       "        44.82796447,  31.77863982,  49.40488524,  40.94133788,\n",
       "         6.94864898,  23.48866204,  24.40711864,  33.10626464,\n",
       "        67.87560756,  98.62505344,  34.08620004,   1.6535453 ,\n",
       "         3.00226042,  38.44958138,   5.57214781,   6.42352395,\n",
       "        27.41688931,  47.52320772,  54.44741379,  50.47563303,\n",
       "         2.08659763,   1.49502695,  13.39902938,  24.61404523,\n",
       "        40.46944005,  57.33017125,  38.88122004,  11.73532327,\n",
       "        29.33155567,   3.99723543,  34.98635471,  59.68365179,\n",
       "        19.0538888 ,   1.02175803,  28.24223413,  36.96082787,\n",
       "         1.34201217,  64.90836309,  91.47802219,   5.37972731,\n",
       "        54.43519503,   7.16130726,  17.65556959,   7.86760981,\n",
       "        47.8723081 ,   8.99043335,   3.84485957,   7.17913447,\n",
       "         6.19211919,  10.84970128,  34.30303211,   0.55838101,\n",
       "        38.96872862,  16.79006147,  18.32507048,  16.74620163,\n",
       "        10.16515528, 119.72434309,  58.92154682,  10.48322819,\n",
       "         6.31125624,  51.3477097 ,  36.8323304 ,   2.63554673,\n",
       "        28.39094253,  45.26410212,  53.36924339,  34.85039296,\n",
       "        26.49478675,   7.25956604,  53.86121424,  26.03824958,\n",
       "        55.8796721 ,  33.95364025,   6.90494224,  11.34190102,\n",
       "        26.84102645,   8.06948826,   9.04237657,  50.54585099,\n",
       "        28.92443326,  62.41582802,   4.27673893,  21.59022626,\n",
       "        10.20444648,   4.48686541,   6.50614066,  45.25149314,\n",
       "         9.31734511,  27.17013373,   7.59286338,   8.26180028,\n",
       "        14.37471667,   5.77516205,   1.59678545,  13.53299723,\n",
       "        14.63850658,  44.60467197,  50.66891842,  13.42801238,\n",
       "        15.2540336 ,   7.3991338 ,  44.69263427,  15.26447112,\n",
       "        85.92902858,   8.95513393,  49.30293281,   6.82564105,\n",
       "        34.68236878,  14.13265062,  27.35683182,   1.42399113,\n",
       "        35.01467747,  28.8111128 ,  11.62708608,  38.8940407 ,\n",
       "         6.72168048,  43.40608316,   4.17057434,  73.02172995,\n",
       "        59.53338968,   6.98825175,  26.53044711,  34.5682191 ,\n",
       "        52.8083451 ,   9.24875347,   1.34345219,  12.89676806,\n",
       "         1.60746253,   5.27781612,   3.00020604,  49.76898131,\n",
       "        10.82269377,  19.1750746 ,  40.71805779,  28.00559052,\n",
       "         3.00188528,   7.46447672,  65.9841651 ,  11.0835677 ,\n",
       "        50.76386984,  52.00531071,  49.15343532,   8.8617989 ,\n",
       "         2.58338574,   5.69815383,   2.814836  ,  34.63859888,\n",
       "         2.61285945,  54.48953743,  25.3276334 ,  31.7567808 ,\n",
       "        53.61132841,   6.65236257,   9.16105111,   5.20869141,\n",
       "         3.13717246,  17.70289813,   3.69061313,  14.94360951,\n",
       "         5.27306826,  41.7359552 ,  42.89950114,  13.87495807,\n",
       "        30.20062288,   6.94208675,  16.26394975,  19.45942976,\n",
       "        45.90070139,   5.61450206,  53.28684213,   0.60921049,\n",
       "        29.93729058,  25.68133586,   5.47658289,  71.31165843,\n",
       "        41.02844846,   0.37854372,  70.16520662,  38.66408658,\n",
       "        18.77808958,  35.46519909,   1.12384332,   7.77408089,\n",
       "         4.11559385,  14.14279436,   6.95424602,  47.54713215,\n",
       "         4.30260194,  44.96580135,   7.40396849,  25.33872783,\n",
       "        63.81685762,  84.59631986,   9.03861313,  64.14581529,\n",
       "         1.6611625 ,   3.2448316 ,  25.68993563,   5.52075672,\n",
       "        14.86317094,  18.19281911,  23.65794463,  27.44068663,\n",
       "        46.75243502,  21.59703468,   9.95444997,  35.47433965,\n",
       "         7.25668205,  53.58242948,   4.87252989,   3.57639238,\n",
       "        41.20949555,   2.43040614,  53.46530521,   7.11194153,\n",
       "        62.85650503,  52.54259723,  23.16176229,  36.78097129,\n",
       "        40.72496644,  26.8644357 ,  45.00711926,  45.84153301,\n",
       "         3.84701677,  37.75099913,  31.68870649,   5.75716102,\n",
       "        10.96223133,  46.04615092,  38.85588224,  17.66525696,\n",
       "        25.64698457,  18.05626231,  53.35964425,  53.92121741,\n",
       "         7.93119234,  27.223748  ,  18.25819529,   1.27799862,\n",
       "        10.10735794,  84.10588926,  28.25174221,  14.21911572,\n",
       "        51.96043809,  63.01457934,  47.52598099,  24.3873291 ,\n",
       "        29.03661304,  35.08386845,   7.46848853,   0.68296371,\n",
       "        72.55008869,  16.36074055,  29.50935542,  33.83703976,\n",
       "        26.4284094 ,  51.05015277,   8.90398544,  16.13303032,\n",
       "        52.13868274,  43.31879691,  26.70165613,  38.34036446,\n",
       "        37.78734448,  23.23641857,   5.68906959,  34.42129926,\n",
       "        23.79343796,   6.81079661,  44.83768203,  28.8711945 ,\n",
       "         2.00366914,  62.38251061,  25.38262085,  47.45077667,\n",
       "         0.79636009,  21.44077549,   2.59208714,  60.86010289,\n",
       "        22.66873316,  32.66656256,  39.16840501,   6.60243724,\n",
       "        51.97106767,  41.64564906,   1.86790631,  52.56959391,\n",
       "         6.56580711,  42.56286033,   2.814098  ,  38.94109535,\n",
       "        51.38708096,  22.57361262,  14.08738136,  11.41638259,\n",
       "        29.725163  ,  29.83565559,   3.83270089,   5.2159947 ,\n",
       "         4.68257868,   9.68603579,  22.63663661,  22.25423133,\n",
       "        49.71747086,  52.52281635,  23.68864313,  32.97941746,\n",
       "       102.08637561,  59.68296755,  64.63569237,  39.15392278,\n",
       "         1.18486608,  20.9738357 ,   5.82455224,  60.51960592,\n",
       "        48.01620832,  65.95343446,  38.38240939,   9.31084072,\n",
       "        11.68119667,  20.81606173,  22.50809473,   3.44490411,\n",
       "        29.60493158,  24.30151189,   0.42526533,  28.09706162,\n",
       "         0.97369048,  19.25994258,  59.19103523,  47.01842861,\n",
       "        37.14996457,   0.43768024,  24.91488753,  47.34608674,\n",
       "        49.07297903,  51.53267363,   9.16418572,  14.57667063,\n",
       "         2.85589463,  56.63996442,  27.00011866,  61.1692407 ,\n",
       "        44.9418088 ,   4.39856296,  10.28245972,   5.09352744,\n",
       "         1.17330012,  44.22461114,  37.84989369,  46.70110295,\n",
       "        38.12284491,  18.69942038,   2.81876472,   4.95838348,\n",
       "        16.02992173,  53.8166502 ,  66.26692786,  28.61001792,\n",
       "         7.48471788,  44.81930794,   2.64748785,   5.76511259,\n",
       "        77.60031817,  16.81273968,  17.69616184,   6.0505497 ,\n",
       "        24.31024624,  27.67539312,  27.96769029,  53.34679795,\n",
       "        23.32666171,  51.39486668,   4.49922276,  57.47822168,\n",
       "        50.3453852 ,  17.5657501 ,   6.57276261,   3.6302847 ,\n",
       "        21.07667693,   6.14156487,   5.82622053,  65.20313077,\n",
       "        16.99595723,  11.42543319,  51.74430506,   5.96680459,\n",
       "       114.7956799 ,   0.6629641 ,  43.42667904,  16.75523144,\n",
       "        51.82805583,  39.75245247,  52.44534781,  30.89726639,\n",
       "        85.42077971,  43.1271369 ,  36.99754936,   6.95881565,\n",
       "        18.8780301 ,  40.37541773,   3.03138797,  35.33478375,\n",
       "        14.33574501,  93.37534917,  12.74063408,  17.24915177,\n",
       "        16.8548905 ,  58.19282923,  87.39665091,  52.65820751,\n",
       "        22.38843737,  54.64107889,  16.71850152,  25.36714871,\n",
       "        53.65966303,  48.3069335 ,  24.26868972,   4.6679399 ,\n",
       "        30.14085783,   0.66890324,  51.4226602 ,   3.02805934,\n",
       "        60.48329454,   1.06721076,  51.88437586,   2.66951968,\n",
       "        43.89039485,  47.265921  ,  63.6985314 ,  32.44689892,\n",
       "         5.4046704 ,  14.81986937,  21.84184287,  11.7351357 ,\n",
       "         7.11448697,  46.71293255,   1.17314679,   8.91050914,\n",
       "         7.00381885,  37.91726068,  11.55485703,   5.2548884 ,\n",
       "        28.54008291,  13.3343733 ,  19.4351459 ,  62.4625878 ,\n",
       "         8.41347873,  13.04556707,  93.0152079 ,  27.27761573,\n",
       "        34.31401335,   2.78090682,  54.16524456,  44.08269791,\n",
       "        52.16139789,  26.98444495,   5.48364303,  14.55966795,\n",
       "        30.52938983,  36.52013638,  17.77786317,  41.0184312 ,\n",
       "        16.03211327,  51.23882161,  16.374498  ,  62.74557647,\n",
       "        42.2446953 ,  33.65632183,   0.39012619,  19.50627736,\n",
       "        32.87122072,   5.91839787,  56.67046144,  49.46846647,\n",
       "         6.02229949,  13.01654564,  17.44378114,  45.84182936,\n",
       "        50.34782391,   2.07254917,   0.68799008,  16.4648982 ,\n",
       "        47.38080123,  10.65060922,  27.14422929,  22.69028912,\n",
       "        51.64997066,   2.92789248,  72.10682863,  44.57390853,\n",
       "        15.17596976,   5.61472067,  13.75878137,  33.5656932 ])"
      ]
     },
     "execution_count": 125,
     "metadata": {},
     "output_type": "execute_result"
    }
   ],
   "source": [
    "y"
   ]
  },
  {
   "cell_type": "code",
   "execution_count": 130,
   "metadata": {},
   "outputs": [
    {
     "name": "stdout",
     "output_type": "stream",
     "text": [
      "                            OLS Regression Results                            \n",
      "==============================================================================\n",
      "Dep. Variable:                      y   R-squared:                       0.402\n",
      "Model:                            OLS   Adj. R-squared:                  0.400\n",
      "Method:                 Least Squares   F-statistic:                     167.5\n",
      "Date:                Mon, 13 May 2019   Prob (F-statistic):          1.11e-109\n",
      "Time:                        16:39:43   Log-Likelihood:                -4187.7\n",
      "No. Observations:                1000   AIC:                             8385.\n",
      "Df Residuals:                     995   BIC:                             8410.\n",
      "Df Model:                           4                                         \n",
      "Covariance Type:            nonrobust                                         \n",
      "=======================================================================================\n",
      "                          coef    std err          t      P>|t|      [0.025      0.975]\n",
      "---------------------------------------------------------------------------------------\n",
      "const                  37.7992      4.039      9.357      0.000      29.872      45.726\n",
      "predation_rate       -925.1616    700.734     -1.320      0.187   -2300.247     449.923\n",
      "predator_efficiency   -1.4e+04    583.617    -23.994      0.000   -1.51e+04   -1.29e+04\n",
      "predator_loss_rate    401.0509     43.783      9.160      0.000     315.134     486.968\n",
      "prey_birth_rate        69.9929     87.600      0.799      0.424    -101.909     241.895\n",
      "==============================================================================\n",
      "Omnibus:                      115.591   Durbin-Watson:                   1.997\n",
      "Prob(Omnibus):                  0.000   Jarque-Bera (JB):              154.535\n",
      "Skew:                           0.934   Prob(JB):                     2.77e-34\n",
      "Kurtosis:                       3.472   Cond. No.                     1.39e+03\n",
      "==============================================================================\n",
      "\n",
      "Warnings:\n",
      "[1] Standard Errors assume that the covariance matrix of the errors is correctly specified.\n",
      "[2] The condition number is large, 1.39e+03. This might indicate that there are\n",
      "strong multicollinearity or other numerical problems.\n"
     ]
    }
   ],
   "source": [
    "import statsmodels.api as sm\n",
    "#Add a constant if there is no intercept\n",
    "x_constant = sm.add_constant(x)\n",
    "mod = sm.OLS(y, x_constant)\n",
    "res = mod.fit()\n",
    "print(res.summary())"
   ]
  },
  {
   "cell_type": "code",
   "execution_count": 90,
   "metadata": {},
   "outputs": [],
   "source": [
    "y2 = []\n",
    "\n",
    "for i in outcomes[\"prey\"]:\n",
    "    y2.append(i.mean())"
   ]
  },
  {
   "cell_type": "code",
   "execution_count": 139,
   "metadata": {},
   "outputs": [
    {
     "name": "stdout",
     "output_type": "stream",
     "text": [
      "                            OLS Regression Results                            \n",
      "==============================================================================\n",
      "Dep. Variable:                      y   R-squared:                       0.874\n",
      "Model:                            OLS   Adj. R-squared:                  0.873\n",
      "Method:                 Least Squares   F-statistic:                     1720.\n",
      "Date:                Mon, 13 May 2019   Prob (F-statistic):               0.00\n",
      "Time:                        16:47:49   Log-Likelihood:                -2969.9\n",
      "No. Observations:                1000   AIC:                             5950.\n",
      "Df Residuals:                     995   BIC:                             5974.\n",
      "Df Model:                           4                                         \n",
      "Covariance Type:            nonrobust                                         \n",
      "=======================================================================================\n",
      "                          coef    std err          t      P>|t|      [0.025      0.975]\n",
      "---------------------------------------------------------------------------------------\n",
      "const                  27.9411      1.195     23.376      0.000      25.595      30.287\n",
      "predation_rate       -925.0330    207.350     -4.461      0.000   -1331.927    -518.139\n",
      "predator_efficiency -1.259e+04    172.695    -72.924      0.000   -1.29e+04   -1.23e+04\n",
      "predator_loss_rate    489.4797     12.955     37.782      0.000     464.057     514.903\n",
      "prey_birth_rate       101.0911     25.921      3.900      0.000      50.225     151.958\n",
      "==============================================================================\n",
      "Omnibus:                      271.812   Durbin-Watson:                   2.117\n",
      "Prob(Omnibus):                  0.000   Jarque-Bera (JB):              646.724\n",
      "Skew:                           1.456   Prob(JB):                    3.68e-141\n",
      "Kurtosis:                       5.653   Cond. No.                     1.39e+03\n",
      "==============================================================================\n",
      "\n",
      "Warnings:\n",
      "[1] Standard Errors assume that the covariance matrix of the errors is correctly specified.\n",
      "[2] The condition number is large, 1.39e+03. This might indicate that there are\n",
      "strong multicollinearity or other numerical problems.\n"
     ]
    }
   ],
   "source": [
    "mod = sm.OLS(y2, x_constant)\n",
    "res = mod.fit()\n",
    "print(res.summary())"
   ]
  },
  {
   "cell_type": "code",
   "execution_count": 99,
   "metadata": {},
   "outputs": [],
   "source": [
    "y3 = []\n",
    "\n",
    "for i in outcomes[\"prey\"]:\n",
    "    y3.append(i.std())"
   ]
  },
  {
   "cell_type": "code",
   "execution_count": 140,
   "metadata": {},
   "outputs": [
    {
     "name": "stdout",
     "output_type": "stream",
     "text": [
      "                            OLS Regression Results                            \n",
      "==============================================================================\n",
      "Dep. Variable:                      y   R-squared:                       0.084\n",
      "Model:                            OLS   Adj. R-squared:                  0.080\n",
      "Method:                 Least Squares   F-statistic:                     22.77\n",
      "Date:                Mon, 13 May 2019   Prob (F-statistic):           5.09e-18\n",
      "Time:                        16:47:55   Log-Likelihood:                -2605.5\n",
      "No. Observations:                1000   AIC:                             5221.\n",
      "Df Residuals:                     995   BIC:                             5246.\n",
      "Df Model:                           4                                         \n",
      "Covariance Type:            nonrobust                                         \n",
      "=======================================================================================\n",
      "                          coef    std err          t      P>|t|      [0.025      0.975]\n",
      "---------------------------------------------------------------------------------------\n",
      "const                  13.1829      0.830     15.879      0.000      11.554      14.812\n",
      "predation_rate       1216.0811    144.019      8.444      0.000     933.466    1498.697\n",
      "predator_efficiency   418.4925    119.948      3.489      0.001     183.112     653.873\n",
      "predator_loss_rate    -17.5715      8.998     -1.953      0.051     -35.230       0.087\n",
      "prey_birth_rate       -20.1994     18.004     -1.122      0.262     -55.530      15.131\n",
      "==============================================================================\n",
      "Omnibus:                      210.168   Durbin-Watson:                   2.030\n",
      "Prob(Omnibus):                  0.000   Jarque-Bera (JB):             1452.136\n",
      "Skew:                           0.774   Prob(JB):                         0.00\n",
      "Kurtosis:                       8.697   Cond. No.                     1.39e+03\n",
      "==============================================================================\n",
      "\n",
      "Warnings:\n",
      "[1] Standard Errors assume that the covariance matrix of the errors is correctly specified.\n",
      "[2] The condition number is large, 1.39e+03. This might indicate that there are\n",
      "strong multicollinearity or other numerical problems.\n"
     ]
    }
   ],
   "source": [
    "mod = sm.OLS(y3, x_constant)\n",
    "res = mod.fit()\n",
    "print(res.summary())"
   ]
  },
  {
   "cell_type": "markdown",
   "metadata": {},
   "source": [
    "# Sobol\n",
    "\n",
    "* Use the Sobol sampling functionality included in the Workbench to perform experiments with a sample size of N=50, then analyze the results with SALib for the same three indicators. This requires specifying the keyword argument `'uncertainty_sampling'` of perform_experiments. Note that when using Sobol sampling, the meaning of the keyword argument `scenarios` changes a bit. In order to properly estimate Sobol scores as well as interaction effects, you require N * (2D+2) scenarios, where D is the number of uncertain parameters, and N is the value for scenarios passed to `perform_experiments`. Repeat the analysis for larger sample sizes, with N=250 and N=1000. How can we interpret the first-order and total indices? Are these sample sizes sufficient for a stable estimation of the indices? You'll need to use the [get_SALib_problem](https://emaworkbench.readthedocs.io/en/latest/ema_documentation/em_framework/salib_samplers.html) function to convert your Workbench experiments to a problem definition that you can pass to the SALib analysis function. \n",
    "*hint*: sobol is a deterministic sequence of quasi random numbers. Thus, you can run with N=1000 and simply \n",
    "\n",
    "* Use the Sobol results with N=100"
   ]
  },
  {
   "cell_type": "code",
   "execution_count": 133,
   "metadata": {},
   "outputs": [
    {
     "name": "stderr",
     "output_type": "stream",
     "text": [
      "[MainProcess/INFO] performing 10000 scenarios * 1 policies * 1 model(s) = 10000 experiments\n",
      "[MainProcess/INFO] performing experiments sequentially\n",
      "[MainProcess/INFO] 1000 cases completed\n",
      "[MainProcess/INFO] 2000 cases completed\n",
      "[MainProcess/INFO] 3000 cases completed\n",
      "[MainProcess/INFO] 4000 cases completed\n",
      "[MainProcess/INFO] 5000 cases completed\n",
      "[MainProcess/INFO] 6000 cases completed\n",
      "[MainProcess/INFO] 7000 cases completed\n",
      "[MainProcess/INFO] 8000 cases completed\n",
      "[MainProcess/INFO] 9000 cases completed\n",
      "[MainProcess/INFO] 10000 cases completed\n",
      "[MainProcess/INFO] experiments finished\n"
     ]
    }
   ],
   "source": [
    "with SequentialEvaluator(model) as evaluator:\n",
    "    sa_results = evaluator.perform_experiments(scenarios=1000,\n",
    "                                               uncertainty_sampling=SOBOL)\n",
    "\n",
    "experiments, outcomes = sa_results"
   ]
  },
  {
   "cell_type": "code",
   "execution_count": 134,
   "metadata": {},
   "outputs": [],
   "source": [
    "for var in outcomes.keys():\n",
    "    outcomes[var] = outcomes[var][:,0,:]\n",
    "    \n",
    "y4 = outcomes[\"prey\"][:, -1]"
   ]
  },
  {
   "cell_type": "code",
   "execution_count": 194,
   "metadata": {},
   "outputs": [
    {
     "name": "stdout",
     "output_type": "stream",
     "text": [
      "Parameter S1 S1_conf ST ST_conf\n",
      "predation_rate -0.002546 0.031442 0.132785 0.027970\n",
      "predator_efficiency 0.407665 0.080675 0.809377 0.085459\n",
      "predator_loss_rate 0.079809 0.064969 0.585974 0.060971\n",
      "prey_birth_rate 0.030426 0.057928 0.511565 0.053232\n",
      "\n",
      "Parameter_1 Parameter_2 S2 S2_conf\n",
      "predation_rate predator_efficiency 0.009710 0.050339\n",
      "predation_rate predator_loss_rate 0.001582 0.046314\n",
      "predation_rate prey_birth_rate 0.009356 0.048024\n",
      "predator_efficiency predator_loss_rate -0.063009 0.100405\n",
      "predator_efficiency prey_birth_rate -0.049566 0.105206\n",
      "predator_loss_rate prey_birth_rate 0.064763 0.082352\n"
     ]
    }
   ],
   "source": [
    "problem = get_SALib_problem(model.uncertainties)\n",
    "Si = sobol.analyze(problem, y4,\n",
    "                   calc_second_order=True, print_to_console=True)"
   ]
  },
  {
   "cell_type": "code",
   "execution_count": 196,
   "metadata": {},
   "outputs": [
    {
     "data": {
      "text/plain": [
       "{'S1': array([-0.00254622,  0.40766452,  0.07980894,  0.03042556]),\n",
       " 'S1_conf': array([0.0314416 , 0.08067523, 0.0649693 , 0.05792755]),\n",
       " 'ST': array([0.13278521, 0.80937657, 0.58597417, 0.51156524]),\n",
       " 'ST_conf': array([0.02797011, 0.08545886, 0.06097092, 0.05323206]),\n",
       " 'S2': array([[        nan,  0.00971004,  0.00158206,  0.00935598],\n",
       "        [        nan,         nan, -0.06300859, -0.04956583],\n",
       "        [        nan,         nan,         nan,  0.0647626 ],\n",
       "        [        nan,         nan,         nan,         nan]]),\n",
       " 'S2_conf': array([[       nan, 0.05033914, 0.04631361, 0.04802437],\n",
       "        [       nan,        nan, 0.10040524, 0.10520601],\n",
       "        [       nan,        nan,        nan, 0.08235179],\n",
       "        [       nan,        nan,        nan,        nan]])}"
      ]
     },
     "execution_count": 196,
     "metadata": {},
     "output_type": "execute_result"
    }
   ],
   "source": [
    "Si"
   ]
  },
  {
   "cell_type": "code",
   "execution_count": 197,
   "metadata": {},
   "outputs": [
    {
     "ename": "IndexError",
     "evalue": "too many indices for array",
     "output_type": "error",
     "traceback": [
      "\u001b[1;31m---------------------------------------------------------------------------\u001b[0m",
      "\u001b[1;31mIndexError\u001b[0m                                Traceback (most recent call last)",
      "\u001b[1;32m<ipython-input-197-85b96286eb87>\u001b[0m in \u001b[0;36m<module>\u001b[1;34m()\u001b[0m\n\u001b[0;32m      3\u001b[0m \u001b[0mproblem\u001b[0m \u001b[1;33m=\u001b[0m \u001b[0mget_SALib_problem\u001b[0m\u001b[1;33m(\u001b[0m\u001b[0mmodel\u001b[0m\u001b[1;33m.\u001b[0m\u001b[0muncertainties\u001b[0m\u001b[1;33m)\u001b[0m\u001b[1;33m\u001b[0m\u001b[0m\n\u001b[0;32m      4\u001b[0m \u001b[1;33m\u001b[0m\u001b[0m\n\u001b[1;32m----> 5\u001b[1;33m \u001b[0my\u001b[0m \u001b[1;33m=\u001b[0m \u001b[0moutcomes\u001b[0m\u001b[1;33m[\u001b[0m\u001b[1;34m'prey'\u001b[0m\u001b[1;33m]\u001b[0m\u001b[1;33m[\u001b[0m\u001b[1;33m:\u001b[0m\u001b[1;33m,\u001b[0m\u001b[1;36m0\u001b[0m\u001b[1;33m,\u001b[0m\u001b[1;33m-\u001b[0m\u001b[1;36m1\u001b[0m\u001b[1;33m]\u001b[0m\u001b[1;33m\u001b[0m\u001b[0m\n\u001b[0m\u001b[0;32m      6\u001b[0m \u001b[1;33m\u001b[0m\u001b[0m\n\u001b[0;32m      7\u001b[0m \u001b[0msobol_indices\u001b[0m \u001b[1;33m=\u001b[0m \u001b[0msobol\u001b[0m\u001b[1;33m.\u001b[0m\u001b[0manalyze\u001b[0m\u001b[1;33m(\u001b[0m\u001b[0mproblem\u001b[0m\u001b[1;33m,\u001b[0m \u001b[0my\u001b[0m\u001b[1;33m)\u001b[0m\u001b[1;33m\u001b[0m\u001b[0m\n",
      "\u001b[1;31mIndexError\u001b[0m: too many indices for array"
     ]
    }
   ],
   "source": [
    "# import pandas as pd\n",
    "\n",
    "# problem = get_SALib_problem(model.uncertainties)\n",
    "\n",
    "# y = outcomes['prey'][:,0,-1]\n",
    "\n",
    "# sobol_indices = sobol.analyze(problem, y)\n",
    "# sobol_stats = {key: sobol_indices[key] for key in ['ST', 'ST_conf', 'S1','S1_conf']}\n",
    "# sobol_stats = pd.DataFrame(sobol_stats, index=problem['names'])\n",
    "# sobol_stats.sort_values(by='ST', ascending=False)"
   ]
  },
  {
   "cell_type": "code",
   "execution_count": 138,
   "metadata": {},
   "outputs": [
    {
     "data": {
      "image/png": "[encoded data removed]",
      "text/plain": [
       "<Figure size 576x432 with 1 Axes>"
      ]
     },
     "metadata": {},
     "output_type": "display_data"
    }
   ],
   "source": [
    "import seaborn as sns\n",
    "\n",
    "scores_filtered = {k:Si[k] for k in ['ST','ST_conf','S1','S1_conf']}\n",
    "Si_df = pd.DataFrame(scores_filtered, index=problem['names'])\n",
    "\n",
    "sns.set_style('white')\n",
    "fig, ax = plt.subplots(1)\n",
    "\n",
    "indices = Si_df[['S1','ST']]\n",
    "err = Si_df[['S1_conf','ST_conf']]\n",
    "\n",
    "indices.plot.bar(yerr=err.values.T,ax=ax)\n",
    "fig.set_size_inches(8,6)\n",
    "fig.subplots_adjust(bottom=0.3)\n",
    "plt.show()"
   ]
  },
  {
   "cell_type": "code",
   "execution_count": 121,
   "metadata": {},
   "outputs": [],
   "source": [
    "# def analyze(results, ooi):\n",
    "    '''analyze results using SALib sobol, returns a dataframe\n",
    "    '''\n",
    "\n",
    "    _, outcomes = results\n",
    "\n",
    "    problem = get_SALib_problem(model.uncertainties)\n",
    "    y = outcomes[ooi]\n",
    "    sobol_indices = sobol.analyze(problem, y)\n",
    "    sobol_stats = {key: sobol_indices[key] for key in ['ST', 'ST_conf', 'S1',\n",
    "                                                       'S1_conf']}\n",
    "    sobol_stats = pd.DataFrame(sobol_stats, index=problem['names'])\n",
    "    sobol_stats.sort_values(by='ST', ascending=False)\n",
    "    s2 = pd.DataFrame(sobol_indices['S2'], index=problem['names'],\n",
    "                      columns=problem['names'])\n",
    "    s2_conf = pd.DataFrame(sobol_indices['S2_conf'], index=problem['names'],\n",
    "                           columns=problem['names'])\n",
    "    \n",
    "    return sobol_stats, s2, s2_conf\n",
    "\n",
    "sobol_stats, s2, s2_conf = analyze(sa_results, 'prey')"
   ]
  },
  {
   "cell_type": "code",
   "execution_count": 172,
   "metadata": {},
   "outputs": [],
   "source": [
    "y5 = outcomes[\"prey\"][:, -1].astype(int)"
   ]
  },
  {
   "cell_type": "markdown",
   "metadata": {},
   "source": [
    "* Use the [Extra-Trees analysis](https://emaworkbench.readthedocs.io/en/latest/ema_documentation/analysis/feature_scoring.html) included in the Workbench to approximate the Sobol total indices, with a suitable sampling design. As a starting point, use an ensemble of 100 trees and a max_features parameter of 0.6, and set the analysis to regression mode. Are the estimated importances stable relative to the sample size and the analysis parameters? How do the results compare to the Sobol indices? For more details on this analysis see [Jaxa-Rozen & Kwakkel (2018)](https://www.sciencedirect.com/science/article/pii/S1364815217311581)"
   ]
  },
  {
   "cell_type": "code",
   "execution_count": 178,
   "metadata": {},
   "outputs": [
    {
     "name": "stderr",
     "output_type": "stream",
     "text": [
      "[MainProcess/INFO] policy dropped from analysis because only a single category\n",
      "[MainProcess/INFO] model dropped from analysis because only a single category\n"
     ]
    }
   ],
   "source": [
    "#If using classification you need integer\n",
    "#If you have floats you use regression, you are trying to estimate a numerical value\n",
    "\n",
    "scores, forest = feature_scoring.get_ex_feature_scores(experiments, y4, mode=RuleInductionType.REGRESSION, \n",
    "                                      nr_trees = 100, max_features = 0.6)"
   ]
  },
  {
   "cell_type": "code",
   "execution_count": 200,
   "metadata": {},
   "outputs": [
    {
     "data": {
      "text/html": [
       "<div>\n",
       "<style scoped>\n",
       "    .dataframe tbody tr th:only-of-type {\n",
       "        vertical-align: middle;\n",
       "    }\n",
       "\n",
       "    .dataframe tbody tr th {\n",
       "        vertical-align: top;\n",
       "    }\n",
       "\n",
       "    .dataframe thead th {\n",
       "        text-align: right;\n",
       "    }\n",
       "</style>\n",
       "<table border=\"1\" class=\"dataframe\">\n",
       "  <thead>\n",
       "    <tr style=\"text-align: right;\">\n",
       "      <th></th>\n",
       "      <th>1</th>\n",
       "    </tr>\n",
       "    <tr>\n",
       "      <th>0</th>\n",
       "      <th></th>\n",
       "    </tr>\n",
       "  </thead>\n",
       "  <tbody>\n",
       "    <tr>\n",
       "      <th>predator_efficiency</th>\n",
       "      <td>0.496306</td>\n",
       "    </tr>\n",
       "    <tr>\n",
       "      <th>prey_birth_rate</th>\n",
       "      <td>0.216707</td>\n",
       "    </tr>\n",
       "    <tr>\n",
       "      <th>predator_loss_rate</th>\n",
       "      <td>0.211350</td>\n",
       "    </tr>\n",
       "    <tr>\n",
       "      <th>predation_rate</th>\n",
       "      <td>0.049403</td>\n",
       "    </tr>\n",
       "    <tr>\n",
       "      <th>scenario</th>\n",
       "      <td>0.026234</td>\n",
       "    </tr>\n",
       "  </tbody>\n",
       "</table>\n",
       "</div>"
      ],
      "text/plain": [
       "                            1\n",
       "0                            \n",
       "predator_efficiency  0.496306\n",
       "prey_birth_rate      0.216707\n",
       "predator_loss_rate   0.211350\n",
       "predation_rate       0.049403\n",
       "scenario             0.026234"
      ]
     },
     "execution_count": 200,
     "metadata": {},
     "output_type": "execute_result"
    }
   ],
   "source": [
    "scores"
   ]
  }
 ],
 "metadata": {
  "kernelspec": {
   "display_name": "Python 3",
   "language": "python",
   "name": "python3"
  },
  "language_info": {
   "codemirror_mode": {
    "name": "ipython",
    "version": 3
   },
   "file_extension": ".py",
   "mimetype": "text/x-python",
   "name": "python",
   "nbconvert_exporter": "python",
   "pygments_lexer": "ipython3",
   "version": "3.6.5"
  }
 },
 "nbformat": 4,
 "nbformat_minor": 2
}
