{
 "cells": [
  {
   "cell_type": "code",
   "execution_count": 2,
   "metadata": {},
   "outputs": [
    {
     "name": "stderr",
     "output_type": "stream",
     "text": [
      "[NbConvertApp] Converting notebook visualization_functions.ipynb to script\n",
      "[NbConvertApp] Writing 5678 bytes to visualization_functions.py\n"
     ]
    }
   ],
   "source": [
    "!jupyter nbconvert --to script visualization_functions.ipynb"
   ]
  },
  {
   "cell_type": "code",
   "execution_count": null,
   "metadata": {},
   "outputs": [],
   "source": [
    "import numpy as np\n",
    "import scipy as sp\n",
    "import pandas as pd\n",
    "import matplotlib.pyplot as plt\n",
    "import seaborn as sns\n",
    "import time"
   ]
  },
  {
   "cell_type": "code",
   "execution_count": null,
   "metadata": {},
   "outputs": [],
   "source": [
    "from ema_workbench import (Model, CategoricalParameter,\n",
    "                           ScalarOutcome, IntegerParameter, RealParameter)\n",
    "\n",
    "from ema_workbench import (Model, MultiprocessingEvaluator, Policy, Scenario, SequentialEvaluator)\n",
    "\n",
    "from ema_workbench.em_framework.evaluators import perform_experiments, optimize\n",
    "from ema_workbench.em_framework.samplers import sample_uncertainties\n",
    "from ema_workbench.util import ema_logging, utilities\n",
    "\n",
    "ema_logging.log_to_stderr(ema_logging.INFO)"
   ]
  },
  {
   "cell_type": "code",
   "execution_count": null,
   "metadata": {},
   "outputs": [],
   "source": [
    "def histogram_maker(results, outcome, n = 3):\n",
    "    locations = [\"A.1\", \"A.2\", \"A.3\", \"A.4\", \"A.5\"]\n",
    "    colors = ['tab:red', 'tab:blue', 'tab:green', 'tab:pink', 'tab:olive']\n",
    "\n",
    "\n",
    "    print(\"Plot \" + str(outcome) + \"(Histogram)\")\n",
    "    for step in range(0, n):\n",
    "        print(\"This is timestep \" + str(step))\n",
    "        fig, axes = plt.subplots(1, 5, figsize=(10, 3))\n",
    "\n",
    "        for i, (ax, place) in enumerate(zip(axes.flatten(), locations)):\n",
    "            # ax.hist(results[str(place) + \"_Expected Annual Damage \" + str(step)], color=colors[i])\n",
    "            ax.hist(results[str(place) + \"_\" + str(outcome) + \" \" + str(step)], color=colors[i])\n",
    "            ax.set_xlim(left = 0)\n",
    "            ax.set_title(place)\n",
    "\n",
    "        plt.tight_layout()\n",
    "        plt.show()"
   ]
  },
  {
   "cell_type": "code",
   "execution_count": null,
   "metadata": {},
   "outputs": [],
   "source": [
    "# https://stackoverflow.com/a/56253636\n",
    "def legend_without_duplicate_labels(ax):\n",
    "    handles, labels = ax.get_legend_handles_labels()\n",
    "    unique = [(h, l) for i, (h, l) in enumerate(zip(handles, labels)) if l not in labels[:i]]\n",
    "    ax.legend(*zip(*unique))\n",
    "    \n",
    "def mean_outcomes(results):\n",
    "    # Get the mean for all the results across the scenarios to have a quick look at significant locations\n",
    "    mean_outcomes_df = results.iloc[:, 52:].apply(np.mean, axis = 0)\n",
    "    \n",
    "    locations = [\"A.1\", \"A.2\", \"A.3\", \"A.4\", \"A.5\"]\n",
    "    outcomes = [\"Expected Annual Damage\", \"Expected Number of Deaths\", \"Dike Investment Costs\", \"RfR Total Costs\"]\n",
    "    x = [0, 1, 2]\n",
    "\n",
    "    fig, axes = plt.subplots(ncols=2, nrows=2, figsize=(8,8), sharex=True)\n",
    "    axes = [axes[0,0],axes[0,1],axes[1,0],axes[1,1]]\n",
    "\n",
    "    for ax, criteria in zip(axes, outcomes):\n",
    "        for step in x:\n",
    "            for place in locations:\n",
    "                if criteria == \"RfR Total Costs\":\n",
    "                    ax.plot(step, mean_outcomes_df[[str(criteria) + \" \" + str(step)]].values[0], 'ro', c ='y')\n",
    "                else:\n",
    "                    if place == \"A.1\":\n",
    "                        ax.plot(step, mean_outcomes_df[[str(place) + \"_\" + str(criteria) + \" \" + str(step)]].values[0], \n",
    "                                'ro', c=\"b\", label = \"A.1\")\n",
    "                    elif place == \"A.2\":\n",
    "                        ax.plot(step, mean_outcomes_df[[str(place) + \"_\" + str(criteria) + \" \" + str(step)]].values[0], \n",
    "                                'ro', c=\"r\", label = \"A.2\")\n",
    "                    elif place == \"A.3\":\n",
    "                        ax.plot(step, mean_outcomes_df[[str(place) + \"_\" + str(criteria) + \" \" + str(step)]].values[0], \n",
    "                                'ro', c=\"g\", label = \"A.3\")\n",
    "                    elif place == \"A.4\":\n",
    "                        ax.plot(step, mean_outcomes_df[[str(place) + \"_\" + str(criteria) + \" \" + str(step)]].values[0], \n",
    "                                'ro', c=\"m\", label = \"A.4\")\n",
    "                    elif place == \"A.5\":\n",
    "                        ax.plot(step, mean_outcomes_df[[str(place) + \"_\" + str(criteria) + \" \" + str(step)]].values[0], \n",
    "                                'ro', c=\"c\", label = \"A.5\")\n",
    "\n",
    "        ax.set_xlabel(\"Time Steps\")\n",
    "        ax.set_ylabel(criteria)\n",
    "        ax.set_title(str(criteria) + \" over the locations\", y = 1.1)\n",
    "        legend_without_duplicate_labels(ax)\n",
    "\n",
    "\n",
    "    plt.tight_layout()\n",
    "    plt.show()"
   ]
  },
  {
   "cell_type": "code",
   "execution_count": null,
   "metadata": {},
   "outputs": [],
   "source": [
    "def aggregate_outcomes(results, outcome):\n",
    "    list_outcomes_columns = []\n",
    "    \n",
    "    for i in results.columns:\n",
    "        if outcome in i:\n",
    "            list_outcomes_columns.append(i)\n",
    "            \n",
    "    results[\"Total \" + str(outcome)] = results[list_outcomes_columns].sum(axis = 1)"
   ]
  },
  {
   "cell_type": "code",
   "execution_count": null,
   "metadata": {},
   "outputs": [],
   "source": [
    "def scatter_maker(results, outcome, n = 3):\n",
    "    locations = [\"A.1\", \"A.2\", \"A.3\", \"A.4\", \"A.5\"]\n",
    "    \n",
    "    print(\"Plot \" + str(outcome) + \"(Scatterplot)\")\n",
    "    for step in range(0, n):\n",
    "        print(\"This is timestep \" + str(step))\n",
    "        fig, axes = plt.subplots(1, 5, figsize=(15, 4))\n",
    "\n",
    "        for i, (ax, place) in enumerate(zip(axes.flatten(), locations)):\n",
    "            plt.sca(ax)\n",
    "            \n",
    "            if i != 4:\n",
    "                ax = sns.scatterplot(x=\"scenario\", y=(str(place) + \"_\" + str(outcome) + \" \" + str(step)), hue=\"policy\",\n",
    "                          data=results, legend = False)\n",
    "            else:\n",
    "                ax = sns.scatterplot(x=\"scenario\", y=(str(place) + \"_\" + str(outcome) + \" \" + str(step)), hue=\"policy\",\n",
    "                          data=results)\n",
    "                ax.legend(loc = 'upper right', bbox_to_anchor=(2, 1), fontsize = 8)\n",
    "\n",
    "            ax.set_xlim(left = 0)\n",
    "            ax.set_title(place)\n",
    "\n",
    "        plt.tight_layout()\n",
    "        plt.show()\n",
    "#         plt.legend()"
   ]
  },
  {
   "cell_type": "code",
   "execution_count": null,
   "metadata": {},
   "outputs": [],
   "source": [
    "def pairplot_maker(results, location, n = 3):\n",
    "    list_loc = []\n",
    "\n",
    "    for i in results.columns:\n",
    "        if location in i:\n",
    "            list_loc.append(i)\n",
    "            \n",
    "    # TO-DO:        \n",
    "    # Add other uncertentainties which do not have A.1 in name, like discount rate and flow.. \n",
    "    list_loc.append(\"policy\")\n",
    "    \n",
    "    sns.pairplot(results[list_loc], hue='policy',  vars=results[list_loc].iloc[:, 6:-1].keys(), )\n",
    "    plt.tight_layout()\n",
    "    plt.show()"
   ]
  }
 ],
 "metadata": {
  "kernelspec": {
   "display_name": "Python 3",
   "language": "python",
   "name": "python3"
  },
  "language_info": {
   "codemirror_mode": {
    "name": "ipython",
    "version": 3
   },
   "file_extension": ".py",
   "mimetype": "text/x-python",
   "name": "python",
   "nbconvert_exporter": "python",
   "pygments_lexer": "ipython3",
   "version": "3.6.5"
  }
 },
 "nbformat": 4,
 "nbformat_minor": 2
}
