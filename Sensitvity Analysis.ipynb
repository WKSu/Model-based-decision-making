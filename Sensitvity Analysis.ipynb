{
 "cells": [
  {
   "cell_type": "code",
   "execution_count": null,
   "metadata": {},
   "outputs": [],
   "source": [
    "def feature_score_maker(experiments, outcomes, location):\n",
    "    experiments = experiments.iloc[:, 20:].drop('model', axis = 1)\n",
    "    \n",
    "    list_levers = []\n",
    "    n = int(location[-1]) - 1\n",
    "    \n",
    "    for i in experiments.columns:\n",
    "        if location in i:\n",
    "            list_levers.append(i)\n",
    "        elif \"RfR\" in i:\n",
    "            if str(n) in i:\n",
    "                list_levers.append(i)\n",
    "        elif \"EWS\" in i:\n",
    "            list_levers.append(i)\n",
    "            \n",
    "    \n",
    "    x = experiments[list_levers]\n",
    "    y = outcomes\n",
    "    \n",
    "    fs = feature_scoring.get_feature_scores_all(x, y)\n",
    "    fig = plt.subplots(figsize=(20,10))\n",
    "    \n",
    "    sns.heatmap(fs, cmap='viridis')\n",
    "    plt.show()"
   ]
  }
 ],
 "metadata": {
  "kernelspec": {
   "display_name": "Python 3",
   "language": "python",
   "name": "python3"
  },
  "language_info": {
   "codemirror_mode": {
    "name": "ipython",
    "version": 3
   },
   "file_extension": ".py",
   "mimetype": "text/x-python",
   "name": "python",
   "nbconvert_exporter": "python",
   "pygments_lexer": "ipython3",
   "version": "3.6.5"
  }
 },
 "nbformat": 4,
 "nbformat_minor": 2
}
